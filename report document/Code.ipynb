{
 "cells": [
  {
   "cell_type": "markdown",
   "metadata": {
    "colab_type": "text",
    "id": "SvPQAWreT63x"
   },
   "source": [
    "# Udacity Capstone Project"
   ]
  },
  {
   "cell_type": "markdown",
   "metadata": {
    "colab_type": "text",
    "id": "le3WdOCST7Xm"
   },
   "source": [
    "## EEG signal Based Eye State Classification"
   ]
  },
  {
   "cell_type": "markdown",
   "metadata": {
    "colab_type": "text",
    "id": "ZtrY0ulL5Zl2"
   },
   "source": [
    "### Loading the files in Google colab"
   ]
  },
  {
   "cell_type": "code",
   "execution_count": 0,
   "metadata": {
    "colab": {
     "autoexec": {
      "startup": false,
      "wait_interval": 0
     }
    },
    "colab_type": "code",
    "id": "i2QS1zSNfF8k"
   },
   "outputs": [],
   "source": [
    "# You can skip this step if you are training on local System\n",
    "\n",
    "!pip install -U -q PyDrive\n",
    "from pydrive.auth import GoogleAuth\n",
    "from pydrive.drive import GoogleDrive\n",
    "from google.colab import auth\n",
    "from oauth2client.client import GoogleCredentials\n",
    "\n",
    "auth.authenticate_user()\n",
    "gauth = GoogleAuth()\n",
    "gauth.credentials = GoogleCredentials.get_application_default()\n",
    "drive = GoogleDrive(gauth)\n",
    "\n",
    "fid = drive.ListFile({'q':\"title='EEG Eye State.txt'\"}).GetList()[0]['id']\n",
    "f = drive.CreateFile({'id': fid})\n",
    "f.GetContentFile('EEG Eye State.txt')"
   ]
  },
  {
   "cell_type": "code",
   "execution_count": 0,
   "metadata": {
    "colab": {
     "autoexec": {
      "startup": false,
      "wait_interval": 0
     }
    },
    "colab_type": "code",
    "id": "60hZQgdqflKU"
   },
   "outputs": [],
   "source": [
    "# Loading the dataset\n",
    "\n",
    "fname = \"EEG Eye State.txt\"\n",
    "with open(fname) as f:\n",
    "    content = f.readlines()\n",
    "\n",
    "content = [x.strip() for x in content] \n",
    "content = [x.split(\",\") for x in content]"
   ]
  },
  {
   "cell_type": "code",
   "execution_count": 0,
   "metadata": {
    "colab": {
     "autoexec": {
      "startup": false,
      "wait_interval": 0
     }
    },
    "colab_type": "code",
    "id": "aYVDStrLgnid"
   },
   "outputs": [],
   "source": [
    "# Converting list to numpy array\n",
    "\n",
    "import numpy as np\n",
    "\n",
    "content = np.array(content, dtype = 'float32')"
   ]
  },
  {
   "cell_type": "code",
   "execution_count": 0,
   "metadata": {
    "colab": {
     "autoexec": {
      "startup": false,
      "wait_interval": 0
     }
    },
    "colab_type": "code",
    "id": "W1m_uyCfse2y"
   },
   "outputs": [],
   "source": [
    "# Shuffling the dataset\n",
    "\n",
    "import random\n",
    "random.shuffle(content)"
   ]
  },
  {
   "cell_type": "code",
   "execution_count": 0,
   "metadata": {
    "colab": {
     "autoexec": {
      "startup": false,
      "wait_interval": 0
     }
    },
    "colab_type": "code",
    "id": "LwqzamB1XFmk"
   },
   "outputs": [],
   "source": [
    "# Storing results of algorithms\n",
    "score_p = []"
   ]
  },
  {
   "cell_type": "markdown",
   "metadata": {
    "colab_type": "text",
    "id": "S41pxHVJ5epZ"
   },
   "source": [
    "### Creating X and Y"
   ]
  },
  {
   "cell_type": "code",
   "execution_count": 0,
   "metadata": {
    "colab": {
     "autoexec": {
      "startup": false,
      "wait_interval": 0
     }
    },
    "colab_type": "code",
    "id": "DjnxZvhpgqKy"
   },
   "outputs": [],
   "source": [
    "x = content[:, :-1]\n",
    "y = np.array(content[:, -1], dtype = 'int32')"
   ]
  },
  {
   "cell_type": "code",
   "execution_count": 128,
   "metadata": {
    "colab": {
     "autoexec": {
      "startup": false,
      "wait_interval": 0
     },
     "base_uri": "https://localhost:8080/",
     "height": 73
    },
    "colab_type": "code",
    "executionInfo": {
     "elapsed": 866,
     "status": "ok",
     "timestamp": 1528838208612,
     "user": {
      "displayName": "SHUBHAM VERMA",
      "photoUrl": "https://lh3.googleusercontent.com/a/default-user=s128",
      "userId": "108363614808362191748"
     },
     "user_tz": -330
    },
    "id": "BVr2ve7Ckp1U",
    "outputId": "0c09278d-c6db-4414-803b-8afb7c6a736e"
   },
   "outputs": [
    {
     "data": {
      "text/plain": [
       "array([4329.23, 4009.23, 4289.23, 4148.21, 4350.26, 4586.15, 4096.92,\n",
       "       4641.03, 4222.05, 4238.46, 4211.28, 4280.51, 4635.9 , 4393.85],\n",
       "      dtype=float32)"
      ]
     },
     "execution_count": 128,
     "metadata": {
      "tags": []
     },
     "output_type": "execute_result"
    }
   ],
   "source": [
    "x[0]"
   ]
  },
  {
   "cell_type": "code",
   "execution_count": 129,
   "metadata": {
    "colab": {
     "autoexec": {
      "startup": false,
      "wait_interval": 0
     },
     "base_uri": "https://localhost:8080/",
     "height": 36
    },
    "colab_type": "code",
    "executionInfo": {
     "elapsed": 775,
     "status": "ok",
     "timestamp": 1528838211087,
     "user": {
      "displayName": "SHUBHAM VERMA",
      "photoUrl": "https://lh3.googleusercontent.com/a/default-user=s128",
      "userId": "108363614808362191748"
     },
     "user_tz": -330
    },
    "id": "JTySF2jYUyrO",
    "outputId": "2bef2805-02bb-4180-f6c9-397f60175b41"
   },
   "outputs": [
    {
     "data": {
      "text/plain": [
       "0"
      ]
     },
     "execution_count": 129,
     "metadata": {
      "tags": []
     },
     "output_type": "execute_result"
    }
   ],
   "source": [
    "y[0]"
   ]
  },
  {
   "cell_type": "markdown",
   "metadata": {
    "colab_type": "text",
    "id": "X1tcVoh6kq9p"
   },
   "source": [
    "# Statistical Features approach"
   ]
  },
  {
   "cell_type": "markdown",
   "metadata": {
    "colab_type": "text",
    "id": "Ie0mMLieqB2t"
   },
   "source": [
    "## Data Preparation"
   ]
  },
  {
   "cell_type": "code",
   "execution_count": 0,
   "metadata": {
    "colab": {
     "autoexec": {
      "startup": false,
      "wait_interval": 0
     }
    },
    "colab_type": "code",
    "id": "Tw8m8Wsklewm"
   },
   "outputs": [],
   "source": [
    "import pandas as pd\n",
    "import numpy as np\n",
    "import scipy"
   ]
  },
  {
   "cell_type": "code",
   "execution_count": 0,
   "metadata": {
    "colab": {
     "autoexec": {
      "startup": false,
      "wait_interval": 0
     }
    },
    "colab_type": "code",
    "id": "CkOJrTBwkqQG"
   },
   "outputs": [],
   "source": [
    "X_columns = ['mean', 'standard deviation', 'kurt', 'skewness']\n",
    "Y_columns = ['label']"
   ]
  },
  {
   "cell_type": "code",
   "execution_count": 0,
   "metadata": {
    "colab": {
     "autoexec": {
      "startup": false,
      "wait_interval": 0
     }
    },
    "colab_type": "code",
    "id": "zlMuSMqSkqUJ"
   },
   "outputs": [],
   "source": [
    "X = pd.DataFrame(columns = X_columns)\n",
    "Y = pd.DataFrame(columns = Y_columns)"
   ]
  },
  {
   "cell_type": "code",
   "execution_count": 0,
   "metadata": {
    "colab": {
     "autoexec": {
      "startup": false,
      "wait_interval": 0
     }
    },
    "colab_type": "code",
    "id": "-SkGMSZHkqOF"
   },
   "outputs": [],
   "source": [
    "for i in range(len(x)):\n",
    "  X.loc[i] = np.array([np.mean(x[i]), np.std(x[i]), scipy.stats.kurtosis(x[i]), scipy.stats.skew(x[i])])\n",
    "  Y.loc[i] = y[i]"
   ]
  },
  {
   "cell_type": "code",
   "execution_count": 134,
   "metadata": {
    "colab": {
     "autoexec": {
      "startup": false,
      "wait_interval": 0
     },
     "base_uri": "https://localhost:8080/",
     "height": 677
    },
    "colab_type": "code",
    "executionInfo": {
     "elapsed": 794,
     "status": "ok",
     "timestamp": 1528838298864,
     "user": {
      "displayName": "SHUBHAM VERMA",
      "photoUrl": "https://lh3.googleusercontent.com/a/default-user=s128",
      "userId": "108363614808362191748"
     },
     "user_tz": -330
    },
    "id": "kkpqklZPowkK",
    "outputId": "34ee5ed1-0bdf-4d6f-91f1-6d4f7958235f"
   },
   "outputs": [
    {
     "data": {
      "text/html": [
       "<div>\n",
       "<style scoped>\n",
       "    .dataframe tbody tr th:only-of-type {\n",
       "        vertical-align: middle;\n",
       "    }\n",
       "\n",
       "    .dataframe tbody tr th {\n",
       "        vertical-align: top;\n",
       "    }\n",
       "\n",
       "    .dataframe thead th {\n",
       "        text-align: right;\n",
       "    }\n",
       "</style>\n",
       "<table border=\"1\" class=\"dataframe\">\n",
       "  <thead>\n",
       "    <tr style=\"text-align: right;\">\n",
       "      <th></th>\n",
       "      <th>mean</th>\n",
       "      <th>standard deviation</th>\n",
       "      <th>kurt</th>\n",
       "      <th>skewness</th>\n",
       "    </tr>\n",
       "  </thead>\n",
       "  <tbody>\n",
       "    <tr>\n",
       "      <th>0</th>\n",
       "      <td>4316.593750</td>\n",
       "      <td>186.395279</td>\n",
       "      <td>-0.686817</td>\n",
       "      <td>0.439234</td>\n",
       "    </tr>\n",
       "    <tr>\n",
       "      <th>1</th>\n",
       "      <td>4312.748535</td>\n",
       "      <td>186.797379</td>\n",
       "      <td>-0.673855</td>\n",
       "      <td>0.459162</td>\n",
       "    </tr>\n",
       "    <tr>\n",
       "      <th>2</th>\n",
       "      <td>4312.748535</td>\n",
       "      <td>186.797379</td>\n",
       "      <td>-0.673855</td>\n",
       "      <td>0.459162</td>\n",
       "    </tr>\n",
       "    <tr>\n",
       "      <th>3</th>\n",
       "      <td>4312.748535</td>\n",
       "      <td>186.797379</td>\n",
       "      <td>-0.673855</td>\n",
       "      <td>0.459162</td>\n",
       "    </tr>\n",
       "    <tr>\n",
       "      <th>4</th>\n",
       "      <td>4316.189941</td>\n",
       "      <td>184.204300</td>\n",
       "      <td>-0.716226</td>\n",
       "      <td>0.414606</td>\n",
       "    </tr>\n",
       "    <tr>\n",
       "      <th>5</th>\n",
       "      <td>4312.160645</td>\n",
       "      <td>184.608978</td>\n",
       "      <td>-0.693921</td>\n",
       "      <td>0.443294</td>\n",
       "    </tr>\n",
       "    <tr>\n",
       "      <th>6</th>\n",
       "      <td>4312.748535</td>\n",
       "      <td>186.797379</td>\n",
       "      <td>-0.673855</td>\n",
       "      <td>0.459162</td>\n",
       "    </tr>\n",
       "    <tr>\n",
       "      <th>7</th>\n",
       "      <td>4316.227051</td>\n",
       "      <td>183.612762</td>\n",
       "      <td>-0.696899</td>\n",
       "      <td>0.422589</td>\n",
       "    </tr>\n",
       "    <tr>\n",
       "      <th>8</th>\n",
       "      <td>4312.160645</td>\n",
       "      <td>184.608978</td>\n",
       "      <td>-0.693921</td>\n",
       "      <td>0.443294</td>\n",
       "    </tr>\n",
       "    <tr>\n",
       "      <th>9</th>\n",
       "      <td>4307.143555</td>\n",
       "      <td>183.993057</td>\n",
       "      <td>-0.686661</td>\n",
       "      <td>0.435931</td>\n",
       "    </tr>\n",
       "    <tr>\n",
       "      <th>10</th>\n",
       "      <td>4307.143555</td>\n",
       "      <td>183.993057</td>\n",
       "      <td>-0.686661</td>\n",
       "      <td>0.435931</td>\n",
       "    </tr>\n",
       "    <tr>\n",
       "      <th>11</th>\n",
       "      <td>4300.036621</td>\n",
       "      <td>184.229202</td>\n",
       "      <td>-0.721467</td>\n",
       "      <td>0.474390</td>\n",
       "    </tr>\n",
       "    <tr>\n",
       "      <th>12</th>\n",
       "      <td>4307.143555</td>\n",
       "      <td>183.993057</td>\n",
       "      <td>-0.686661</td>\n",
       "      <td>0.435931</td>\n",
       "    </tr>\n",
       "    <tr>\n",
       "      <th>13</th>\n",
       "      <td>4316.227051</td>\n",
       "      <td>183.612762</td>\n",
       "      <td>-0.696899</td>\n",
       "      <td>0.422589</td>\n",
       "    </tr>\n",
       "    <tr>\n",
       "      <th>14</th>\n",
       "      <td>4300.036621</td>\n",
       "      <td>184.229202</td>\n",
       "      <td>-0.721467</td>\n",
       "      <td>0.474390</td>\n",
       "    </tr>\n",
       "    <tr>\n",
       "      <th>15</th>\n",
       "      <td>4302.344238</td>\n",
       "      <td>185.532516</td>\n",
       "      <td>-0.719003</td>\n",
       "      <td>0.481021</td>\n",
       "    </tr>\n",
       "    <tr>\n",
       "      <th>16</th>\n",
       "      <td>4316.227051</td>\n",
       "      <td>183.612762</td>\n",
       "      <td>-0.696899</td>\n",
       "      <td>0.422589</td>\n",
       "    </tr>\n",
       "    <tr>\n",
       "      <th>17</th>\n",
       "      <td>4297.360840</td>\n",
       "      <td>185.055405</td>\n",
       "      <td>-0.704686</td>\n",
       "      <td>0.497390</td>\n",
       "    </tr>\n",
       "    <tr>\n",
       "      <th>18</th>\n",
       "      <td>4303.917969</td>\n",
       "      <td>185.143890</td>\n",
       "      <td>-0.711733</td>\n",
       "      <td>0.475173</td>\n",
       "    </tr>\n",
       "    <tr>\n",
       "      <th>19</th>\n",
       "      <td>4302.344238</td>\n",
       "      <td>185.532516</td>\n",
       "      <td>-0.719003</td>\n",
       "      <td>0.481021</td>\n",
       "    </tr>\n",
       "  </tbody>\n",
       "</table>\n",
       "</div>"
      ],
      "text/plain": [
       "           mean  standard deviation      kurt  skewness\n",
       "0   4316.593750          186.395279 -0.686817  0.439234\n",
       "1   4312.748535          186.797379 -0.673855  0.459162\n",
       "2   4312.748535          186.797379 -0.673855  0.459162\n",
       "3   4312.748535          186.797379 -0.673855  0.459162\n",
       "4   4316.189941          184.204300 -0.716226  0.414606\n",
       "5   4312.160645          184.608978 -0.693921  0.443294\n",
       "6   4312.748535          186.797379 -0.673855  0.459162\n",
       "7   4316.227051          183.612762 -0.696899  0.422589\n",
       "8   4312.160645          184.608978 -0.693921  0.443294\n",
       "9   4307.143555          183.993057 -0.686661  0.435931\n",
       "10  4307.143555          183.993057 -0.686661  0.435931\n",
       "11  4300.036621          184.229202 -0.721467  0.474390\n",
       "12  4307.143555          183.993057 -0.686661  0.435931\n",
       "13  4316.227051          183.612762 -0.696899  0.422589\n",
       "14  4300.036621          184.229202 -0.721467  0.474390\n",
       "15  4302.344238          185.532516 -0.719003  0.481021\n",
       "16  4316.227051          183.612762 -0.696899  0.422589\n",
       "17  4297.360840          185.055405 -0.704686  0.497390\n",
       "18  4303.917969          185.143890 -0.711733  0.475173\n",
       "19  4302.344238          185.532516 -0.719003  0.481021"
      ]
     },
     "execution_count": 134,
     "metadata": {
      "tags": []
     },
     "output_type": "execute_result"
    }
   ],
   "source": [
    "X.head(n=20)"
   ]
  },
  {
   "cell_type": "code",
   "execution_count": 135,
   "metadata": {
    "colab": {
     "autoexec": {
      "startup": false,
      "wait_interval": 0
     },
     "base_uri": "https://localhost:8080/",
     "height": 206
    },
    "colab_type": "code",
    "executionInfo": {
     "elapsed": 800,
     "status": "ok",
     "timestamp": 1528838301215,
     "user": {
      "displayName": "SHUBHAM VERMA",
      "photoUrl": "https://lh3.googleusercontent.com/a/default-user=s128",
      "userId": "108363614808362191748"
     },
     "user_tz": -330
    },
    "id": "Exz5fojXo1ZD",
    "outputId": "c19aff3b-9f82-4c35-d727-b348bc0e78a2"
   },
   "outputs": [
    {
     "data": {
      "text/html": [
       "<div>\n",
       "<style scoped>\n",
       "    .dataframe tbody tr th:only-of-type {\n",
       "        vertical-align: middle;\n",
       "    }\n",
       "\n",
       "    .dataframe tbody tr th {\n",
       "        vertical-align: top;\n",
       "    }\n",
       "\n",
       "    .dataframe thead th {\n",
       "        text-align: right;\n",
       "    }\n",
       "</style>\n",
       "<table border=\"1\" class=\"dataframe\">\n",
       "  <thead>\n",
       "    <tr style=\"text-align: right;\">\n",
       "      <th></th>\n",
       "      <th>label</th>\n",
       "    </tr>\n",
       "  </thead>\n",
       "  <tbody>\n",
       "    <tr>\n",
       "      <th>0</th>\n",
       "      <td>0</td>\n",
       "    </tr>\n",
       "    <tr>\n",
       "      <th>1</th>\n",
       "      <td>0</td>\n",
       "    </tr>\n",
       "    <tr>\n",
       "      <th>2</th>\n",
       "      <td>0</td>\n",
       "    </tr>\n",
       "    <tr>\n",
       "      <th>3</th>\n",
       "      <td>0</td>\n",
       "    </tr>\n",
       "    <tr>\n",
       "      <th>4</th>\n",
       "      <td>0</td>\n",
       "    </tr>\n",
       "  </tbody>\n",
       "</table>\n",
       "</div>"
      ],
      "text/plain": [
       "  label\n",
       "0     0\n",
       "1     0\n",
       "2     0\n",
       "3     0\n",
       "4     0"
      ]
     },
     "execution_count": 135,
     "metadata": {
      "tags": []
     },
     "output_type": "execute_result"
    }
   ],
   "source": [
    "Y.head()"
   ]
  },
  {
   "cell_type": "code",
   "execution_count": 0,
   "metadata": {
    "colab": {
     "autoexec": {
      "startup": false,
      "wait_interval": 0
     }
    },
    "colab_type": "code",
    "id": "ZNr_a9BSpe2M"
   },
   "outputs": [],
   "source": [
    "from sklearn.model_selection import train_test_split\n",
    "\n",
    "# Split the 'features' and 'income' data into training and testing sets\n",
    "X_train1, X_test1, y_train1, y_test1 = train_test_split(X, \n",
    "                                                    y, \n",
    "                                                    test_size = 0.2, \n",
    "                                                    random_state = 0)\n",
    "\n"
   ]
  },
  {
   "cell_type": "markdown",
   "metadata": {
    "colab_type": "text",
    "id": "tOVKmTlm975G"
   },
   "source": [
    "## Training on SVM"
   ]
  },
  {
   "cell_type": "code",
   "execution_count": 137,
   "metadata": {
    "colab": {
     "autoexec": {
      "startup": false,
      "wait_interval": 0
     },
     "base_uri": "https://localhost:8080/",
     "height": 91
    },
    "colab_type": "code",
    "executionInfo": {
     "elapsed": 8633,
     "status": "ok",
     "timestamp": 1528838313637,
     "user": {
      "displayName": "SHUBHAM VERMA",
      "photoUrl": "https://lh3.googleusercontent.com/a/default-user=s128",
      "userId": "108363614808362191748"
     },
     "user_tz": -330
    },
    "id": "paKVcOIqpe6R",
    "outputId": "ca6c31e3-be10-4883-d6a3-34a28b6187d4"
   },
   "outputs": [
    {
     "data": {
      "text/plain": [
       "SVC(C=1.0, cache_size=200, class_weight=None, coef0=0.0,\n",
       "  decision_function_shape='ovr', degree=3, gamma='auto', kernel='rbf',\n",
       "  max_iter=-1, probability=False, random_state=None, shrinking=True,\n",
       "  tol=0.001, verbose=False)"
      ]
     },
     "execution_count": 137,
     "metadata": {
      "tags": []
     },
     "output_type": "execute_result"
    }
   ],
   "source": [
    "from sklearn.svm import SVC\n",
    "clf = SVC()\n",
    "clf.fit(X_train1, y_train1) "
   ]
  },
  {
   "cell_type": "code",
   "execution_count": 0,
   "metadata": {
    "colab": {
     "autoexec": {
      "startup": false,
      "wait_interval": 0
     }
    },
    "colab_type": "code",
    "id": "cFTjEv8wpezm"
   },
   "outputs": [],
   "source": [
    "predicted = clf.predict(X_test1)"
   ]
  },
  {
   "cell_type": "code",
   "execution_count": 0,
   "metadata": {
    "colab": {
     "autoexec": {
      "startup": false,
      "wait_interval": 0
     }
    },
    "colab_type": "code",
    "id": "ctpAFaeo8y5u"
   },
   "outputs": [],
   "source": [
    "from sklearn import metrics"
   ]
  },
  {
   "cell_type": "markdown",
   "metadata": {
    "colab_type": "text",
    "id": "fA32BmL1VHdS"
   },
   "source": [
    "### Performance"
   ]
  },
  {
   "cell_type": "code",
   "execution_count": 181,
   "metadata": {
    "colab": {
     "autoexec": {
      "startup": false,
      "wait_interval": 0
     },
     "base_uri": "https://localhost:8080/",
     "height": 91
    },
    "colab_type": "code",
    "executionInfo": {
     "elapsed": 685,
     "status": "ok",
     "timestamp": 1528839731562,
     "user": {
      "displayName": "SHUBHAM VERMA",
      "photoUrl": "https://lh3.googleusercontent.com/a/default-user=s128",
      "userId": "108363614808362191748"
     },
     "user_tz": -330
    },
    "id": "gaISrM048y2n",
    "outputId": "2aa18b1b-4dc3-4892-9026-4eda9fae30ed"
   },
   "outputs": [
    {
     "name": "stdout",
     "output_type": "stream",
     "text": [
      "Accuracy = 0.6989319092122831\n",
      "Precision = 0.7059190031152648\n",
      "Recall = 0.7248880358285349\n",
      "F1 Score = 0.7152777777777777\n"
     ]
    }
   ],
   "source": [
    "print(\"Accuracy = {}\\nPrecision = {}\\nRecall = {}\\nF1 Score = {}\".format(metrics.accuracy_score(y_test1, predicted), metrics.precision_score(y_test1, predicted),metrics.recall_score(y_test1, predicted),metrics.f1_score(y_test1, predicted)))\n",
    "\n",
    "score_p.append([metrics.accuracy_score(y_test1, predicted), metrics.precision_score(y_test1, predicted),metrics.recall_score(y_test1, predicted),metrics.f1_score(y_test1, predicted)]) \n"
   ]
  },
  {
   "cell_type": "code",
   "execution_count": 0,
   "metadata": {
    "colab": {
     "autoexec": {
      "startup": false,
      "wait_interval": 0
     }
    },
    "colab_type": "code",
    "id": "q4u3LnbbsNR8"
   },
   "outputs": [],
   "source": []
  },
  {
   "cell_type": "markdown",
   "metadata": {
    "colab_type": "text",
    "id": "aDvHS8kU-JUh"
   },
   "source": [
    "## Training on Logistic Regression"
   ]
  },
  {
   "cell_type": "code",
   "execution_count": 0,
   "metadata": {
    "colab": {
     "autoexec": {
      "startup": false,
      "wait_interval": 0
     }
    },
    "colab_type": "code",
    "id": "pc4_RzElmvdZ"
   },
   "outputs": [],
   "source": [
    "from sklearn.linear_model import LogisticRegression"
   ]
  },
  {
   "cell_type": "code",
   "execution_count": 142,
   "metadata": {
    "colab": {
     "autoexec": {
      "startup": false,
      "wait_interval": 0
     },
     "base_uri": "https://localhost:8080/",
     "height": 111
    },
    "colab_type": "code",
    "executionInfo": {
     "elapsed": 784,
     "status": "ok",
     "timestamp": 1528838337090,
     "user": {
      "displayName": "SHUBHAM VERMA",
      "photoUrl": "https://lh3.googleusercontent.com/a/default-user=s128",
      "userId": "108363614808362191748"
     },
     "user_tz": -330
    },
    "id": "ckjIJXyF-ccn",
    "outputId": "78bef499-c8ab-4d1d-c214-27c21dab3041"
   },
   "outputs": [
    {
     "data": {
      "text/plain": [
       "LogisticRegression(C=1.0, class_weight=None, dual=False, fit_intercept=True,\n",
       "          intercept_scaling=1, max_iter=100, multi_class='ovr', n_jobs=1,\n",
       "          penalty='l2', random_state=None, solver='liblinear', tol=0.0001,\n",
       "          verbose=0, warm_start=False)"
      ]
     },
     "execution_count": 142,
     "metadata": {
      "tags": []
     },
     "output_type": "execute_result"
    }
   ],
   "source": [
    "clf_D = LogisticRegression()\n",
    "clf_D.fit(X_train1, y_train1)\n"
   ]
  },
  {
   "cell_type": "code",
   "execution_count": 0,
   "metadata": {
    "colab": {
     "autoexec": {
      "startup": false,
      "wait_interval": 0
     }
    },
    "colab_type": "code",
    "id": "PGT09n8G_U0e"
   },
   "outputs": [],
   "source": [
    "predict = clf_D.predict(X_test1)\n"
   ]
  },
  {
   "cell_type": "markdown",
   "metadata": {
    "colab_type": "text",
    "id": "1cch7p1zVPCO"
   },
   "source": [
    "### Performance"
   ]
  },
  {
   "cell_type": "code",
   "execution_count": 182,
   "metadata": {
    "colab": {
     "autoexec": {
      "startup": false,
      "wait_interval": 0
     },
     "base_uri": "https://localhost:8080/",
     "height": 91
    },
    "colab_type": "code",
    "executionInfo": {
     "elapsed": 1016,
     "status": "ok",
     "timestamp": 1528839743803,
     "user": {
      "displayName": "SHUBHAM VERMA",
      "photoUrl": "https://lh3.googleusercontent.com/a/default-user=s128",
      "userId": "108363614808362191748"
     },
     "user_tz": -330
    },
    "id": "Phhv-p2p_VAk",
    "outputId": "db3f9548-72c9-4c7e-8f49-77983a4ec9d5"
   },
   "outputs": [
    {
     "name": "stdout",
     "output_type": "stream",
     "text": [
      "Accuracy = 0.5240320427236315\n",
      "Precision = 0.5404607206142942\n",
      "Recall = 0.5854126679462572\n",
      "F1 Score = 0.5620393120393121\n"
     ]
    }
   ],
   "source": [
    "print(\"Accuracy = {}\\nPrecision = {}\\nRecall = {}\\nF1 Score = {}\".format(metrics.accuracy_score(y_test1, predict), metrics.precision_score(y_test1, predict),metrics.recall_score(y_test1, predict),metrics.f1_score(y_test1, predict)))\n",
    "score_p.append([metrics.accuracy_score(y_test1, predict), metrics.precision_score(y_test1, predict),metrics.recall_score(y_test1, predict),metrics.f1_score(y_test1, predict)])"
   ]
  },
  {
   "cell_type": "markdown",
   "metadata": {
    "colab_type": "text",
    "id": "GnFFg0vtVeCH"
   },
   "source": [
    "## Second Approach Directly use 14 values of EEG data and use it for prediction "
   ]
  },
  {
   "cell_type": "markdown",
   "metadata": {
    "colab_type": "text",
    "id": "sgqdtQHV6Ce7"
   },
   "source": [
    "### Normalization of data"
   ]
  },
  {
   "cell_type": "markdown",
   "metadata": {
    "colab_type": "text",
    "id": "6odWgZ7wVWGF"
   },
   "source": [
    "Normalization of data is required before using it on Nueral Networks"
   ]
  },
  {
   "cell_type": "code",
   "execution_count": 0,
   "metadata": {
    "colab": {
     "autoexec": {
      "startup": false,
      "wait_interval": 0
     }
    },
    "colab_type": "code",
    "id": "qwpiaNsqg7EU"
   },
   "outputs": [],
   "source": [
    "from sklearn.preprocessing import MinMaxScaler\n",
    "scaler = MinMaxScaler()"
   ]
  },
  {
   "cell_type": "code",
   "execution_count": 0,
   "metadata": {
    "colab": {
     "autoexec": {
      "startup": false,
      "wait_interval": 0
     }
    },
    "colab_type": "code",
    "id": "F1oNrbyBiO0z"
   },
   "outputs": [],
   "source": [
    "scaler.fit(x)\n",
    "x_new = scaler.transform(x)"
   ]
  },
  {
   "cell_type": "code",
   "execution_count": 0,
   "metadata": {
    "colab": {
     "autoexec": {
      "startup": false,
      "wait_interval": 0
     }
    },
    "colab_type": "code",
    "id": "kUrGdTA2Nvjk"
   },
   "outputs": [],
   "source": [
    "data_mean = x.mean()\n",
    "data_std = x.std()\n",
    "x = (x - data_mean)/data_std"
   ]
  },
  {
   "cell_type": "code",
   "execution_count": 0,
   "metadata": {
    "colab": {
     "autoexec": {
      "startup": false,
      "wait_interval": 0
     }
    },
    "colab_type": "code",
    "id": "cIhNcStuldzi"
   },
   "outputs": [],
   "source": [
    "(x_train, x_test) = x[:11000], x[11000:]\n",
    "(y_train, y_test) = y[:11000], y[11000:]"
   ]
  },
  {
   "cell_type": "markdown",
   "metadata": {
    "colab_type": "text",
    "id": "hCJlgBEy58II"
   },
   "source": [
    "## Training on Neural Networks"
   ]
  },
  {
   "cell_type": "markdown",
   "metadata": {
    "colab_type": "text",
    "id": "MN_--9h56Mi9"
   },
   "source": [
    "### Creating Model"
   ]
  },
  {
   "cell_type": "code",
   "execution_count": 0,
   "metadata": {
    "colab": {
     "autoexec": {
      "startup": false,
      "wait_interval": 0
     }
    },
    "colab_type": "code",
    "id": "G8tW2xROi6lz"
   },
   "outputs": [],
   "source": [
    "from keras.models import Sequential\n",
    "from keras.layers import Dense, Dropout"
   ]
  },
  {
   "cell_type": "code",
   "execution_count": 150,
   "metadata": {
    "colab": {
     "autoexec": {
      "startup": false,
      "wait_interval": 0
     },
     "base_uri": "https://localhost:8080/",
     "height": 221
    },
    "colab_type": "code",
    "executionInfo": {
     "elapsed": 836,
     "status": "ok",
     "timestamp": 1528838368502,
     "user": {
      "displayName": "SHUBHAM VERMA",
      "photoUrl": "https://lh3.googleusercontent.com/a/default-user=s128",
      "userId": "108363614808362191748"
     },
     "user_tz": -330
    },
    "id": "4AxUgQBli8xN",
    "outputId": "307361bc-640f-4bef-de28-13600b6523e2"
   },
   "outputs": [
    {
     "name": "stdout",
     "output_type": "stream",
     "text": [
      "_________________________________________________________________\n",
      "Layer (type)                 Output Shape              Param #   \n",
      "=================================================================\n",
      "dense_39 (Dense)             (None, 512)               7680      \n",
      "_________________________________________________________________\n",
      "dense_40 (Dense)             (None, 1)                 513       \n",
      "=================================================================\n",
      "Total params: 8,193\n",
      "Trainable params: 8,193\n",
      "Non-trainable params: 0\n",
      "_________________________________________________________________\n"
     ]
    }
   ],
   "source": [
    "model = Sequential()\n",
    "model.add(Dense(512, activation = 'relu', input_shape = (x.shape[1], )))\n",
    "model.add(Dense(1, activation = 'sigmoid'))\n",
    "model.summary()"
   ]
  },
  {
   "cell_type": "code",
   "execution_count": 151,
   "metadata": {
    "colab": {
     "autoexec": {
      "startup": false,
      "wait_interval": 0
     },
     "base_uri": "https://localhost:8080/",
     "height": 221
    },
    "colab_type": "code",
    "executionInfo": {
     "elapsed": 733,
     "status": "ok",
     "timestamp": 1528838372215,
     "user": {
      "displayName": "SHUBHAM VERMA",
      "photoUrl": "https://lh3.googleusercontent.com/a/default-user=s128",
      "userId": "108363614808362191748"
     },
     "user_tz": -330
    },
    "id": "Lpwu-Tg3jZr2",
    "outputId": "1895fc93-dd34-495a-c551-10a06227d411"
   },
   "outputs": [
    {
     "name": "stdout",
     "output_type": "stream",
     "text": [
      "_________________________________________________________________\n",
      "Layer (type)                 Output Shape              Param #   \n",
      "=================================================================\n",
      "dense_39 (Dense)             (None, 512)               7680      \n",
      "_________________________________________________________________\n",
      "dense_40 (Dense)             (None, 1)                 513       \n",
      "=================================================================\n",
      "Total params: 8,193\n",
      "Trainable params: 8,193\n",
      "Non-trainable params: 0\n",
      "_________________________________________________________________\n"
     ]
    }
   ],
   "source": [
    "model.compile(loss = 'binary_crossentropy', optimizer='adam', metrics=['accuracy'])\n",
    "model.summary()"
   ]
  },
  {
   "cell_type": "markdown",
   "metadata": {
    "colab_type": "text",
    "id": "N9hvDrSn4y4N"
   },
   "source": [
    "### Training"
   ]
  },
  {
   "cell_type": "code",
   "execution_count": 152,
   "metadata": {
    "colab": {
     "autoexec": {
      "startup": false,
      "wait_interval": 0
     },
     "base_uri": "https://localhost:8080/",
     "height": 7482
    },
    "colab_type": "code",
    "executionInfo": {
     "elapsed": 27056,
     "status": "ok",
     "timestamp": 1528838410588,
     "user": {
      "displayName": "SHUBHAM VERMA",
      "photoUrl": "https://lh3.googleusercontent.com/a/default-user=s128",
      "userId": "108363614808362191748"
     },
     "user_tz": -330
    },
    "id": "vKh20CJrmYV7",
    "outputId": "55aa30fa-fdf5-45a6-b6ed-3461156bc844"
   },
   "outputs": [
    {
     "name": "stdout",
     "output_type": "stream",
     "text": [
      "Train on 9900 samples, validate on 1100 samples\n",
      "Epoch 1/100\n",
      " - 1s - loss: 0.6908 - acc: 0.5247 - val_loss: 0.6909 - val_acc: 0.5255\n",
      "\n",
      "Epoch 00001: val_loss improved from inf to 0.69085, saving model to MLP.weights.best.hdf5\n",
      "Epoch 2/100\n",
      " - 0s - loss: 0.6891 - acc: 0.5276 - val_loss: 0.6900 - val_acc: 0.5400\n",
      "\n",
      "Epoch 00002: val_loss improved from 0.69085 to 0.68995, saving model to MLP.weights.best.hdf5\n",
      "Epoch 3/100\n",
      " - 0s - loss: 0.6867 - acc: 0.5356 - val_loss: 0.6896 - val_acc: 0.5500\n",
      "\n",
      "Epoch 00003: val_loss improved from 0.68995 to 0.68959, saving model to MLP.weights.best.hdf5\n",
      "Epoch 4/100\n",
      " - 0s - loss: 0.6850 - acc: 0.5458 - val_loss: 0.6877 - val_acc: 0.5427\n",
      "\n",
      "Epoch 00004: val_loss improved from 0.68959 to 0.68769, saving model to MLP.weights.best.hdf5\n",
      "Epoch 5/100\n",
      " - 0s - loss: 0.6816 - acc: 0.5536 - val_loss: 0.6866 - val_acc: 0.5482\n",
      "\n",
      "Epoch 00005: val_loss improved from 0.68769 to 0.68658, saving model to MLP.weights.best.hdf5\n",
      "Epoch 6/100\n",
      " - 0s - loss: 0.6783 - acc: 0.5560 - val_loss: 0.6852 - val_acc: 0.5436\n",
      "\n",
      "Epoch 00006: val_loss improved from 0.68658 to 0.68519, saving model to MLP.weights.best.hdf5\n",
      "Epoch 7/100\n",
      " - 0s - loss: 0.6749 - acc: 0.5598 - val_loss: 0.6838 - val_acc: 0.5609\n",
      "\n",
      "Epoch 00007: val_loss improved from 0.68519 to 0.68375, saving model to MLP.weights.best.hdf5\n",
      "Epoch 8/100\n",
      " - 0s - loss: 0.6723 - acc: 0.5654 - val_loss: 0.6845 - val_acc: 0.5445\n",
      "\n",
      "Epoch 00008: val_loss did not improve from 0.68375\n",
      "Epoch 9/100\n",
      " - 0s - loss: 0.6686 - acc: 0.5651 - val_loss: 0.6844 - val_acc: 0.5318\n",
      "\n",
      "Epoch 00009: val_loss did not improve from 0.68375\n",
      "Epoch 10/100\n",
      " - 0s - loss: 0.6652 - acc: 0.5718 - val_loss: 0.6822 - val_acc: 0.5409\n",
      "\n",
      "Epoch 00010: val_loss improved from 0.68375 to 0.68220, saving model to MLP.weights.best.hdf5\n",
      "Epoch 11/100\n",
      " - 0s - loss: 0.6623 - acc: 0.5694 - val_loss: 0.6829 - val_acc: 0.5345\n",
      "\n",
      "Epoch 00011: val_loss did not improve from 0.68220\n",
      "Epoch 12/100\n",
      " - 0s - loss: 0.6593 - acc: 0.5688 - val_loss: 0.6826 - val_acc: 0.5291\n",
      "\n",
      "Epoch 00012: val_loss did not improve from 0.68220\n",
      "Epoch 13/100\n",
      " - 0s - loss: 0.6562 - acc: 0.5817 - val_loss: 0.6783 - val_acc: 0.5409\n",
      "\n",
      "Epoch 00013: val_loss improved from 0.68220 to 0.67825, saving model to MLP.weights.best.hdf5\n",
      "Epoch 14/100\n",
      " - 0s - loss: 0.6536 - acc: 0.5808 - val_loss: 0.6791 - val_acc: 0.5545\n",
      "\n",
      "Epoch 00014: val_loss did not improve from 0.67825\n",
      "Epoch 15/100\n",
      " - 0s - loss: 0.6506 - acc: 0.5818 - val_loss: 0.6776 - val_acc: 0.5455\n",
      "\n",
      "Epoch 00015: val_loss improved from 0.67825 to 0.67760, saving model to MLP.weights.best.hdf5\n",
      "Epoch 16/100\n",
      " - 0s - loss: 0.6485 - acc: 0.5881 - val_loss: 0.6832 - val_acc: 0.5282\n",
      "\n",
      "Epoch 00016: val_loss did not improve from 0.67760\n",
      "Epoch 17/100\n",
      " - 0s - loss: 0.6453 - acc: 0.5925 - val_loss: 0.6811 - val_acc: 0.5436\n",
      "\n",
      "Epoch 00017: val_loss did not improve from 0.67760\n",
      "Epoch 18/100\n",
      " - 0s - loss: 0.6426 - acc: 0.5958 - val_loss: 0.6783 - val_acc: 0.5636\n",
      "\n",
      "Epoch 00018: val_loss did not improve from 0.67760\n",
      "Epoch 19/100\n",
      " - 0s - loss: 0.6405 - acc: 0.6051 - val_loss: 0.6783 - val_acc: 0.5691\n",
      "\n",
      "Epoch 00019: val_loss did not improve from 0.67760\n",
      "Epoch 20/100\n",
      " - 0s - loss: 0.6379 - acc: 0.6047 - val_loss: 0.6765 - val_acc: 0.5664\n",
      "\n",
      "Epoch 00020: val_loss improved from 0.67760 to 0.67654, saving model to MLP.weights.best.hdf5\n",
      "Epoch 21/100\n",
      " - 0s - loss: 0.6354 - acc: 0.6080 - val_loss: 0.6774 - val_acc: 0.5655\n",
      "\n",
      "Epoch 00021: val_loss did not improve from 0.67654\n",
      "Epoch 22/100\n",
      " - 0s - loss: 0.6327 - acc: 0.6166 - val_loss: 0.6733 - val_acc: 0.5718\n",
      "\n",
      "Epoch 00022: val_loss improved from 0.67654 to 0.67333, saving model to MLP.weights.best.hdf5\n",
      "Epoch 23/100\n",
      " - 0s - loss: 0.6314 - acc: 0.6058 - val_loss: 0.6754 - val_acc: 0.5664\n",
      "\n",
      "Epoch 00023: val_loss did not improve from 0.67333\n",
      "Epoch 24/100\n",
      " - 0s - loss: 0.6298 - acc: 0.6194 - val_loss: 0.6712 - val_acc: 0.5627\n",
      "\n",
      "Epoch 00024: val_loss improved from 0.67333 to 0.67123, saving model to MLP.weights.best.hdf5\n",
      "Epoch 25/100\n",
      " - 0s - loss: 0.6272 - acc: 0.6124 - val_loss: 0.6723 - val_acc: 0.5736\n",
      "\n",
      "Epoch 00025: val_loss did not improve from 0.67123\n",
      "Epoch 26/100\n",
      " - 0s - loss: 0.6252 - acc: 0.6231 - val_loss: 0.6737 - val_acc: 0.5664\n",
      "\n",
      "Epoch 00026: val_loss did not improve from 0.67123\n",
      "Epoch 27/100\n",
      " - 0s - loss: 0.6238 - acc: 0.6216 - val_loss: 0.6716 - val_acc: 0.5709\n",
      "\n",
      "Epoch 00027: val_loss did not improve from 0.67123\n",
      "Epoch 28/100\n",
      " - 0s - loss: 0.6216 - acc: 0.6270 - val_loss: 0.6750 - val_acc: 0.5664\n",
      "\n",
      "Epoch 00028: val_loss did not improve from 0.67123\n",
      "Epoch 29/100\n",
      " - 0s - loss: 0.6215 - acc: 0.6288 - val_loss: 0.6714 - val_acc: 0.5627\n",
      "\n",
      "Epoch 00029: val_loss did not improve from 0.67123\n",
      "Epoch 30/100\n",
      " - 0s - loss: 0.6188 - acc: 0.6252 - val_loss: 0.6714 - val_acc: 0.5718\n",
      "\n",
      "Epoch 00030: val_loss did not improve from 0.67123\n",
      "Epoch 31/100\n",
      " - 0s - loss: 0.6171 - acc: 0.6297 - val_loss: 0.6799 - val_acc: 0.5473\n",
      "\n",
      "Epoch 00031: val_loss did not improve from 0.67123\n",
      "Epoch 32/100\n",
      " - 0s - loss: 0.6159 - acc: 0.6333 - val_loss: 0.6706 - val_acc: 0.5718\n",
      "\n",
      "Epoch 00032: val_loss improved from 0.67123 to 0.67061, saving model to MLP.weights.best.hdf5\n",
      "Epoch 33/100\n",
      " - 0s - loss: 0.6143 - acc: 0.6327 - val_loss: 0.6690 - val_acc: 0.5664\n",
      "\n",
      "Epoch 00033: val_loss improved from 0.67061 to 0.66902, saving model to MLP.weights.best.hdf5\n",
      "Epoch 34/100\n",
      " - 0s - loss: 0.6132 - acc: 0.6288 - val_loss: 0.6687 - val_acc: 0.5773\n",
      "\n",
      "Epoch 00034: val_loss improved from 0.66902 to 0.66867, saving model to MLP.weights.best.hdf5\n",
      "Epoch 35/100\n",
      " - 0s - loss: 0.6112 - acc: 0.6414 - val_loss: 0.6705 - val_acc: 0.5664\n",
      "\n",
      "Epoch 00035: val_loss did not improve from 0.66867\n",
      "Epoch 36/100\n",
      " - 0s - loss: 0.6095 - acc: 0.6376 - val_loss: 0.6718 - val_acc: 0.5700\n",
      "\n",
      "Epoch 00036: val_loss did not improve from 0.66867\n",
      "Epoch 37/100\n",
      " - 0s - loss: 0.6093 - acc: 0.6358 - val_loss: 0.6809 - val_acc: 0.5500\n",
      "\n",
      "Epoch 00037: val_loss did not improve from 0.66867\n",
      "Epoch 38/100\n",
      " - 0s - loss: 0.6085 - acc: 0.6386 - val_loss: 0.6785 - val_acc: 0.5636\n",
      "\n",
      "Epoch 00038: val_loss did not improve from 0.66867\n",
      "Epoch 39/100\n",
      " - 0s - loss: 0.6059 - acc: 0.6407 - val_loss: 0.6689 - val_acc: 0.5664\n",
      "\n",
      "Epoch 00039: val_loss did not improve from 0.66867\n",
      "Epoch 40/100\n",
      " - 0s - loss: 0.6055 - acc: 0.6439 - val_loss: 0.6685 - val_acc: 0.5691\n",
      "\n",
      "Epoch 00040: val_loss improved from 0.66867 to 0.66854, saving model to MLP.weights.best.hdf5\n",
      "Epoch 41/100\n",
      " - 0s - loss: 0.6049 - acc: 0.6415 - val_loss: 0.6690 - val_acc: 0.5664\n",
      "\n",
      "Epoch 00041: val_loss did not improve from 0.66854\n",
      "Epoch 42/100\n",
      " - 0s - loss: 0.6028 - acc: 0.6433 - val_loss: 0.6774 - val_acc: 0.5645\n",
      "\n",
      "Epoch 00042: val_loss did not improve from 0.66854\n",
      "Epoch 43/100\n",
      " - 0s - loss: 0.6017 - acc: 0.6477 - val_loss: 0.6671 - val_acc: 0.5800\n",
      "\n",
      "Epoch 00043: val_loss improved from 0.66854 to 0.66706, saving model to MLP.weights.best.hdf5\n",
      "Epoch 44/100\n",
      " - 0s - loss: 0.6006 - acc: 0.6493 - val_loss: 0.6691 - val_acc: 0.5718\n",
      "\n",
      "Epoch 00044: val_loss did not improve from 0.66706\n",
      "Epoch 45/100\n",
      " - 0s - loss: 0.6007 - acc: 0.6499 - val_loss: 0.6702 - val_acc: 0.5718\n",
      "\n",
      "Epoch 00045: val_loss did not improve from 0.66706\n",
      "Epoch 46/100\n",
      " - 0s - loss: 0.5991 - acc: 0.6544 - val_loss: 0.6714 - val_acc: 0.5673\n",
      "\n",
      "Epoch 00046: val_loss did not improve from 0.66706\n",
      "Epoch 47/100\n",
      " - 0s - loss: 0.5970 - acc: 0.6563 - val_loss: 0.6673 - val_acc: 0.5764\n",
      "\n",
      "Epoch 00047: val_loss did not improve from 0.66706\n",
      "Epoch 48/100\n",
      " - 0s - loss: 0.5973 - acc: 0.6555 - val_loss: 0.6664 - val_acc: 0.5691\n",
      "\n",
      "Epoch 00048: val_loss improved from 0.66706 to 0.66636, saving model to MLP.weights.best.hdf5\n",
      "Epoch 49/100\n",
      " - 0s - loss: 0.5950 - acc: 0.6533 - val_loss: 0.6720 - val_acc: 0.5573\n",
      "\n",
      "Epoch 00049: val_loss did not improve from 0.66636\n",
      "Epoch 50/100\n",
      " - 0s - loss: 0.5939 - acc: 0.6582 - val_loss: 0.6704 - val_acc: 0.5636\n",
      "\n",
      "Epoch 00050: val_loss did not improve from 0.66636\n",
      "Epoch 51/100\n",
      " - 0s - loss: 0.5921 - acc: 0.6610 - val_loss: 0.6687 - val_acc: 0.5682\n",
      "\n",
      "Epoch 00051: val_loss did not improve from 0.66636\n",
      "Epoch 52/100\n",
      " - 0s - loss: 0.5914 - acc: 0.6619 - val_loss: 0.6646 - val_acc: 0.5855\n",
      "\n",
      "Epoch 00052: val_loss improved from 0.66636 to 0.66464, saving model to MLP.weights.best.hdf5\n",
      "Epoch 53/100\n",
      " - 0s - loss: 0.5903 - acc: 0.6630 - val_loss: 0.6652 - val_acc: 0.5727\n",
      "\n",
      "Epoch 00053: val_loss did not improve from 0.66464\n",
      "Epoch 54/100\n",
      " - 0s - loss: 0.5902 - acc: 0.6655 - val_loss: 0.6650 - val_acc: 0.5845\n",
      "\n",
      "Epoch 00054: val_loss did not improve from 0.66464\n",
      "Epoch 55/100\n",
      " - 0s - loss: 0.5904 - acc: 0.6682 - val_loss: 0.6801 - val_acc: 0.5536\n",
      "\n",
      "Epoch 00055: val_loss did not improve from 0.66464\n",
      "Epoch 56/100\n",
      " - 0s - loss: 0.5877 - acc: 0.6681 - val_loss: 0.6673 - val_acc: 0.5718\n",
      "\n",
      "Epoch 00056: val_loss did not improve from 0.66464\n",
      "Epoch 57/100\n",
      " - 0s - loss: 0.5864 - acc: 0.6684 - val_loss: 0.6649 - val_acc: 0.5836\n",
      "\n",
      "Epoch 00057: val_loss did not improve from 0.66464\n",
      "Epoch 58/100\n",
      " - 0s - loss: 0.5860 - acc: 0.6699 - val_loss: 0.6680 - val_acc: 0.5718\n",
      "\n",
      "Epoch 00058: val_loss did not improve from 0.66464\n",
      "Epoch 59/100\n",
      " - 0s - loss: 0.5848 - acc: 0.6775 - val_loss: 0.6711 - val_acc: 0.5645\n",
      "\n",
      "Epoch 00059: val_loss did not improve from 0.66464\n",
      "Epoch 60/100\n",
      " - 0s - loss: 0.5836 - acc: 0.6715 - val_loss: 0.6636 - val_acc: 0.5800\n",
      "\n",
      "Epoch 00060: val_loss improved from 0.66464 to 0.66359, saving model to MLP.weights.best.hdf5\n",
      "Epoch 61/100\n",
      " - 0s - loss: 0.5826 - acc: 0.6766 - val_loss: 0.6644 - val_acc: 0.5827\n",
      "\n",
      "Epoch 00061: val_loss did not improve from 0.66359\n",
      "Epoch 62/100\n",
      " - 0s - loss: 0.5807 - acc: 0.6818 - val_loss: 0.6645 - val_acc: 0.5809\n",
      "\n",
      "Epoch 00062: val_loss did not improve from 0.66359\n",
      "Epoch 63/100\n",
      " - 0s - loss: 0.5809 - acc: 0.6794 - val_loss: 0.6715 - val_acc: 0.5645\n",
      "\n",
      "Epoch 00063: val_loss did not improve from 0.66359\n",
      "Epoch 64/100\n",
      " - 0s - loss: 0.5786 - acc: 0.6879 - val_loss: 0.6641 - val_acc: 0.5809\n",
      "\n",
      "Epoch 00064: val_loss did not improve from 0.66359\n",
      "Epoch 65/100\n",
      " - 0s - loss: 0.5790 - acc: 0.6863 - val_loss: 0.6724 - val_acc: 0.5627\n",
      "\n",
      "Epoch 00065: val_loss did not improve from 0.66359\n",
      "Epoch 66/100\n",
      " - 0s - loss: 0.5784 - acc: 0.6854 - val_loss: 0.6622 - val_acc: 0.5918\n",
      "\n",
      "Epoch 00066: val_loss improved from 0.66359 to 0.66219, saving model to MLP.weights.best.hdf5\n",
      "Epoch 67/100\n",
      " - 0s - loss: 0.5761 - acc: 0.6893 - val_loss: 0.6702 - val_acc: 0.5700\n",
      "\n",
      "Epoch 00067: val_loss did not improve from 0.66219\n",
      "Epoch 68/100\n",
      " - 0s - loss: 0.5752 - acc: 0.6917 - val_loss: 0.6631 - val_acc: 0.5818\n",
      "\n",
      "Epoch 00068: val_loss did not improve from 0.66219\n",
      "Epoch 69/100\n",
      " - 0s - loss: 0.5749 - acc: 0.6908 - val_loss: 0.6700 - val_acc: 0.5718\n",
      "\n",
      "Epoch 00069: val_loss did not improve from 0.66219\n",
      "Epoch 70/100\n",
      " - 0s - loss: 0.5750 - acc: 0.6964 - val_loss: 0.6624 - val_acc: 0.5864\n",
      "\n",
      "Epoch 00070: val_loss did not improve from 0.66219\n",
      "Epoch 71/100\n",
      " - 0s - loss: 0.5738 - acc: 0.6942 - val_loss: 0.6634 - val_acc: 0.5864\n",
      "\n",
      "Epoch 00071: val_loss did not improve from 0.66219\n",
      "Epoch 72/100\n",
      " - 0s - loss: 0.5713 - acc: 0.6963 - val_loss: 0.6657 - val_acc: 0.5755\n",
      "\n",
      "Epoch 00072: val_loss did not improve from 0.66219\n",
      "Epoch 73/100\n",
      " - 0s - loss: 0.5705 - acc: 0.7034 - val_loss: 0.6625 - val_acc: 0.5891\n",
      "\n",
      "Epoch 00073: val_loss did not improve from 0.66219\n",
      "Epoch 74/100\n",
      " - 0s - loss: 0.5702 - acc: 0.7017 - val_loss: 0.6686 - val_acc: 0.5700\n",
      "\n",
      "Epoch 00074: val_loss did not improve from 0.66219\n",
      "Epoch 75/100\n",
      " - 0s - loss: 0.5727 - acc: 0.6845 - val_loss: 0.6767 - val_acc: 0.5591\n",
      "\n",
      "Epoch 00075: val_loss did not improve from 0.66219\n",
      "Epoch 76/100\n",
      " - 0s - loss: 0.5723 - acc: 0.6943 - val_loss: 0.6616 - val_acc: 0.5927\n"
     ]
    },
    {
     "name": "stdout",
     "output_type": "stream",
     "text": [
      "\n",
      "Epoch 00076: val_loss improved from 0.66219 to 0.66156, saving model to MLP.weights.best.hdf5\n",
      "Epoch 77/100\n",
      " - 0s - loss: 0.5680 - acc: 0.7068 - val_loss: 0.6634 - val_acc: 0.5864\n",
      "\n",
      "Epoch 00077: val_loss did not improve from 0.66156\n",
      "Epoch 78/100\n",
      " - 0s - loss: 0.5661 - acc: 0.7090 - val_loss: 0.6634 - val_acc: 0.5873\n",
      "\n",
      "Epoch 00078: val_loss did not improve from 0.66156\n",
      "Epoch 79/100\n",
      " - 0s - loss: 0.5656 - acc: 0.7166 - val_loss: 0.6625 - val_acc: 0.5836\n",
      "\n",
      "Epoch 00079: val_loss did not improve from 0.66156\n",
      "Epoch 80/100\n",
      " - 0s - loss: 0.5633 - acc: 0.7212 - val_loss: 0.6611 - val_acc: 0.5927\n",
      "\n",
      "Epoch 00080: val_loss improved from 0.66156 to 0.66105, saving model to MLP.weights.best.hdf5\n",
      "Epoch 81/100\n",
      " - 0s - loss: 0.5649 - acc: 0.7073 - val_loss: 0.6613 - val_acc: 0.5955\n",
      "\n",
      "Epoch 00081: val_loss did not improve from 0.66105\n",
      "Epoch 82/100\n",
      " - 0s - loss: 0.5636 - acc: 0.7161 - val_loss: 0.6610 - val_acc: 0.5936\n",
      "\n",
      "Epoch 00082: val_loss improved from 0.66105 to 0.66103, saving model to MLP.weights.best.hdf5\n",
      "Epoch 83/100\n",
      " - 0s - loss: 0.5618 - acc: 0.7178 - val_loss: 0.6611 - val_acc: 0.5945\n",
      "\n",
      "Epoch 00083: val_loss did not improve from 0.66103\n",
      "Epoch 84/100\n",
      " - 0s - loss: 0.5604 - acc: 0.7247 - val_loss: 0.6636 - val_acc: 0.5909\n",
      "\n",
      "Epoch 00084: val_loss did not improve from 0.66103\n",
      "Epoch 85/100\n",
      " - 0s - loss: 0.5614 - acc: 0.7190 - val_loss: 0.6621 - val_acc: 0.5909\n",
      "\n",
      "Epoch 00085: val_loss did not improve from 0.66103\n",
      "Epoch 86/100\n",
      " - 0s - loss: 0.5607 - acc: 0.7166 - val_loss: 0.6650 - val_acc: 0.5864\n",
      "\n",
      "Epoch 00086: val_loss did not improve from 0.66103\n",
      "Epoch 87/100\n",
      " - 0s - loss: 0.5595 - acc: 0.7216 - val_loss: 0.6703 - val_acc: 0.5773\n",
      "\n",
      "Epoch 00087: val_loss did not improve from 0.66103\n",
      "Epoch 88/100\n",
      " - 0s - loss: 0.5577 - acc: 0.7236 - val_loss: 0.6610 - val_acc: 0.6018\n",
      "\n",
      "Epoch 00088: val_loss improved from 0.66103 to 0.66103, saving model to MLP.weights.best.hdf5\n",
      "Epoch 89/100\n",
      " - 0s - loss: 0.5560 - acc: 0.7290 - val_loss: 0.6635 - val_acc: 0.5918\n",
      "\n",
      "Epoch 00089: val_loss did not improve from 0.66103\n",
      "Epoch 90/100\n",
      " - 0s - loss: 0.5596 - acc: 0.7151 - val_loss: 0.6631 - val_acc: 0.5918\n",
      "\n",
      "Epoch 00090: val_loss did not improve from 0.66103\n",
      "Epoch 91/100\n",
      " - 0s - loss: 0.5558 - acc: 0.7236 - val_loss: 0.6681 - val_acc: 0.5782\n",
      "\n",
      "Epoch 00091: val_loss did not improve from 0.66103\n",
      "Epoch 92/100\n",
      " - 0s - loss: 0.5566 - acc: 0.7211 - val_loss: 0.6631 - val_acc: 0.5927\n",
      "\n",
      "Epoch 00092: val_loss did not improve from 0.66103\n",
      "Epoch 93/100\n",
      " - 0s - loss: 0.5539 - acc: 0.7332 - val_loss: 0.6633 - val_acc: 0.5909\n",
      "\n",
      "Epoch 00093: val_loss did not improve from 0.66103\n",
      "Epoch 94/100\n",
      " - 0s - loss: 0.5532 - acc: 0.7329 - val_loss: 0.6616 - val_acc: 0.5964\n",
      "\n",
      "Epoch 00094: val_loss did not improve from 0.66103\n",
      "Epoch 95/100\n",
      " - 0s - loss: 0.5529 - acc: 0.7309 - val_loss: 0.6623 - val_acc: 0.5945\n",
      "\n",
      "Epoch 00095: val_loss did not improve from 0.66103\n",
      "Epoch 96/100\n",
      " - 0s - loss: 0.5514 - acc: 0.7351 - val_loss: 0.6617 - val_acc: 0.5900\n",
      "\n",
      "Epoch 00096: val_loss did not improve from 0.66103\n",
      "Epoch 97/100\n",
      " - 0s - loss: 0.5527 - acc: 0.7293 - val_loss: 0.6654 - val_acc: 0.5891\n",
      "\n",
      "Epoch 00097: val_loss did not improve from 0.66103\n",
      "Epoch 98/100\n",
      " - 0s - loss: 0.5509 - acc: 0.7293 - val_loss: 0.6631 - val_acc: 0.5873\n",
      "\n",
      "Epoch 00098: val_loss did not improve from 0.66103\n",
      "Epoch 99/100\n",
      " - 0s - loss: 0.5492 - acc: 0.7393 - val_loss: 0.6619 - val_acc: 0.5945\n",
      "\n",
      "Epoch 00099: val_loss did not improve from 0.66103\n",
      "Epoch 100/100\n",
      " - 0s - loss: 0.5487 - acc: 0.7378 - val_loss: 0.6621 - val_acc: 0.5945\n",
      "\n",
      "Epoch 00100: val_loss did not improve from 0.66103\n"
     ]
    }
   ],
   "source": [
    "from keras.callbacks import ModelCheckpoint\n",
    "\n",
    "checkpointer = ModelCheckpoint(filepath = 'MLP.weights.best.hdf5', verbose = 1, save_best_only = True)\n",
    "hist = model.fit(x_train, y_train, epochs = 100, batch_size=256, validation_split = 0.1, callbacks = [checkpointer], verbose = 2, shuffle = True)"
   ]
  },
  {
   "cell_type": "code",
   "execution_count": 153,
   "metadata": {
    "colab": {
     "autoexec": {
      "startup": false,
      "wait_interval": 0
     },
     "base_uri": "https://localhost:8080/",
     "height": 54
    },
    "colab_type": "code",
    "executionInfo": {
     "elapsed": 1046,
     "status": "ok",
     "timestamp": 1528838421631,
     "user": {
      "displayName": "SHUBHAM VERMA",
      "photoUrl": "https://lh3.googleusercontent.com/a/default-user=s128",
      "userId": "108363614808362191748"
     },
     "user_tz": -330
    },
    "id": "zpdk9x9xngJG",
    "outputId": "40298a3d-369b-4699-ea0e-775cddbc3efd"
   },
   "outputs": [
    {
     "name": "stdout",
     "output_type": "stream",
     "text": [
      "3980/3980 [==============================] - 0s 69us/step\n",
      "Accuracy:  0.5806532662717542\n"
     ]
    }
   ],
   "source": [
    "score = model.evaluate(x_test, y_test, verbose=1)\n",
    "print(\"Accuracy: \", score[1])"
   ]
  },
  {
   "cell_type": "code",
   "execution_count": 0,
   "metadata": {
    "colab": {
     "autoexec": {
      "startup": false,
      "wait_interval": 0
     }
    },
    "colab_type": "code",
    "id": "zL_el0fmwOPF"
   },
   "outputs": [],
   "source": [
    "predict2 = [1 if a>0.5 else 0 for a in model.predict(x_test)] "
   ]
  },
  {
   "cell_type": "markdown",
   "metadata": {
    "colab_type": "text",
    "id": "OINWUOwYV5A0"
   },
   "source": [
    "### Performance"
   ]
  },
  {
   "cell_type": "code",
   "execution_count": 155,
   "metadata": {
    "colab": {
     "autoexec": {
      "startup": false,
      "wait_interval": 0
     },
     "base_uri": "https://localhost:8080/",
     "height": 91
    },
    "colab_type": "code",
    "executionInfo": {
     "elapsed": 982,
     "status": "ok",
     "timestamp": 1528838432724,
     "user": {
      "displayName": "SHUBHAM VERMA",
      "photoUrl": "https://lh3.googleusercontent.com/a/default-user=s128",
      "userId": "108363614808362191748"
     },
     "user_tz": -330
    },
    "id": "ScN-ERsEwXjw",
    "outputId": "b8b64d5c-5c76-4772-cd35-aae9a763d916"
   },
   "outputs": [
    {
     "name": "stdout",
     "output_type": "stream",
     "text": [
      "Accuracy = 0.5806532663316583\n",
      "Precision = 0.5720164609053497\n",
      "Recall = 0.6884596334819217\n",
      "F1 Score = 0.624859518993032\n"
     ]
    }
   ],
   "source": [
    "print(\"Accuracy = {}\\nPrecision = {}\\nRecall = {}\\nF1 Score = {}\".format(metrics.accuracy_score(y_test, predict2), metrics.precision_score(y_test, predict2),metrics.recall_score(y_test, predict2),metrics.f1_score(y_test, predict2)))\n",
    "#score_p.append([metrics.accuracy_score(y_test, predict2), metrics.precision_score(y_test, predict2),metrics.recall_score(y_test, predict2),metrics.f1_score(y_test, predict2)])"
   ]
  },
  {
   "cell_type": "markdown",
   "metadata": {
    "colab_type": "text",
    "id": "L9mkRjYIa1iz"
   },
   "source": [
    "# Improved Neural Network (Tuning Parameters)"
   ]
  },
  {
   "cell_type": "code",
   "execution_count": 156,
   "metadata": {
    "colab": {
     "autoexec": {
      "startup": false,
      "wait_interval": 0
     },
     "base_uri": "https://localhost:8080/",
     "height": 407
    },
    "colab_type": "code",
    "executionInfo": {
     "elapsed": 948,
     "status": "ok",
     "timestamp": 1528838441631,
     "user": {
      "displayName": "SHUBHAM VERMA",
      "photoUrl": "https://lh3.googleusercontent.com/a/default-user=s128",
      "userId": "108363614808362191748"
     },
     "user_tz": -330
    },
    "id": "tzNim7esa0g7",
    "outputId": "2541c970-7c8c-49d8-fa2d-744f1138fa2d"
   },
   "outputs": [
    {
     "name": "stdout",
     "output_type": "stream",
     "text": [
      "_________________________________________________________________\n",
      "Layer (type)                 Output Shape              Param #   \n",
      "=================================================================\n",
      "dense_41 (Dense)             (None, 1000)              15000     \n",
      "_________________________________________________________________\n",
      "dropout_12 (Dropout)         (None, 1000)              0         \n",
      "_________________________________________________________________\n",
      "dense_42 (Dense)             (None, 1000)              1001000   \n",
      "_________________________________________________________________\n",
      "dropout_13 (Dropout)         (None, 1000)              0         \n",
      "_________________________________________________________________\n",
      "dense_43 (Dense)             (None, 1000)              1001000   \n",
      "_________________________________________________________________\n",
      "dropout_14 (Dropout)         (None, 1000)              0         \n",
      "_________________________________________________________________\n",
      "dense_44 (Dense)             (None, 1)                 1001      \n",
      "=================================================================\n",
      "Total params: 2,018,001\n",
      "Trainable params: 2,018,001\n",
      "Non-trainable params: 0\n",
      "_________________________________________________________________\n"
     ]
    }
   ],
   "source": [
    "model2 = Sequential()\n",
    "model2.add(Dense(1000, activation = 'relu', input_shape = (x.shape[1], )))\n",
    "model2.add(Dropout(0.2))\n",
    "model2.add(Dense(1000, activation = 'relu'))\n",
    "model2.add(Dropout(0.2))\n",
    "model2.add(Dense(1000, activation = 'relu'))\n",
    "model2.add(Dropout(0.2))\n",
    "model2.add(Dense(1, activation = 'sigmoid'))\n",
    "model2.summary()"
   ]
  },
  {
   "cell_type": "code",
   "execution_count": 157,
   "metadata": {
    "colab": {
     "autoexec": {
      "startup": false,
      "wait_interval": 0
     },
     "base_uri": "https://localhost:8080/",
     "height": 407
    },
    "colab_type": "code",
    "executionInfo": {
     "elapsed": 974,
     "status": "ok",
     "timestamp": 1528838447248,
     "user": {
      "displayName": "SHUBHAM VERMA",
      "photoUrl": "https://lh3.googleusercontent.com/a/default-user=s128",
      "userId": "108363614808362191748"
     },
     "user_tz": -330
    },
    "id": "3DCvBvfKbzpn",
    "outputId": "3ebb0199-df7f-442b-bb40-84760eec4f53"
   },
   "outputs": [
    {
     "name": "stdout",
     "output_type": "stream",
     "text": [
      "_________________________________________________________________\n",
      "Layer (type)                 Output Shape              Param #   \n",
      "=================================================================\n",
      "dense_41 (Dense)             (None, 1000)              15000     \n",
      "_________________________________________________________________\n",
      "dropout_12 (Dropout)         (None, 1000)              0         \n",
      "_________________________________________________________________\n",
      "dense_42 (Dense)             (None, 1000)              1001000   \n",
      "_________________________________________________________________\n",
      "dropout_13 (Dropout)         (None, 1000)              0         \n",
      "_________________________________________________________________\n",
      "dense_43 (Dense)             (None, 1000)              1001000   \n",
      "_________________________________________________________________\n",
      "dropout_14 (Dropout)         (None, 1000)              0         \n",
      "_________________________________________________________________\n",
      "dense_44 (Dense)             (None, 1)                 1001      \n",
      "=================================================================\n",
      "Total params: 2,018,001\n",
      "Trainable params: 2,018,001\n",
      "Non-trainable params: 0\n",
      "_________________________________________________________________\n"
     ]
    }
   ],
   "source": [
    "model2.compile(loss = 'binary_crossentropy', optimizer='adam', metrics=['accuracy'])\n",
    "model2.summary()"
   ]
  },
  {
   "cell_type": "code",
   "execution_count": 186,
   "metadata": {
    "colab": {
     "autoexec": {
      "startup": false,
      "wait_interval": 0
     },
     "base_uri": "https://localhost:8080/",
     "height": 14909
    },
    "colab_type": "code",
    "executionInfo": {
     "elapsed": 53194,
     "status": "ok",
     "timestamp": 1528840496221,
     "user": {
      "displayName": "SHUBHAM VERMA",
      "photoUrl": "https://lh3.googleusercontent.com/a/default-user=s128",
      "userId": "108363614808362191748"
     },
     "user_tz": -330
    },
    "id": "qepgTEuYb206",
    "outputId": "6c696856-6b94-45d3-80c0-f7a13b0d393e"
   },
   "outputs": [
    {
     "name": "stdout",
     "output_type": "stream",
     "text": [
      "Train on 9900 samples, validate on 1100 samples\n",
      "Epoch 1/200\n",
      " - 0s - loss: 0.1822 - acc: 0.9248 - val_loss: 0.6104 - val_acc: 0.8136\n",
      "\n",
      "Epoch 00001: val_loss improved from inf to 0.61037, saving model to MLP_new.weights.best.hdf5\n",
      "Epoch 2/200\n",
      " - 0s - loss: 0.1627 - acc: 0.9368 - val_loss: 0.8544 - val_acc: 0.7718\n",
      "\n",
      "Epoch 00002: val_loss did not improve from 0.61037\n",
      "Epoch 3/200\n",
      " - 0s - loss: 0.1439 - acc: 0.9425 - val_loss: 0.8382 - val_acc: 0.7927\n",
      "\n",
      "Epoch 00003: val_loss did not improve from 0.61037\n",
      "Epoch 4/200\n",
      " - 0s - loss: 0.1674 - acc: 0.9303 - val_loss: 0.6309 - val_acc: 0.7709\n",
      "\n",
      "Epoch 00004: val_loss did not improve from 0.61037\n",
      "Epoch 5/200\n",
      " - 0s - loss: 0.1714 - acc: 0.9280 - val_loss: 0.6648 - val_acc: 0.7755\n",
      "\n",
      "Epoch 00005: val_loss did not improve from 0.61037\n",
      "Epoch 6/200\n",
      " - 0s - loss: 0.1515 - acc: 0.9382 - val_loss: 0.8148 - val_acc: 0.7873\n",
      "\n",
      "Epoch 00006: val_loss did not improve from 0.61037\n",
      "Epoch 7/200\n",
      " - 0s - loss: 0.1613 - acc: 0.9328 - val_loss: 0.7230 - val_acc: 0.8127\n",
      "\n",
      "Epoch 00007: val_loss did not improve from 0.61037\n",
      "Epoch 8/200\n",
      " - 0s - loss: 0.1395 - acc: 0.9460 - val_loss: 0.6225 - val_acc: 0.7527\n",
      "\n",
      "Epoch 00008: val_loss did not improve from 0.61037\n",
      "Epoch 9/200\n",
      " - 0s - loss: 0.1668 - acc: 0.9326 - val_loss: 0.7196 - val_acc: 0.8027\n",
      "\n",
      "Epoch 00009: val_loss did not improve from 0.61037\n",
      "Epoch 10/200\n",
      " - 0s - loss: 0.1567 - acc: 0.9357 - val_loss: 0.6516 - val_acc: 0.7736\n",
      "\n",
      "Epoch 00010: val_loss did not improve from 0.61037\n",
      "Epoch 11/200\n",
      " - 0s - loss: 0.1598 - acc: 0.9344 - val_loss: 0.7167 - val_acc: 0.7964\n",
      "\n",
      "Epoch 00011: val_loss did not improve from 0.61037\n",
      "Epoch 12/200\n",
      " - 0s - loss: 0.1415 - acc: 0.9421 - val_loss: 0.6650 - val_acc: 0.8027\n",
      "\n",
      "Epoch 00012: val_loss did not improve from 0.61037\n",
      "Epoch 13/200\n",
      " - 0s - loss: 0.1433 - acc: 0.9416 - val_loss: 0.5910 - val_acc: 0.8173\n",
      "\n",
      "Epoch 00013: val_loss improved from 0.61037 to 0.59103, saving model to MLP_new.weights.best.hdf5\n",
      "Epoch 14/200\n",
      " - 0s - loss: 0.1324 - acc: 0.9459 - val_loss: 0.7571 - val_acc: 0.8073\n",
      "\n",
      "Epoch 00014: val_loss did not improve from 0.59103\n",
      "Epoch 15/200\n",
      " - 0s - loss: 0.1498 - acc: 0.9403 - val_loss: 0.5338 - val_acc: 0.7945\n",
      "\n",
      "Epoch 00015: val_loss improved from 0.59103 to 0.53384, saving model to MLP_new.weights.best.hdf5\n",
      "Epoch 16/200\n",
      " - 0s - loss: 0.1659 - acc: 0.9337 - val_loss: 0.6030 - val_acc: 0.7882\n",
      "\n",
      "Epoch 00016: val_loss did not improve from 0.53384\n",
      "Epoch 17/200\n",
      " - 0s - loss: 0.1600 - acc: 0.9332 - val_loss: 0.6649 - val_acc: 0.7809\n",
      "\n",
      "Epoch 00017: val_loss did not improve from 0.53384\n",
      "Epoch 18/200\n",
      " - 0s - loss: 0.1551 - acc: 0.9360 - val_loss: 0.6745 - val_acc: 0.8036\n",
      "\n",
      "Epoch 00018: val_loss did not improve from 0.53384\n",
      "Epoch 19/200\n",
      " - 0s - loss: 0.1441 - acc: 0.9417 - val_loss: 0.6297 - val_acc: 0.8073\n",
      "\n",
      "Epoch 00019: val_loss did not improve from 0.53384\n",
      "Epoch 20/200\n",
      " - 0s - loss: 0.1505 - acc: 0.9403 - val_loss: 0.6272 - val_acc: 0.8236\n",
      "\n",
      "Epoch 00020: val_loss did not improve from 0.53384\n",
      "Epoch 21/200\n",
      " - 0s - loss: 0.1521 - acc: 0.9370 - val_loss: 0.6588 - val_acc: 0.8009\n",
      "\n",
      "Epoch 00021: val_loss did not improve from 0.53384\n",
      "Epoch 22/200\n",
      " - 0s - loss: 0.1350 - acc: 0.9479 - val_loss: 0.8112 - val_acc: 0.7900\n",
      "\n",
      "Epoch 00022: val_loss did not improve from 0.53384\n",
      "Epoch 23/200\n",
      " - 0s - loss: 0.1374 - acc: 0.9452 - val_loss: 0.7446 - val_acc: 0.8227\n",
      "\n",
      "Epoch 00023: val_loss did not improve from 0.53384\n",
      "Epoch 24/200\n",
      " - 0s - loss: 0.1437 - acc: 0.9418 - val_loss: 0.5786 - val_acc: 0.8109\n",
      "\n",
      "Epoch 00024: val_loss did not improve from 0.53384\n",
      "Epoch 25/200\n",
      " - 0s - loss: 0.1753 - acc: 0.9265 - val_loss: 0.8051 - val_acc: 0.7791\n",
      "\n",
      "Epoch 00025: val_loss did not improve from 0.53384\n",
      "Epoch 26/200\n",
      " - 0s - loss: 0.1453 - acc: 0.9394 - val_loss: 0.6386 - val_acc: 0.8127\n",
      "\n",
      "Epoch 00026: val_loss did not improve from 0.53384\n",
      "Epoch 27/200\n",
      " - 0s - loss: 0.1382 - acc: 0.9441 - val_loss: 0.6948 - val_acc: 0.8073\n",
      "\n",
      "Epoch 00027: val_loss did not improve from 0.53384\n",
      "Epoch 28/200\n",
      " - 0s - loss: 0.1264 - acc: 0.9489 - val_loss: 0.6483 - val_acc: 0.8127\n",
      "\n",
      "Epoch 00028: val_loss did not improve from 0.53384\n",
      "Epoch 29/200\n",
      " - 0s - loss: 0.1419 - acc: 0.9417 - val_loss: 0.8270 - val_acc: 0.8036\n",
      "\n",
      "Epoch 00029: val_loss did not improve from 0.53384\n",
      "Epoch 30/200\n",
      " - 0s - loss: 0.1398 - acc: 0.9429 - val_loss: 0.7686 - val_acc: 0.8145\n",
      "\n",
      "Epoch 00030: val_loss did not improve from 0.53384\n",
      "Epoch 31/200\n",
      " - 0s - loss: 0.1480 - acc: 0.9384 - val_loss: 0.6418 - val_acc: 0.8218\n",
      "\n",
      "Epoch 00031: val_loss did not improve from 0.53384\n",
      "Epoch 32/200\n",
      " - 0s - loss: 0.1354 - acc: 0.9451 - val_loss: 0.8657 - val_acc: 0.7991\n",
      "\n",
      "Epoch 00032: val_loss did not improve from 0.53384\n",
      "Epoch 33/200\n",
      " - 0s - loss: 0.1318 - acc: 0.9477 - val_loss: 0.7020 - val_acc: 0.8055\n",
      "\n",
      "Epoch 00033: val_loss did not improve from 0.53384\n",
      "Epoch 34/200\n",
      " - 0s - loss: 0.1375 - acc: 0.9426 - val_loss: 1.0592 - val_acc: 0.7491\n",
      "\n",
      "Epoch 00034: val_loss did not improve from 0.53384\n",
      "Epoch 35/200\n",
      " - 0s - loss: 0.1583 - acc: 0.9323 - val_loss: 0.7004 - val_acc: 0.8118\n",
      "\n",
      "Epoch 00035: val_loss did not improve from 0.53384\n",
      "Epoch 36/200\n",
      " - 0s - loss: 0.1415 - acc: 0.9433 - val_loss: 0.6411 - val_acc: 0.8227\n",
      "\n",
      "Epoch 00036: val_loss did not improve from 0.53384\n",
      "Epoch 37/200\n",
      " - 0s - loss: 0.1423 - acc: 0.9429 - val_loss: 0.5857 - val_acc: 0.8091\n",
      "\n",
      "Epoch 00037: val_loss did not improve from 0.53384\n",
      "Epoch 38/200\n",
      " - 0s - loss: 0.1373 - acc: 0.9434 - val_loss: 0.5864 - val_acc: 0.8100\n",
      "\n",
      "Epoch 00038: val_loss did not improve from 0.53384\n",
      "Epoch 39/200\n",
      " - 0s - loss: 0.1380 - acc: 0.9437 - val_loss: 0.5116 - val_acc: 0.8164\n",
      "\n",
      "Epoch 00039: val_loss improved from 0.53384 to 0.51165, saving model to MLP_new.weights.best.hdf5\n",
      "Epoch 40/200\n",
      " - 0s - loss: 0.1358 - acc: 0.9435 - val_loss: 0.6269 - val_acc: 0.8036\n",
      "\n",
      "Epoch 00040: val_loss did not improve from 0.51165\n",
      "Epoch 41/200\n",
      " - 0s - loss: 0.1378 - acc: 0.9475 - val_loss: 0.7650 - val_acc: 0.7991\n",
      "\n",
      "Epoch 00041: val_loss did not improve from 0.51165\n",
      "Epoch 42/200\n",
      " - 0s - loss: 0.1492 - acc: 0.9384 - val_loss: 0.5914 - val_acc: 0.8245\n",
      "\n",
      "Epoch 00042: val_loss did not improve from 0.51165\n",
      "Epoch 43/200\n",
      " - 0s - loss: 0.1523 - acc: 0.9357 - val_loss: 0.6643 - val_acc: 0.7655\n",
      "\n",
      "Epoch 00043: val_loss did not improve from 0.51165\n",
      "Epoch 44/200\n",
      " - 0s - loss: 0.1791 - acc: 0.9263 - val_loss: 0.5906 - val_acc: 0.8291\n",
      "\n",
      "Epoch 00044: val_loss did not improve from 0.51165\n",
      "Epoch 45/200\n",
      " - 0s - loss: 0.1387 - acc: 0.9439 - val_loss: 0.6615 - val_acc: 0.8236\n",
      "\n",
      "Epoch 00045: val_loss did not improve from 0.51165\n",
      "Epoch 46/200\n",
      " - 0s - loss: 0.1212 - acc: 0.9505 - val_loss: 0.6602 - val_acc: 0.8100\n",
      "\n",
      "Epoch 00046: val_loss did not improve from 0.51165\n",
      "Epoch 47/200\n",
      " - 0s - loss: 0.1350 - acc: 0.9468 - val_loss: 0.5768 - val_acc: 0.8245\n",
      "\n",
      "Epoch 00047: val_loss did not improve from 0.51165\n",
      "Epoch 48/200\n",
      " - 0s - loss: 0.1367 - acc: 0.9446 - val_loss: 0.6440 - val_acc: 0.7718\n",
      "\n",
      "Epoch 00048: val_loss did not improve from 0.51165\n",
      "Epoch 49/200\n",
      " - 0s - loss: 0.1557 - acc: 0.9378 - val_loss: 0.6455 - val_acc: 0.7973\n",
      "\n",
      "Epoch 00049: val_loss did not improve from 0.51165\n",
      "Epoch 50/200\n",
      " - 0s - loss: 0.1536 - acc: 0.9358 - val_loss: 0.7603 - val_acc: 0.7973\n",
      "\n",
      "Epoch 00050: val_loss did not improve from 0.51165\n",
      "Epoch 51/200\n",
      " - 0s - loss: 0.1481 - acc: 0.9398 - val_loss: 0.6547 - val_acc: 0.8055\n",
      "\n",
      "Epoch 00051: val_loss did not improve from 0.51165\n",
      "Epoch 52/200\n",
      " - 0s - loss: 0.1356 - acc: 0.9447 - val_loss: 0.6200 - val_acc: 0.7673\n",
      "\n",
      "Epoch 00052: val_loss did not improve from 0.51165\n",
      "Epoch 53/200\n",
      " - 0s - loss: 0.1424 - acc: 0.9416 - val_loss: 0.5805 - val_acc: 0.8136\n",
      "\n",
      "Epoch 00053: val_loss did not improve from 0.51165\n",
      "Epoch 54/200\n",
      " - 0s - loss: 0.1181 - acc: 0.9524 - val_loss: 0.5923 - val_acc: 0.7936\n",
      "\n",
      "Epoch 00054: val_loss did not improve from 0.51165\n",
      "Epoch 55/200\n",
      " - 0s - loss: 0.1261 - acc: 0.9496 - val_loss: 0.6190 - val_acc: 0.8209\n",
      "\n",
      "Epoch 00055: val_loss did not improve from 0.51165\n",
      "Epoch 56/200\n",
      " - 0s - loss: 0.1298 - acc: 0.9482 - val_loss: 0.7835 - val_acc: 0.8055\n",
      "\n",
      "Epoch 00056: val_loss did not improve from 0.51165\n",
      "Epoch 57/200\n",
      " - 0s - loss: 0.1280 - acc: 0.9477 - val_loss: 0.6515 - val_acc: 0.8209\n",
      "\n",
      "Epoch 00057: val_loss did not improve from 0.51165\n",
      "Epoch 58/200\n",
      " - 0s - loss: 0.1272 - acc: 0.9493 - val_loss: 0.6497 - val_acc: 0.8245\n",
      "\n",
      "Epoch 00058: val_loss did not improve from 0.51165\n",
      "Epoch 59/200\n",
      " - 0s - loss: 0.1131 - acc: 0.9542 - val_loss: 0.7628 - val_acc: 0.8173\n",
      "\n",
      "Epoch 00059: val_loss did not improve from 0.51165\n",
      "Epoch 60/200\n",
      " - 0s - loss: 0.1213 - acc: 0.9515 - val_loss: 0.6008 - val_acc: 0.8273\n",
      "\n",
      "Epoch 00060: val_loss did not improve from 0.51165\n",
      "Epoch 61/200\n",
      " - 0s - loss: 0.1192 - acc: 0.9518 - val_loss: 0.7349 - val_acc: 0.8082\n",
      "\n",
      "Epoch 00061: val_loss did not improve from 0.51165\n",
      "Epoch 62/200\n",
      " - 0s - loss: 0.1358 - acc: 0.9466 - val_loss: 0.6640 - val_acc: 0.7882\n",
      "\n",
      "Epoch 00062: val_loss did not improve from 0.51165\n",
      "Epoch 63/200\n",
      " - 0s - loss: 0.1348 - acc: 0.9457 - val_loss: 0.5838 - val_acc: 0.8018\n",
      "\n",
      "Epoch 00063: val_loss did not improve from 0.51165\n",
      "Epoch 64/200\n",
      " - 0s - loss: 0.1337 - acc: 0.9449 - val_loss: 0.7962 - val_acc: 0.8073\n",
      "\n",
      "Epoch 00064: val_loss did not improve from 0.51165\n",
      "Epoch 65/200\n",
      " - 0s - loss: 0.1195 - acc: 0.9512 - val_loss: 0.7402 - val_acc: 0.8191\n",
      "\n",
      "Epoch 00065: val_loss did not improve from 0.51165\n",
      "Epoch 66/200\n",
      " - 0s - loss: 0.1259 - acc: 0.9489 - val_loss: 0.6694 - val_acc: 0.8118\n",
      "\n",
      "Epoch 00066: val_loss did not improve from 0.51165\n",
      "Epoch 67/200\n",
      " - 0s - loss: 0.1278 - acc: 0.9497 - val_loss: 0.7732 - val_acc: 0.7873\n",
      "\n",
      "Epoch 00067: val_loss did not improve from 0.51165\n",
      "Epoch 68/200\n",
      " - 0s - loss: 0.1653 - acc: 0.9313 - val_loss: 0.5636 - val_acc: 0.7973\n",
      "\n",
      "Epoch 00068: val_loss did not improve from 0.51165\n",
      "Epoch 69/200\n",
      " - 0s - loss: 0.1496 - acc: 0.9386 - val_loss: 0.7527 - val_acc: 0.8027\n",
      "\n",
      "Epoch 00069: val_loss did not improve from 0.51165\n",
      "Epoch 70/200\n",
      " - 0s - loss: 0.1273 - acc: 0.9502 - val_loss: 0.6973 - val_acc: 0.8264\n",
      "\n",
      "Epoch 00070: val_loss did not improve from 0.51165\n",
      "Epoch 71/200\n",
      " - 0s - loss: 0.1229 - acc: 0.9497 - val_loss: 0.6299 - val_acc: 0.8300\n",
      "\n",
      "Epoch 00071: val_loss did not improve from 0.51165\n",
      "Epoch 72/200\n",
      " - 0s - loss: 0.1159 - acc: 0.9555 - val_loss: 0.5852 - val_acc: 0.8164\n",
      "\n",
      "Epoch 00072: val_loss did not improve from 0.51165\n",
      "Epoch 73/200\n",
      " - 0s - loss: 0.1193 - acc: 0.9527 - val_loss: 0.7655 - val_acc: 0.8127\n",
      "\n",
      "Epoch 00073: val_loss did not improve from 0.51165\n",
      "Epoch 74/200\n",
      " - 0s - loss: 0.1276 - acc: 0.9479 - val_loss: 0.6909 - val_acc: 0.8173\n",
      "\n",
      "Epoch 00074: val_loss did not improve from 0.51165\n",
      "Epoch 75/200\n",
      " - 0s - loss: 0.1297 - acc: 0.9456 - val_loss: 0.7010 - val_acc: 0.8064\n",
      "\n",
      "Epoch 00075: val_loss did not improve from 0.51165\n",
      "Epoch 76/200\n",
      " - 0s - loss: 0.1310 - acc: 0.9471 - val_loss: 0.7293 - val_acc: 0.8191\n",
      "\n",
      "Epoch 00076: val_loss did not improve from 0.51165\n",
      "Epoch 77/200\n",
      " - 0s - loss: 0.1286 - acc: 0.9471 - val_loss: 0.8272 - val_acc: 0.8009\n",
      "\n",
      "Epoch 00077: val_loss did not improve from 0.51165\n",
      "Epoch 78/200\n",
      " - 0s - loss: 0.1210 - acc: 0.9537 - val_loss: 0.6020 - val_acc: 0.8291\n",
      "\n",
      "Epoch 00078: val_loss did not improve from 0.51165\n",
      "Epoch 79/200\n",
      " - 0s - loss: 0.1212 - acc: 0.9516 - val_loss: 0.8500 - val_acc: 0.8073\n"
     ]
    },
    {
     "name": "stdout",
     "output_type": "stream",
     "text": [
      "\n",
      "Epoch 00079: val_loss did not improve from 0.51165\n",
      "Epoch 80/200\n",
      " - 0s - loss: 0.1269 - acc: 0.9485 - val_loss: 0.6173 - val_acc: 0.8127\n",
      "\n",
      "Epoch 00080: val_loss did not improve from 0.51165\n",
      "Epoch 81/200\n",
      " - 0s - loss: 0.1248 - acc: 0.9506 - val_loss: 0.6928 - val_acc: 0.8073\n",
      "\n",
      "Epoch 00081: val_loss did not improve from 0.51165\n",
      "Epoch 82/200\n",
      " - 0s - loss: 0.1389 - acc: 0.9423 - val_loss: 0.6808 - val_acc: 0.8145\n",
      "\n",
      "Epoch 00082: val_loss did not improve from 0.51165\n",
      "Epoch 83/200\n",
      " - 0s - loss: 0.1250 - acc: 0.9503 - val_loss: 0.6263 - val_acc: 0.8336\n",
      "\n",
      "Epoch 00083: val_loss did not improve from 0.51165\n",
      "Epoch 84/200\n",
      " - 0s - loss: 0.1236 - acc: 0.9525 - val_loss: 0.5383 - val_acc: 0.8064\n",
      "\n",
      "Epoch 00084: val_loss did not improve from 0.51165\n",
      "Epoch 85/200\n",
      " - 0s - loss: 0.1411 - acc: 0.9433 - val_loss: 0.6813 - val_acc: 0.8109\n",
      "\n",
      "Epoch 00085: val_loss did not improve from 0.51165\n",
      "Epoch 86/200\n",
      " - 0s - loss: 0.1508 - acc: 0.9397 - val_loss: 0.5609 - val_acc: 0.8009\n",
      "\n",
      "Epoch 00086: val_loss did not improve from 0.51165\n",
      "Epoch 87/200\n",
      " - 0s - loss: 0.1333 - acc: 0.9446 - val_loss: 0.6422 - val_acc: 0.8164\n",
      "\n",
      "Epoch 00087: val_loss did not improve from 0.51165\n",
      "Epoch 88/200\n",
      " - 0s - loss: 0.1278 - acc: 0.9492 - val_loss: 0.5228 - val_acc: 0.8255\n",
      "\n",
      "Epoch 00088: val_loss did not improve from 0.51165\n",
      "Epoch 89/200\n",
      " - 0s - loss: 0.1199 - acc: 0.9527 - val_loss: 0.6962 - val_acc: 0.8109\n",
      "\n",
      "Epoch 00089: val_loss did not improve from 0.51165\n",
      "Epoch 90/200\n",
      " - 0s - loss: 0.1193 - acc: 0.9526 - val_loss: 0.6283 - val_acc: 0.8227\n",
      "\n",
      "Epoch 00090: val_loss did not improve from 0.51165\n",
      "Epoch 91/200\n",
      " - 0s - loss: 0.1218 - acc: 0.9502 - val_loss: 0.6673 - val_acc: 0.8182\n",
      "\n",
      "Epoch 00091: val_loss did not improve from 0.51165\n",
      "Epoch 92/200\n",
      " - 0s - loss: 0.1231 - acc: 0.9506 - val_loss: 0.6105 - val_acc: 0.8155\n",
      "\n",
      "Epoch 00092: val_loss did not improve from 0.51165\n",
      "Epoch 93/200\n",
      " - 0s - loss: 0.1381 - acc: 0.9452 - val_loss: 0.7268 - val_acc: 0.8064\n",
      "\n",
      "Epoch 00093: val_loss did not improve from 0.51165\n",
      "Epoch 94/200\n",
      " - 0s - loss: 0.1191 - acc: 0.9506 - val_loss: 0.6748 - val_acc: 0.8209\n",
      "\n",
      "Epoch 00094: val_loss did not improve from 0.51165\n",
      "Epoch 95/200\n",
      " - 0s - loss: 0.1274 - acc: 0.9482 - val_loss: 0.6034 - val_acc: 0.8282\n",
      "\n",
      "Epoch 00095: val_loss did not improve from 0.51165\n",
      "Epoch 96/200\n",
      " - 0s - loss: 0.1429 - acc: 0.9411 - val_loss: 0.6351 - val_acc: 0.8064\n",
      "\n",
      "Epoch 00096: val_loss did not improve from 0.51165\n",
      "Epoch 97/200\n",
      " - 0s - loss: 0.1147 - acc: 0.9556 - val_loss: 0.7359 - val_acc: 0.8191\n",
      "\n",
      "Epoch 00097: val_loss did not improve from 0.51165\n",
      "Epoch 98/200\n",
      " - 0s - loss: 0.1122 - acc: 0.9541 - val_loss: 0.6422 - val_acc: 0.7791\n",
      "\n",
      "Epoch 00098: val_loss did not improve from 0.51165\n",
      "Epoch 99/200\n",
      " - 0s - loss: 0.1331 - acc: 0.9416 - val_loss: 0.7160 - val_acc: 0.8173\n",
      "\n",
      "Epoch 00099: val_loss did not improve from 0.51165\n",
      "Epoch 100/200\n",
      " - 0s - loss: 0.1195 - acc: 0.9514 - val_loss: 0.5870 - val_acc: 0.7955\n",
      "\n",
      "Epoch 00100: val_loss did not improve from 0.51165\n",
      "Epoch 101/200\n",
      " - 0s - loss: 0.1198 - acc: 0.9518 - val_loss: 0.6240 - val_acc: 0.8091\n",
      "\n",
      "Epoch 00101: val_loss did not improve from 0.51165\n",
      "Epoch 102/200\n",
      " - 0s - loss: 0.1283 - acc: 0.9470 - val_loss: 0.6187 - val_acc: 0.8173\n",
      "\n",
      "Epoch 00102: val_loss did not improve from 0.51165\n",
      "Epoch 103/200\n",
      " - 0s - loss: 0.1446 - acc: 0.9400 - val_loss: 0.5067 - val_acc: 0.8273\n",
      "\n",
      "Epoch 00103: val_loss improved from 0.51165 to 0.50667, saving model to MLP_new.weights.best.hdf5\n",
      "Epoch 104/200\n",
      " - 0s - loss: 0.1261 - acc: 0.9508 - val_loss: 0.7033 - val_acc: 0.8145\n",
      "\n",
      "Epoch 00104: val_loss did not improve from 0.50667\n",
      "Epoch 105/200\n",
      " - 0s - loss: 0.1311 - acc: 0.9470 - val_loss: 0.7869 - val_acc: 0.7955\n",
      "\n",
      "Epoch 00105: val_loss did not improve from 0.50667\n",
      "Epoch 106/200\n",
      " - 0s - loss: 0.1270 - acc: 0.9480 - val_loss: 0.7334 - val_acc: 0.8118\n",
      "\n",
      "Epoch 00106: val_loss did not improve from 0.50667\n",
      "Epoch 107/200\n",
      " - 0s - loss: 0.1228 - acc: 0.9491 - val_loss: 0.5684 - val_acc: 0.8309\n",
      "\n",
      "Epoch 00107: val_loss did not improve from 0.50667\n",
      "Epoch 108/200\n",
      " - 0s - loss: 0.1159 - acc: 0.9534 - val_loss: 0.5646 - val_acc: 0.8264\n",
      "\n",
      "Epoch 00108: val_loss did not improve from 0.50667\n",
      "Epoch 109/200\n",
      " - 0s - loss: 0.1283 - acc: 0.9473 - val_loss: 0.5979 - val_acc: 0.8282\n",
      "\n",
      "Epoch 00109: val_loss did not improve from 0.50667\n",
      "Epoch 110/200\n",
      " - 0s - loss: 0.1449 - acc: 0.9405 - val_loss: 0.5563 - val_acc: 0.7945\n",
      "\n",
      "Epoch 00110: val_loss did not improve from 0.50667\n",
      "Epoch 111/200\n",
      " - 0s - loss: 0.1416 - acc: 0.9437 - val_loss: 0.6251 - val_acc: 0.8155\n",
      "\n",
      "Epoch 00111: val_loss did not improve from 0.50667\n",
      "Epoch 112/200\n",
      " - 0s - loss: 0.1255 - acc: 0.9490 - val_loss: 0.6584 - val_acc: 0.8036\n",
      "\n",
      "Epoch 00112: val_loss did not improve from 0.50667\n",
      "Epoch 113/200\n",
      " - 0s - loss: 0.1266 - acc: 0.9504 - val_loss: 0.6309 - val_acc: 0.8209\n",
      "\n",
      "Epoch 00113: val_loss did not improve from 0.50667\n",
      "Epoch 114/200\n",
      " - 0s - loss: 0.1148 - acc: 0.9546 - val_loss: 0.5908 - val_acc: 0.8336\n",
      "\n",
      "Epoch 00114: val_loss did not improve from 0.50667\n",
      "Epoch 115/200\n",
      " - 0s - loss: 0.1109 - acc: 0.9556 - val_loss: 0.6575 - val_acc: 0.8064\n",
      "\n",
      "Epoch 00115: val_loss did not improve from 0.50667\n",
      "Epoch 116/200\n",
      " - 0s - loss: 0.1216 - acc: 0.9499 - val_loss: 0.6214 - val_acc: 0.8155\n",
      "\n",
      "Epoch 00116: val_loss did not improve from 0.50667\n",
      "Epoch 117/200\n",
      " - 0s - loss: 0.1246 - acc: 0.9482 - val_loss: 0.6561 - val_acc: 0.8018\n",
      "\n",
      "Epoch 00117: val_loss did not improve from 0.50667\n",
      "Epoch 118/200\n",
      " - 0s - loss: 0.1373 - acc: 0.9439 - val_loss: 0.6323 - val_acc: 0.8155\n",
      "\n",
      "Epoch 00118: val_loss did not improve from 0.50667\n",
      "Epoch 119/200\n",
      " - 0s - loss: 0.1228 - acc: 0.9500 - val_loss: 0.6384 - val_acc: 0.8345\n",
      "\n",
      "Epoch 00119: val_loss did not improve from 0.50667\n",
      "Epoch 120/200\n",
      " - 0s - loss: 0.1455 - acc: 0.9403 - val_loss: 0.6869 - val_acc: 0.8073\n",
      "\n",
      "Epoch 00120: val_loss did not improve from 0.50667\n",
      "Epoch 121/200\n",
      " - 0s - loss: 0.1225 - acc: 0.9499 - val_loss: 0.7531 - val_acc: 0.8127\n",
      "\n",
      "Epoch 00121: val_loss did not improve from 0.50667\n",
      "Epoch 122/200\n",
      " - 0s - loss: 0.1423 - acc: 0.9443 - val_loss: 0.5365 - val_acc: 0.7836\n",
      "\n",
      "Epoch 00122: val_loss did not improve from 0.50667\n",
      "Epoch 123/200\n",
      " - 0s - loss: 0.1580 - acc: 0.9316 - val_loss: 0.5266 - val_acc: 0.7827\n",
      "\n",
      "Epoch 00123: val_loss did not improve from 0.50667\n",
      "Epoch 124/200\n",
      " - 0s - loss: 0.1272 - acc: 0.9478 - val_loss: 0.6694 - val_acc: 0.8227\n",
      "\n",
      "Epoch 00124: val_loss did not improve from 0.50667\n",
      "Epoch 125/200\n",
      " - 0s - loss: 0.1221 - acc: 0.9513 - val_loss: 0.6589 - val_acc: 0.8245\n",
      "\n",
      "Epoch 00125: val_loss did not improve from 0.50667\n",
      "Epoch 126/200\n",
      " - 0s - loss: 0.1197 - acc: 0.9517 - val_loss: 0.6186 - val_acc: 0.8036\n",
      "\n",
      "Epoch 00126: val_loss did not improve from 0.50667\n",
      "Epoch 127/200\n",
      " - 0s - loss: 0.1245 - acc: 0.9510 - val_loss: 0.5520 - val_acc: 0.8082\n",
      "\n",
      "Epoch 00127: val_loss did not improve from 0.50667\n",
      "Epoch 128/200\n",
      " - 0s - loss: 0.1161 - acc: 0.9545 - val_loss: 0.6526 - val_acc: 0.8036\n",
      "\n",
      "Epoch 00128: val_loss did not improve from 0.50667\n",
      "Epoch 129/200\n",
      " - 0s - loss: 0.1221 - acc: 0.9492 - val_loss: 0.6272 - val_acc: 0.8273\n",
      "\n",
      "Epoch 00129: val_loss did not improve from 0.50667\n",
      "Epoch 130/200\n",
      " - 0s - loss: 0.1229 - acc: 0.9510 - val_loss: 0.6251 - val_acc: 0.8164\n",
      "\n",
      "Epoch 00130: val_loss did not improve from 0.50667\n",
      "Epoch 131/200\n",
      " - 0s - loss: 0.1050 - acc: 0.9599 - val_loss: 0.5247 - val_acc: 0.8109\n",
      "\n",
      "Epoch 00131: val_loss did not improve from 0.50667\n",
      "Epoch 132/200\n",
      " - 0s - loss: 0.1110 - acc: 0.9555 - val_loss: 0.5408 - val_acc: 0.8091\n",
      "\n",
      "Epoch 00132: val_loss did not improve from 0.50667\n",
      "Epoch 133/200\n",
      " - 0s - loss: 0.1238 - acc: 0.9492 - val_loss: 0.5274 - val_acc: 0.8255\n",
      "\n",
      "Epoch 00133: val_loss did not improve from 0.50667\n",
      "Epoch 134/200\n",
      " - 0s - loss: 0.1253 - acc: 0.9485 - val_loss: 0.5510 - val_acc: 0.8282\n",
      "\n",
      "Epoch 00134: val_loss did not improve from 0.50667\n",
      "Epoch 135/200\n",
      " - 0s - loss: 0.1626 - acc: 0.9307 - val_loss: 0.5619 - val_acc: 0.8264\n",
      "\n",
      "Epoch 00135: val_loss did not improve from 0.50667\n",
      "Epoch 136/200\n",
      " - 0s - loss: 0.1391 - acc: 0.9440 - val_loss: 0.6026 - val_acc: 0.8218\n",
      "\n",
      "Epoch 00136: val_loss did not improve from 0.50667\n",
      "Epoch 137/200\n",
      " - 0s - loss: 0.1270 - acc: 0.9474 - val_loss: 0.5389 - val_acc: 0.8255\n",
      "\n",
      "Epoch 00137: val_loss did not improve from 0.50667\n",
      "Epoch 138/200\n",
      " - 0s - loss: 0.1144 - acc: 0.9545 - val_loss: 0.5989 - val_acc: 0.8236\n",
      "\n",
      "Epoch 00138: val_loss did not improve from 0.50667\n",
      "Epoch 139/200\n",
      " - 0s - loss: 0.1045 - acc: 0.9580 - val_loss: 0.6086 - val_acc: 0.8227\n",
      "\n",
      "Epoch 00139: val_loss did not improve from 0.50667\n",
      "Epoch 140/200\n",
      " - 0s - loss: 0.1099 - acc: 0.9562 - val_loss: 0.5690 - val_acc: 0.8327\n",
      "\n",
      "Epoch 00140: val_loss did not improve from 0.50667\n",
      "Epoch 141/200\n",
      " - 0s - loss: 0.1093 - acc: 0.9564 - val_loss: 0.5462 - val_acc: 0.8391\n",
      "\n",
      "Epoch 00141: val_loss did not improve from 0.50667\n",
      "Epoch 142/200\n",
      " - 0s - loss: 0.1081 - acc: 0.9584 - val_loss: 0.6339 - val_acc: 0.8182\n",
      "\n",
      "Epoch 00142: val_loss did not improve from 0.50667\n",
      "Epoch 143/200\n",
      " - 0s - loss: 0.1155 - acc: 0.9537 - val_loss: 0.5414 - val_acc: 0.8082\n",
      "\n",
      "Epoch 00143: val_loss did not improve from 0.50667\n",
      "Epoch 144/200\n",
      " - 0s - loss: 0.1191 - acc: 0.9519 - val_loss: 0.5851 - val_acc: 0.8273\n",
      "\n",
      "Epoch 00144: val_loss did not improve from 0.50667\n",
      "Epoch 145/200\n",
      " - 0s - loss: 0.1113 - acc: 0.9558 - val_loss: 0.4912 - val_acc: 0.8200\n",
      "\n",
      "Epoch 00145: val_loss improved from 0.50667 to 0.49123, saving model to MLP_new.weights.best.hdf5\n",
      "Epoch 146/200\n",
      " - 0s - loss: 0.1107 - acc: 0.9556 - val_loss: 0.5383 - val_acc: 0.7918\n",
      "\n",
      "Epoch 00146: val_loss did not improve from 0.49123\n",
      "Epoch 147/200\n",
      " - 0s - loss: 0.1143 - acc: 0.9557 - val_loss: 0.6420 - val_acc: 0.8273\n",
      "\n",
      "Epoch 00147: val_loss did not improve from 0.49123\n",
      "Epoch 148/200\n",
      " - 0s - loss: 0.1121 - acc: 0.9552 - val_loss: 0.6166 - val_acc: 0.8309\n",
      "\n",
      "Epoch 00148: val_loss did not improve from 0.49123\n",
      "Epoch 149/200\n",
      " - 0s - loss: 0.1036 - acc: 0.9574 - val_loss: 0.4957 - val_acc: 0.8436\n",
      "\n",
      "Epoch 00149: val_loss did not improve from 0.49123\n",
      "Epoch 150/200\n",
      " - 0s - loss: 0.1139 - acc: 0.9552 - val_loss: 0.5686 - val_acc: 0.8382\n",
      "\n",
      "Epoch 00150: val_loss did not improve from 0.49123\n",
      "Epoch 151/200\n",
      " - 0s - loss: 0.1075 - acc: 0.9576 - val_loss: 0.5015 - val_acc: 0.8400\n",
      "\n",
      "Epoch 00151: val_loss did not improve from 0.49123\n",
      "Epoch 152/200\n",
      " - 0s - loss: 0.1096 - acc: 0.9562 - val_loss: 0.6256 - val_acc: 0.8173\n",
      "\n",
      "Epoch 00152: val_loss did not improve from 0.49123\n",
      "Epoch 153/200\n",
      " - 0s - loss: 0.1141 - acc: 0.9542 - val_loss: 0.5186 - val_acc: 0.8382\n",
      "\n",
      "Epoch 00153: val_loss did not improve from 0.49123\n",
      "Epoch 154/200\n",
      " - 0s - loss: 0.1188 - acc: 0.9538 - val_loss: 0.5452 - val_acc: 0.8245\n",
      "\n",
      "Epoch 00154: val_loss did not improve from 0.49123\n",
      "Epoch 155/200\n",
      " - 0s - loss: 0.1372 - acc: 0.9444 - val_loss: 0.5729 - val_acc: 0.8145\n",
      "\n",
      "Epoch 00155: val_loss did not improve from 0.49123\n",
      "Epoch 156/200\n",
      " - 0s - loss: 0.1583 - acc: 0.9357 - val_loss: 0.6064 - val_acc: 0.8073\n",
      "\n",
      "Epoch 00156: val_loss did not improve from 0.49123\n",
      "Epoch 157/200\n",
      " - 0s - loss: 0.1317 - acc: 0.9483 - val_loss: 0.5769 - val_acc: 0.8182\n",
      "\n",
      "Epoch 00157: val_loss did not improve from 0.49123\n",
      "Epoch 158/200\n",
      " - 0s - loss: 0.1215 - acc: 0.9519 - val_loss: 0.5979 - val_acc: 0.8200\n",
      "\n",
      "Epoch 00158: val_loss did not improve from 0.49123\n",
      "Epoch 159/200\n"
     ]
    },
    {
     "name": "stdout",
     "output_type": "stream",
     "text": [
      " - 0s - loss: 0.1099 - acc: 0.9554 - val_loss: 0.5980 - val_acc: 0.8364\n",
      "\n",
      "Epoch 00159: val_loss did not improve from 0.49123\n",
      "Epoch 160/200\n",
      " - 0s - loss: 0.1271 - acc: 0.9498 - val_loss: 0.5861 - val_acc: 0.8164\n",
      "\n",
      "Epoch 00160: val_loss did not improve from 0.49123\n",
      "Epoch 161/200\n",
      " - 0s - loss: 0.1200 - acc: 0.9518 - val_loss: 0.5700 - val_acc: 0.8318\n",
      "\n",
      "Epoch 00161: val_loss did not improve from 0.49123\n",
      "Epoch 162/200\n",
      " - 0s - loss: 0.1234 - acc: 0.9498 - val_loss: 0.6797 - val_acc: 0.8173\n",
      "\n",
      "Epoch 00162: val_loss did not improve from 0.49123\n",
      "Epoch 163/200\n",
      " - 0s - loss: 0.1145 - acc: 0.9549 - val_loss: 0.5748 - val_acc: 0.8155\n",
      "\n",
      "Epoch 00163: val_loss did not improve from 0.49123\n",
      "Epoch 164/200\n",
      " - 0s - loss: 0.1259 - acc: 0.9477 - val_loss: 0.5544 - val_acc: 0.8400\n",
      "\n",
      "Epoch 00164: val_loss did not improve from 0.49123\n",
      "Epoch 165/200\n",
      " - 0s - loss: 0.1463 - acc: 0.9418 - val_loss: 0.6388 - val_acc: 0.8018\n",
      "\n",
      "Epoch 00165: val_loss did not improve from 0.49123\n",
      "Epoch 166/200\n",
      " - 0s - loss: 0.1426 - acc: 0.9420 - val_loss: 0.6367 - val_acc: 0.8218\n",
      "\n",
      "Epoch 00166: val_loss did not improve from 0.49123\n",
      "Epoch 167/200\n",
      " - 0s - loss: 0.1343 - acc: 0.9443 - val_loss: 0.6101 - val_acc: 0.8082\n",
      "\n",
      "Epoch 00167: val_loss did not improve from 0.49123\n",
      "Epoch 168/200\n",
      " - 0s - loss: 0.1288 - acc: 0.9479 - val_loss: 0.5072 - val_acc: 0.7891\n",
      "\n",
      "Epoch 00168: val_loss did not improve from 0.49123\n",
      "Epoch 169/200\n",
      " - 0s - loss: 0.1207 - acc: 0.9501 - val_loss: 0.6277 - val_acc: 0.8264\n",
      "\n",
      "Epoch 00169: val_loss did not improve from 0.49123\n",
      "Epoch 170/200\n",
      " - 0s - loss: 0.1076 - acc: 0.9566 - val_loss: 0.6373 - val_acc: 0.8327\n",
      "\n",
      "Epoch 00170: val_loss did not improve from 0.49123\n",
      "Epoch 171/200\n",
      " - 0s - loss: 0.1094 - acc: 0.9554 - val_loss: 0.6263 - val_acc: 0.8327\n",
      "\n",
      "Epoch 00171: val_loss did not improve from 0.49123\n",
      "Epoch 172/200\n",
      " - 0s - loss: 0.1233 - acc: 0.9511 - val_loss: 0.5700 - val_acc: 0.8355\n",
      "\n",
      "Epoch 00172: val_loss did not improve from 0.49123\n",
      "Epoch 173/200\n",
      " - 0s - loss: 0.1113 - acc: 0.9547 - val_loss: 0.5486 - val_acc: 0.8364\n",
      "\n",
      "Epoch 00173: val_loss did not improve from 0.49123\n",
      "Epoch 174/200\n",
      " - 0s - loss: 0.1102 - acc: 0.9533 - val_loss: 0.5793 - val_acc: 0.8064\n",
      "\n",
      "Epoch 00174: val_loss did not improve from 0.49123\n",
      "Epoch 175/200\n",
      " - 0s - loss: 0.1130 - acc: 0.9528 - val_loss: 0.6197 - val_acc: 0.8309\n",
      "\n",
      "Epoch 00175: val_loss did not improve from 0.49123\n",
      "Epoch 176/200\n",
      " - 0s - loss: 0.1062 - acc: 0.9570 - val_loss: 0.7528 - val_acc: 0.8091\n",
      "\n",
      "Epoch 00176: val_loss did not improve from 0.49123\n",
      "Epoch 177/200\n",
      " - 0s - loss: 0.1148 - acc: 0.9541 - val_loss: 0.6431 - val_acc: 0.8255\n",
      "\n",
      "Epoch 00177: val_loss did not improve from 0.49123\n",
      "Epoch 178/200\n",
      " - 0s - loss: 0.1137 - acc: 0.9560 - val_loss: 0.5440 - val_acc: 0.8264\n",
      "\n",
      "Epoch 00178: val_loss did not improve from 0.49123\n",
      "Epoch 179/200\n",
      " - 0s - loss: 0.1261 - acc: 0.9488 - val_loss: 0.5419 - val_acc: 0.8227\n",
      "\n",
      "Epoch 00179: val_loss did not improve from 0.49123\n",
      "Epoch 180/200\n",
      " - 0s - loss: 0.1158 - acc: 0.9542 - val_loss: 0.6303 - val_acc: 0.8155\n",
      "\n",
      "Epoch 00180: val_loss did not improve from 0.49123\n",
      "Epoch 181/200\n",
      " - 0s - loss: 0.1169 - acc: 0.9520 - val_loss: 0.4940 - val_acc: 0.8355\n",
      "\n",
      "Epoch 00181: val_loss did not improve from 0.49123\n",
      "Epoch 182/200\n",
      " - 0s - loss: 0.0989 - acc: 0.9602 - val_loss: 0.5594 - val_acc: 0.8182\n",
      "\n",
      "Epoch 00182: val_loss did not improve from 0.49123\n",
      "Epoch 183/200\n",
      " - 0s - loss: 0.1145 - acc: 0.9527 - val_loss: 0.5970 - val_acc: 0.8255\n",
      "\n",
      "Epoch 00183: val_loss did not improve from 0.49123\n",
      "Epoch 184/200\n",
      " - 0s - loss: 0.1176 - acc: 0.9516 - val_loss: 0.5513 - val_acc: 0.7545\n",
      "\n",
      "Epoch 00184: val_loss did not improve from 0.49123\n",
      "Epoch 185/200\n",
      " - 0s - loss: 0.1430 - acc: 0.9403 - val_loss: 0.7781 - val_acc: 0.7927\n",
      "\n",
      "Epoch 00185: val_loss did not improve from 0.49123\n",
      "Epoch 186/200\n",
      " - 0s - loss: 0.1238 - acc: 0.9485 - val_loss: 0.6503 - val_acc: 0.8091\n",
      "\n",
      "Epoch 00186: val_loss did not improve from 0.49123\n",
      "Epoch 187/200\n",
      " - 0s - loss: 0.1010 - acc: 0.9603 - val_loss: 0.5646 - val_acc: 0.8436\n",
      "\n",
      "Epoch 00187: val_loss did not improve from 0.49123\n",
      "Epoch 188/200\n",
      " - 0s - loss: 0.1067 - acc: 0.9575 - val_loss: 0.5534 - val_acc: 0.8364\n",
      "\n",
      "Epoch 00188: val_loss did not improve from 0.49123\n",
      "Epoch 189/200\n",
      " - 0s - loss: 0.0975 - acc: 0.9609 - val_loss: 0.5303 - val_acc: 0.8409\n",
      "\n",
      "Epoch 00189: val_loss did not improve from 0.49123\n",
      "Epoch 190/200\n",
      " - 0s - loss: 0.1006 - acc: 0.9605 - val_loss: 0.5592 - val_acc: 0.8064\n",
      "\n",
      "Epoch 00190: val_loss did not improve from 0.49123\n",
      "Epoch 191/200\n",
      " - 0s - loss: 0.1164 - acc: 0.9525 - val_loss: 0.5040 - val_acc: 0.8164\n",
      "\n",
      "Epoch 00191: val_loss did not improve from 0.49123\n",
      "Epoch 192/200\n",
      " - 0s - loss: 0.1075 - acc: 0.9595 - val_loss: 0.6301 - val_acc: 0.8327\n",
      "\n",
      "Epoch 00192: val_loss did not improve from 0.49123\n",
      "Epoch 193/200\n",
      " - 0s - loss: 0.1177 - acc: 0.9545 - val_loss: 0.7446 - val_acc: 0.7991\n",
      "\n",
      "Epoch 00193: val_loss did not improve from 0.49123\n",
      "Epoch 194/200\n",
      " - 0s - loss: 0.1122 - acc: 0.9554 - val_loss: 0.5637 - val_acc: 0.7973\n",
      "\n",
      "Epoch 00194: val_loss did not improve from 0.49123\n",
      "Epoch 195/200\n",
      " - 0s - loss: 0.1241 - acc: 0.9476 - val_loss: 0.5508 - val_acc: 0.8127\n",
      "\n",
      "Epoch 00195: val_loss did not improve from 0.49123\n",
      "Epoch 196/200\n",
      " - 0s - loss: 0.1544 - acc: 0.9368 - val_loss: 0.6133 - val_acc: 0.7900\n",
      "\n",
      "Epoch 00196: val_loss did not improve from 0.49123\n",
      "Epoch 197/200\n",
      " - 0s - loss: 0.1452 - acc: 0.9407 - val_loss: 0.4940 - val_acc: 0.8327\n",
      "\n",
      "Epoch 00197: val_loss did not improve from 0.49123\n",
      "Epoch 198/200\n",
      " - 0s - loss: 0.1132 - acc: 0.9547 - val_loss: 0.6205 - val_acc: 0.8264\n",
      "\n",
      "Epoch 00198: val_loss did not improve from 0.49123\n",
      "Epoch 199/200\n",
      " - 0s - loss: 0.1074 - acc: 0.9577 - val_loss: 0.5766 - val_acc: 0.8164\n",
      "\n",
      "Epoch 00199: val_loss did not improve from 0.49123\n",
      "Epoch 200/200\n",
      " - 0s - loss: 0.1150 - acc: 0.9543 - val_loss: 0.5437 - val_acc: 0.8309\n",
      "\n",
      "Epoch 00200: val_loss did not improve from 0.49123\n"
     ]
    }
   ],
   "source": [
    "from keras.callbacks import ModelCheckpoint\n",
    "\n",
    "checkpointer = ModelCheckpoint(filepath = 'MLP_new.weights.best.hdf5', verbose = 1, save_best_only = True)\n",
    "hist1 = model2.fit( x_train, y_train, epochs = 200, batch_size=512, validation_split = 0.1, callbacks = [checkpointer], verbose = 2, shuffle = True )"
   ]
  },
  {
   "cell_type": "code",
   "execution_count": 161,
   "metadata": {
    "colab": {
     "autoexec": {
      "startup": false,
      "wait_interval": 0
     },
     "base_uri": "https://localhost:8080/",
     "height": 54
    },
    "colab_type": "code",
    "executionInfo": {
     "elapsed": 1036,
     "status": "ok",
     "timestamp": 1528838562560,
     "user": {
      "displayName": "SHUBHAM VERMA",
      "photoUrl": "https://lh3.googleusercontent.com/a/default-user=s128",
      "userId": "108363614808362191748"
     },
     "user_tz": -330
    },
    "id": "aNKmoGdQchbo",
    "outputId": "ae555b2c-cba8-4e72-cc55-5614e8b99c9c"
   },
   "outputs": [
    {
     "name": "stdout",
     "output_type": "stream",
     "text": [
      "3980/3980 [==============================] - 0s 77us/step\n",
      "Accuracy:  0.7557788944124576\n"
     ]
    }
   ],
   "source": [
    "score = model2.evaluate(x_test, y_test, verbose=1)\n",
    "print(\"Accuracy: \", score[1])"
   ]
  },
  {
   "cell_type": "code",
   "execution_count": 0,
   "metadata": {
    "colab": {
     "autoexec": {
      "startup": false,
      "wait_interval": 0
     }
    },
    "colab_type": "code",
    "id": "elVEGDtW3JfM"
   },
   "outputs": [],
   "source": [
    "predict3 = [1 if a>=0.5 else 0 for a in model2.predict(x_test)] "
   ]
  },
  {
   "cell_type": "code",
   "execution_count": 183,
   "metadata": {
    "colab": {
     "autoexec": {
      "startup": false,
      "wait_interval": 0
     },
     "base_uri": "https://localhost:8080/",
     "height": 91
    },
    "colab_type": "code",
    "executionInfo": {
     "elapsed": 1086,
     "status": "ok",
     "timestamp": 1528839774224,
     "user": {
      "displayName": "SHUBHAM VERMA",
      "photoUrl": "https://lh3.googleusercontent.com/a/default-user=s128",
      "userId": "108363614808362191748"
     },
     "user_tz": -330
    },
    "id": "bww5JR0i3PGh",
    "outputId": "6b0b172d-8479-4248-e644-a66fa315f6d3"
   },
   "outputs": [
    {
     "name": "stdout",
     "output_type": "stream",
     "text": [
      "Accuracy = 0.7557788944723618\n",
      "Precision = 0.7142857142857143\n",
      "Recall = 0.8642892521050025\n",
      "F1 Score = 0.7821604661586732\n"
     ]
    }
   ],
   "source": [
    "print(\"Accuracy = {}\\nPrecision = {}\\nRecall = {}\\nF1 Score = {}\".format(metrics.accuracy_score(y_test, predict3), metrics.precision_score(y_test, predict3),metrics.recall_score(y_test, predict3),metrics.f1_score(y_test, predict3)))\n",
    "score_p.append([metrics.accuracy_score(y_test, predict3), metrics.precision_score(y_test, predict3),metrics.recall_score(y_test, predict3),metrics.f1_score(y_test, predict3)])"
   ]
  },
  {
   "cell_type": "code",
   "execution_count": 0,
   "metadata": {
    "colab": {
     "autoexec": {
      "startup": false,
      "wait_interval": 0
     }
    },
    "colab_type": "code",
    "id": "PocmBpI__yv7"
   },
   "outputs": [],
   "source": [
    "import matplotlib.pyplot as plt"
   ]
  },
  {
   "cell_type": "markdown",
   "metadata": {
    "colab_type": "text",
    "id": "lghx16y4_r8Q"
   },
   "source": [
    "# Training on  LSTM"
   ]
  },
  {
   "cell_type": "markdown",
   "metadata": {
    "colab_type": "text",
    "id": "wNp083VrV_ai"
   },
   "source": [
    "### Creating 3D array dataset"
   ]
  },
  {
   "cell_type": "code",
   "execution_count": 0,
   "metadata": {
    "colab": {
     "autoexec": {
      "startup": false,
      "wait_interval": 0
     }
    },
    "colab_type": "code",
    "id": "3AXLNcwEwbIx"
   },
   "outputs": [],
   "source": [
    "X_train = np.asarray(np.reshape(x_train, (x_train.shape[0], 14, 1)))\n",
    "X_test = np.asarray(np.reshape(x_test, (x_test.shape[0], 14, 1)))"
   ]
  },
  {
   "cell_type": "code",
   "execution_count": 0,
   "metadata": {
    "colab": {
     "autoexec": {
      "startup": false,
      "wait_interval": 0
     }
    },
    "colab_type": "code",
    "id": "Krv-k18n3mXy"
   },
   "outputs": [],
   "source": [
    "from keras.layers import Dense, Dropout, CuDNNLSTM, Embedding, LSTM\n",
    "from keras.models import Sequential"
   ]
  },
  {
   "cell_type": "code",
   "execution_count": 0,
   "metadata": {
    "colab": {
     "autoexec": {
      "startup": false,
      "wait_interval": 0
     }
    },
    "colab_type": "code",
    "id": "DR_-hoc-_qx6"
   },
   "outputs": [],
   "source": [
    "model3 = Sequential()\n",
    "model3.add(LSTM(256,input_shape=(14, 1), return_sequences=True))\n",
    "model3.add(LSTM(256))\n",
    "model3.add(Dense(1, activation='sigmoid'))"
   ]
  },
  {
   "cell_type": "code",
   "execution_count": 169,
   "metadata": {
    "colab": {
     "autoexec": {
      "startup": false,
      "wait_interval": 0
     },
     "base_uri": "https://localhost:8080/",
     "height": 258
    },
    "colab_type": "code",
    "executionInfo": {
     "elapsed": 1438,
     "status": "ok",
     "timestamp": 1528838677662,
     "user": {
      "displayName": "SHUBHAM VERMA",
      "photoUrl": "https://lh3.googleusercontent.com/a/default-user=s128",
      "userId": "108363614808362191748"
     },
     "user_tz": -330
    },
    "id": "i8emSgOt_q1c",
    "outputId": "10afeef3-7634-456c-b363-7f6fa8e090c7"
   },
   "outputs": [
    {
     "name": "stdout",
     "output_type": "stream",
     "text": [
      "_________________________________________________________________\n",
      "Layer (type)                 Output Shape              Param #   \n",
      "=================================================================\n",
      "lstm_7 (LSTM)                (None, 14, 256)           264192    \n",
      "_________________________________________________________________\n",
      "lstm_8 (LSTM)                (None, 256)               525312    \n",
      "_________________________________________________________________\n",
      "dense_45 (Dense)             (None, 1)                 257       \n",
      "=================================================================\n",
      "Total params: 789,761\n",
      "Trainable params: 789,761\n",
      "Non-trainable params: 0\n",
      "_________________________________________________________________\n"
     ]
    }
   ],
   "source": [
    "model3.compile(loss='binary_crossentropy', optimizer='adam', metrics=['accuracy'])\n",
    "model3.summary()"
   ]
  },
  {
   "cell_type": "code",
   "execution_count": 170,
   "metadata": {
    "colab": {
     "autoexec": {
      "startup": false,
      "wait_interval": 0
     },
     "base_uri": "https://localhost:8080/",
     "height": 7482
    },
    "colab_type": "code",
    "executionInfo": {
     "elapsed": 276963,
     "status": "ok",
     "timestamp": 1528838958417,
     "user": {
      "displayName": "SHUBHAM VERMA",
      "photoUrl": "https://lh3.googleusercontent.com/a/default-user=s128",
      "userId": "108363614808362191748"
     },
     "user_tz": -330
    },
    "id": "xBzDfMmU_q9s",
    "outputId": "28aab7f6-7404-49ae-b27f-f052677bf381"
   },
   "outputs": [
    {
     "name": "stdout",
     "output_type": "stream",
     "text": [
      "Train on 9900 samples, validate on 1100 samples\n",
      "Epoch 1/100\n",
      " - 4s - loss: 0.6925 - acc: 0.5182 - val_loss: 0.6918 - val_acc: 0.5255\n",
      "\n",
      "Epoch 00001: val_loss improved from inf to 0.69181, saving model to LSTM.weights.best.hdf5\n",
      "Epoch 2/100\n",
      " - 3s - loss: 0.6914 - acc: 0.5245 - val_loss: 0.6910 - val_acc: 0.5255\n",
      "\n",
      "Epoch 00002: val_loss improved from 0.69181 to 0.69103, saving model to LSTM.weights.best.hdf5\n",
      "Epoch 3/100\n",
      " - 3s - loss: 0.6887 - acc: 0.5283 - val_loss: 0.6900 - val_acc: 0.5300\n",
      "\n",
      "Epoch 00003: val_loss improved from 0.69103 to 0.68997, saving model to LSTM.weights.best.hdf5\n",
      "Epoch 4/100\n",
      " - 3s - loss: 0.6791 - acc: 0.5585 - val_loss: 0.6790 - val_acc: 0.5609\n",
      "\n",
      "Epoch 00004: val_loss improved from 0.68997 to 0.67901, saving model to LSTM.weights.best.hdf5\n",
      "Epoch 5/100\n",
      " - 3s - loss: 0.6741 - acc: 0.5611 - val_loss: 0.6844 - val_acc: 0.5518\n",
      "\n",
      "Epoch 00005: val_loss did not improve from 0.67901\n",
      "Epoch 6/100\n",
      " - 3s - loss: 0.6728 - acc: 0.5595 - val_loss: 0.6815 - val_acc: 0.5682\n",
      "\n",
      "Epoch 00006: val_loss did not improve from 0.67901\n",
      "Epoch 7/100\n",
      " - 3s - loss: 0.6571 - acc: 0.5789 - val_loss: 0.6676 - val_acc: 0.5882\n",
      "\n",
      "Epoch 00007: val_loss improved from 0.67901 to 0.66757, saving model to LSTM.weights.best.hdf5\n",
      "Epoch 8/100\n",
      " - 3s - loss: 0.8433 - acc: 0.5404 - val_loss: 0.6910 - val_acc: 0.5273\n",
      "\n",
      "Epoch 00008: val_loss did not improve from 0.66757\n",
      "Epoch 9/100\n",
      " - 3s - loss: 0.6911 - acc: 0.5328 - val_loss: 0.6902 - val_acc: 0.5273\n",
      "\n",
      "Epoch 00009: val_loss did not improve from 0.66757\n",
      "Epoch 10/100\n",
      " - 3s - loss: 0.6890 - acc: 0.5445 - val_loss: 0.6896 - val_acc: 0.5345\n",
      "\n",
      "Epoch 00010: val_loss did not improve from 0.66757\n",
      "Epoch 11/100\n",
      " - 3s - loss: 0.6878 - acc: 0.5292 - val_loss: 0.6894 - val_acc: 0.5282\n",
      "\n",
      "Epoch 00011: val_loss did not improve from 0.66757\n",
      "Epoch 12/100\n",
      " - 3s - loss: 0.6875 - acc: 0.5524 - val_loss: 0.6893 - val_acc: 0.5409\n",
      "\n",
      "Epoch 00012: val_loss did not improve from 0.66757\n",
      "Epoch 13/100\n",
      " - 3s - loss: 0.6865 - acc: 0.5397 - val_loss: 0.6908 - val_acc: 0.5145\n",
      "\n",
      "Epoch 00013: val_loss did not improve from 0.66757\n",
      "Epoch 14/100\n",
      " - 3s - loss: 0.6862 - acc: 0.5491 - val_loss: 0.6886 - val_acc: 0.5391\n",
      "\n",
      "Epoch 00014: val_loss did not improve from 0.66757\n",
      "Epoch 15/100\n",
      " - 3s - loss: 0.6847 - acc: 0.5314 - val_loss: 0.6874 - val_acc: 0.5309\n",
      "\n",
      "Epoch 00015: val_loss did not improve from 0.66757\n",
      "Epoch 16/100\n",
      " - 3s - loss: 0.6837 - acc: 0.5498 - val_loss: 0.6874 - val_acc: 0.5427\n",
      "\n",
      "Epoch 00016: val_loss did not improve from 0.66757\n",
      "Epoch 17/100\n",
      " - 3s - loss: 0.6828 - acc: 0.5465 - val_loss: 0.6856 - val_acc: 0.5227\n",
      "\n",
      "Epoch 00017: val_loss did not improve from 0.66757\n",
      "Epoch 18/100\n",
      " - 3s - loss: 0.6784 - acc: 0.5518 - val_loss: 0.6881 - val_acc: 0.5373\n",
      "\n",
      "Epoch 00018: val_loss did not improve from 0.66757\n",
      "Epoch 19/100\n",
      " - 3s - loss: 0.6756 - acc: 0.5576 - val_loss: 0.6834 - val_acc: 0.5436\n",
      "\n",
      "Epoch 00019: val_loss did not improve from 0.66757\n",
      "Epoch 20/100\n",
      " - 3s - loss: 0.6753 - acc: 0.5527 - val_loss: 0.6828 - val_acc: 0.5427\n",
      "\n",
      "Epoch 00020: val_loss did not improve from 0.66757\n",
      "Epoch 21/100\n",
      " - 3s - loss: 0.6633 - acc: 0.5728 - val_loss: 0.6796 - val_acc: 0.5536\n",
      "\n",
      "Epoch 00021: val_loss did not improve from 0.66757\n",
      "Epoch 22/100\n",
      " - 3s - loss: 0.6642 - acc: 0.5692 - val_loss: 0.6851 - val_acc: 0.5164\n",
      "\n",
      "Epoch 00022: val_loss did not improve from 0.66757\n",
      "Epoch 23/100\n",
      " - 3s - loss: 0.6618 - acc: 0.5820 - val_loss: 0.6775 - val_acc: 0.5418\n",
      "\n",
      "Epoch 00023: val_loss did not improve from 0.66757\n",
      "Epoch 24/100\n",
      " - 3s - loss: 0.6411 - acc: 0.6081 - val_loss: 0.6972 - val_acc: 0.5109\n",
      "\n",
      "Epoch 00024: val_loss did not improve from 0.66757\n",
      "Epoch 25/100\n",
      " - 3s - loss: 0.6429 - acc: 0.6028 - val_loss: 0.6728 - val_acc: 0.5545\n",
      "\n",
      "Epoch 00025: val_loss did not improve from 0.66757\n",
      "Epoch 26/100\n",
      " - 3s - loss: 0.6297 - acc: 0.6147 - val_loss: 0.6747 - val_acc: 0.5436\n",
      "\n",
      "Epoch 00026: val_loss did not improve from 0.66757\n",
      "Epoch 27/100\n",
      " - 3s - loss: 0.6297 - acc: 0.6177 - val_loss: 0.6911 - val_acc: 0.5845\n",
      "\n",
      "Epoch 00027: val_loss did not improve from 0.66757\n",
      "Epoch 28/100\n",
      " - 3s - loss: 0.6213 - acc: 0.6198 - val_loss: 0.7163 - val_acc: 0.5473\n",
      "\n",
      "Epoch 00028: val_loss did not improve from 0.66757\n",
      "Epoch 29/100\n",
      " - 3s - loss: 0.6165 - acc: 0.6286 - val_loss: 0.6626 - val_acc: 0.5918\n",
      "\n",
      "Epoch 00029: val_loss improved from 0.66757 to 0.66263, saving model to LSTM.weights.best.hdf5\n",
      "Epoch 30/100\n",
      " - 3s - loss: 0.6215 - acc: 0.6090 - val_loss: 0.6960 - val_acc: 0.5464\n",
      "\n",
      "Epoch 00030: val_loss did not improve from 0.66263\n",
      "Epoch 31/100\n",
      " - 3s - loss: 0.6166 - acc: 0.6094 - val_loss: 0.6901 - val_acc: 0.5736\n",
      "\n",
      "Epoch 00031: val_loss did not improve from 0.66263\n",
      "Epoch 32/100\n",
      " - 3s - loss: 0.6123 - acc: 0.6221 - val_loss: 0.6624 - val_acc: 0.5600\n",
      "\n",
      "Epoch 00032: val_loss improved from 0.66263 to 0.66238, saving model to LSTM.weights.best.hdf5\n",
      "Epoch 33/100\n",
      " - 3s - loss: 0.6100 - acc: 0.6079 - val_loss: 0.6779 - val_acc: 0.5455\n",
      "\n",
      "Epoch 00033: val_loss did not improve from 0.66238\n",
      "Epoch 34/100\n",
      " - 3s - loss: 0.5987 - acc: 0.6339 - val_loss: 0.6685 - val_acc: 0.5509\n",
      "\n",
      "Epoch 00034: val_loss did not improve from 0.66238\n",
      "Epoch 35/100\n",
      " - 3s - loss: 0.5999 - acc: 0.6372 - val_loss: 0.6730 - val_acc: 0.5345\n",
      "\n",
      "Epoch 00035: val_loss did not improve from 0.66238\n",
      "Epoch 36/100\n",
      " - 3s - loss: 0.5872 - acc: 0.6507 - val_loss: 0.6743 - val_acc: 0.5427\n",
      "\n",
      "Epoch 00036: val_loss did not improve from 0.66238\n",
      "Epoch 37/100\n",
      " - 3s - loss: 0.6092 - acc: 0.6256 - val_loss: 0.6546 - val_acc: 0.5691\n",
      "\n",
      "Epoch 00037: val_loss improved from 0.66238 to 0.65457, saving model to LSTM.weights.best.hdf5\n",
      "Epoch 38/100\n",
      " - 3s - loss: 0.5958 - acc: 0.6387 - val_loss: 0.6882 - val_acc: 0.5464\n",
      "\n",
      "Epoch 00038: val_loss did not improve from 0.65457\n",
      "Epoch 39/100\n",
      " - 3s - loss: 0.5729 - acc: 0.6742 - val_loss: 0.6784 - val_acc: 0.5645\n",
      "\n",
      "Epoch 00039: val_loss did not improve from 0.65457\n",
      "Epoch 40/100\n",
      " - 3s - loss: 0.5793 - acc: 0.6590 - val_loss: 0.6706 - val_acc: 0.5473\n",
      "\n",
      "Epoch 00040: val_loss did not improve from 0.65457\n",
      "Epoch 41/100\n",
      " - 3s - loss: 0.6001 - acc: 0.6367 - val_loss: 0.6666 - val_acc: 0.5609\n",
      "\n",
      "Epoch 00041: val_loss did not improve from 0.65457\n",
      "Epoch 42/100\n",
      " - 3s - loss: 0.5944 - acc: 0.6427 - val_loss: 0.6810 - val_acc: 0.5564\n",
      "\n",
      "Epoch 00042: val_loss did not improve from 0.65457\n",
      "Epoch 43/100\n",
      " - 3s - loss: 0.5756 - acc: 0.6644 - val_loss: 0.6766 - val_acc: 0.5718\n",
      "\n",
      "Epoch 00043: val_loss did not improve from 0.65457\n",
      "Epoch 44/100\n",
      " - 3s - loss: 0.5740 - acc: 0.6706 - val_loss: 0.6834 - val_acc: 0.5091\n",
      "\n",
      "Epoch 00044: val_loss did not improve from 0.65457\n",
      "Epoch 45/100\n",
      " - 3s - loss: 0.6464 - acc: 0.5859 - val_loss: 0.6537 - val_acc: 0.5936\n",
      "\n",
      "Epoch 00045: val_loss improved from 0.65457 to 0.65373, saving model to LSTM.weights.best.hdf5\n",
      "Epoch 46/100\n",
      " - 3s - loss: 0.6122 - acc: 0.6061 - val_loss: 0.6576 - val_acc: 0.5427\n",
      "\n",
      "Epoch 00046: val_loss did not improve from 0.65373\n",
      "Epoch 47/100\n",
      " - 3s - loss: 0.6066 - acc: 0.6133 - val_loss: 0.6620 - val_acc: 0.5509\n",
      "\n",
      "Epoch 00047: val_loss did not improve from 0.65373\n",
      "Epoch 48/100\n",
      " - 3s - loss: 0.6089 - acc: 0.6188 - val_loss: 0.6635 - val_acc: 0.5455\n",
      "\n",
      "Epoch 00048: val_loss did not improve from 0.65373\n",
      "Epoch 49/100\n",
      " - 3s - loss: 0.5859 - acc: 0.6451 - val_loss: 0.6857 - val_acc: 0.5436\n",
      "\n",
      "Epoch 00049: val_loss did not improve from 0.65373\n",
      "Epoch 50/100\n",
      " - 3s - loss: 0.5739 - acc: 0.6620 - val_loss: 0.6777 - val_acc: 0.5500\n",
      "\n",
      "Epoch 00050: val_loss did not improve from 0.65373\n",
      "Epoch 51/100\n",
      " - 3s - loss: 0.6082 - acc: 0.6173 - val_loss: 0.6594 - val_acc: 0.5391\n",
      "\n",
      "Epoch 00051: val_loss did not improve from 0.65373\n",
      "Epoch 52/100\n",
      " - 3s - loss: 0.5882 - acc: 0.6423 - val_loss: 0.6560 - val_acc: 0.5509\n",
      "\n",
      "Epoch 00052: val_loss did not improve from 0.65373\n",
      "Epoch 53/100\n",
      " - 3s - loss: 0.5786 - acc: 0.6553 - val_loss: 0.6969 - val_acc: 0.5236\n",
      "\n",
      "Epoch 00053: val_loss did not improve from 0.65373\n",
      "Epoch 54/100\n",
      " - 3s - loss: 0.5685 - acc: 0.6681 - val_loss: 0.6688 - val_acc: 0.5400\n",
      "\n",
      "Epoch 00054: val_loss did not improve from 0.65373\n",
      "Epoch 55/100\n",
      " - 3s - loss: 0.5816 - acc: 0.6478 - val_loss: 0.7042 - val_acc: 0.5355\n",
      "\n",
      "Epoch 00055: val_loss did not improve from 0.65373\n",
      "Epoch 56/100\n",
      " - 3s - loss: 0.5586 - acc: 0.6865 - val_loss: 0.6739 - val_acc: 0.5609\n",
      "\n",
      "Epoch 00056: val_loss did not improve from 0.65373\n",
      "Epoch 57/100\n",
      " - 3s - loss: 0.6073 - acc: 0.6309 - val_loss: 0.6980 - val_acc: 0.5355\n",
      "\n",
      "Epoch 00057: val_loss did not improve from 0.65373\n",
      "Epoch 58/100\n",
      " - 3s - loss: 0.5569 - acc: 0.6809 - val_loss: 0.7085 - val_acc: 0.5682\n",
      "\n",
      "Epoch 00058: val_loss did not improve from 0.65373\n",
      "Epoch 59/100\n",
      " - 3s - loss: 0.5341 - acc: 0.7065 - val_loss: 0.7484 - val_acc: 0.5545\n",
      "\n",
      "Epoch 00059: val_loss did not improve from 0.65373\n",
      "Epoch 60/100\n",
      " - 3s - loss: 0.6086 - acc: 0.6279 - val_loss: 0.6686 - val_acc: 0.5536\n",
      "\n",
      "Epoch 00060: val_loss did not improve from 0.65373\n",
      "Epoch 61/100\n",
      " - 3s - loss: 0.5830 - acc: 0.6442 - val_loss: 0.6907 - val_acc: 0.5264\n",
      "\n",
      "Epoch 00061: val_loss did not improve from 0.65373\n",
      "Epoch 62/100\n",
      " - 3s - loss: 0.5885 - acc: 0.6552 - val_loss: 0.7001 - val_acc: 0.5455\n",
      "\n",
      "Epoch 00062: val_loss did not improve from 0.65373\n",
      "Epoch 63/100\n",
      " - 3s - loss: 0.5275 - acc: 0.7167 - val_loss: 0.6933 - val_acc: 0.6009\n",
      "\n",
      "Epoch 00063: val_loss did not improve from 0.65373\n",
      "Epoch 64/100\n",
      " - 3s - loss: 0.5830 - acc: 0.6582 - val_loss: 0.6658 - val_acc: 0.5636\n",
      "\n",
      "Epoch 00064: val_loss did not improve from 0.65373\n",
      "Epoch 65/100\n",
      " - 3s - loss: 0.5476 - acc: 0.6968 - val_loss: 0.6938 - val_acc: 0.5827\n",
      "\n",
      "Epoch 00065: val_loss did not improve from 0.65373\n",
      "Epoch 66/100\n",
      " - 3s - loss: 0.5378 - acc: 0.7062 - val_loss: 0.6988 - val_acc: 0.5782\n",
      "\n",
      "Epoch 00066: val_loss did not improve from 0.65373\n",
      "Epoch 67/100\n",
      " - 3s - loss: 0.4919 - acc: 0.7451 - val_loss: 0.6996 - val_acc: 0.5864\n",
      "\n",
      "Epoch 00067: val_loss did not improve from 0.65373\n",
      "Epoch 68/100\n",
      " - 3s - loss: 0.5116 - acc: 0.7272 - val_loss: 0.7083 - val_acc: 0.5882\n",
      "\n",
      "Epoch 00068: val_loss did not improve from 0.65373\n",
      "Epoch 69/100\n",
      " - 3s - loss: 0.5036 - acc: 0.7377 - val_loss: 0.7391 - val_acc: 0.6000\n",
      "\n",
      "Epoch 00069: val_loss did not improve from 0.65373\n",
      "Epoch 70/100\n",
      " - 3s - loss: 0.5129 - acc: 0.7274 - val_loss: 0.7044 - val_acc: 0.5891\n",
      "\n",
      "Epoch 00070: val_loss did not improve from 0.65373\n",
      "Epoch 71/100\n",
      " - 3s - loss: 0.4905 - acc: 0.7487 - val_loss: 0.7152 - val_acc: 0.6055\n",
      "\n",
      "Epoch 00071: val_loss did not improve from 0.65373\n",
      "Epoch 72/100\n",
      " - 3s - loss: 0.4807 - acc: 0.7555 - val_loss: 0.7195 - val_acc: 0.5900\n",
      "\n",
      "Epoch 00072: val_loss did not improve from 0.65373\n",
      "Epoch 73/100\n",
      " - 3s - loss: 0.4677 - acc: 0.7653 - val_loss: 0.7282 - val_acc: 0.6091\n",
      "\n",
      "Epoch 00073: val_loss did not improve from 0.65373\n",
      "Epoch 74/100\n",
      " - 3s - loss: 0.4665 - acc: 0.7715 - val_loss: 0.6833 - val_acc: 0.6091\n",
      "\n",
      "Epoch 00074: val_loss did not improve from 0.65373\n",
      "Epoch 75/100\n",
      " - 3s - loss: 0.4792 - acc: 0.7575 - val_loss: 0.7329 - val_acc: 0.6036\n",
      "\n",
      "Epoch 00075: val_loss did not improve from 0.65373\n",
      "Epoch 76/100\n",
      " - 3s - loss: 0.4675 - acc: 0.7714 - val_loss: 0.7181 - val_acc: 0.6136\n",
      "\n",
      "Epoch 00076: val_loss did not improve from 0.65373\n",
      "Epoch 77/100\n",
      " - 3s - loss: 0.4367 - acc: 0.7900 - val_loss: 0.6623 - val_acc: 0.6327\n",
      "\n",
      "Epoch 00077: val_loss did not improve from 0.65373\n",
      "Epoch 78/100\n"
     ]
    },
    {
     "name": "stdout",
     "output_type": "stream",
     "text": [
      " - 3s - loss: 0.4350 - acc: 0.7932 - val_loss: 0.8118 - val_acc: 0.5864\n",
      "\n",
      "Epoch 00078: val_loss did not improve from 0.65373\n",
      "Epoch 79/100\n",
      " - 3s - loss: 0.4258 - acc: 0.7959 - val_loss: 0.7010 - val_acc: 0.6382\n",
      "\n",
      "Epoch 00079: val_loss did not improve from 0.65373\n",
      "Epoch 80/100\n",
      " - 3s - loss: 0.4453 - acc: 0.7832 - val_loss: 0.7750 - val_acc: 0.6245\n",
      "\n",
      "Epoch 00080: val_loss did not improve from 0.65373\n",
      "Epoch 81/100\n",
      " - 3s - loss: 0.4353 - acc: 0.7870 - val_loss: 0.6648 - val_acc: 0.6336\n",
      "\n",
      "Epoch 00081: val_loss did not improve from 0.65373\n",
      "Epoch 82/100\n",
      " - 3s - loss: 0.4265 - acc: 0.7961 - val_loss: 0.6661 - val_acc: 0.6373\n",
      "\n",
      "Epoch 00082: val_loss did not improve from 0.65373\n",
      "Epoch 83/100\n",
      " - 3s - loss: 0.4023 - acc: 0.8111 - val_loss: 0.7188 - val_acc: 0.6327\n",
      "\n",
      "Epoch 00083: val_loss did not improve from 0.65373\n",
      "Epoch 84/100\n",
      " - 3s - loss: 0.4288 - acc: 0.7927 - val_loss: 0.7236 - val_acc: 0.6218\n",
      "\n",
      "Epoch 00084: val_loss did not improve from 0.65373\n",
      "Epoch 85/100\n",
      " - 3s - loss: 0.3921 - acc: 0.8166 - val_loss: 0.6961 - val_acc: 0.6391\n",
      "\n",
      "Epoch 00085: val_loss did not improve from 0.65373\n",
      "Epoch 86/100\n",
      " - 3s - loss: 0.4549 - acc: 0.7803 - val_loss: 0.6462 - val_acc: 0.6436\n",
      "\n",
      "Epoch 00086: val_loss improved from 0.65373 to 0.64616, saving model to LSTM.weights.best.hdf5\n",
      "Epoch 87/100\n",
      " - 3s - loss: 0.4028 - acc: 0.8119 - val_loss: 0.6723 - val_acc: 0.6573\n",
      "\n",
      "Epoch 00087: val_loss did not improve from 0.64616\n",
      "Epoch 88/100\n",
      " - 3s - loss: 0.3873 - acc: 0.8227 - val_loss: 0.6874 - val_acc: 0.6391\n",
      "\n",
      "Epoch 00088: val_loss did not improve from 0.64616\n",
      "Epoch 89/100\n",
      " - 3s - loss: 0.4097 - acc: 0.8038 - val_loss: 0.6651 - val_acc: 0.6436\n",
      "\n",
      "Epoch 00089: val_loss did not improve from 0.64616\n",
      "Epoch 90/100\n",
      " - 3s - loss: 0.3934 - acc: 0.8162 - val_loss: 0.6880 - val_acc: 0.6164\n",
      "\n",
      "Epoch 00090: val_loss did not improve from 0.64616\n",
      "Epoch 91/100\n",
      " - 3s - loss: 0.4103 - acc: 0.8092 - val_loss: 0.6757 - val_acc: 0.6473\n",
      "\n",
      "Epoch 00091: val_loss did not improve from 0.64616\n",
      "Epoch 92/100\n",
      " - 3s - loss: 0.3608 - acc: 0.8374 - val_loss: 0.7075 - val_acc: 0.6509\n",
      "\n",
      "Epoch 00092: val_loss did not improve from 0.64616\n",
      "Epoch 93/100\n",
      " - 3s - loss: 0.3694 - acc: 0.8331 - val_loss: 0.6800 - val_acc: 0.6609\n",
      "\n",
      "Epoch 00093: val_loss did not improve from 0.64616\n",
      "Epoch 94/100\n",
      " - 3s - loss: 0.3824 - acc: 0.8227 - val_loss: 0.6741 - val_acc: 0.6555\n",
      "\n",
      "Epoch 00094: val_loss did not improve from 0.64616\n",
      "Epoch 95/100\n",
      " - 3s - loss: 0.3608 - acc: 0.8352 - val_loss: 0.6895 - val_acc: 0.6482\n",
      "\n",
      "Epoch 00095: val_loss did not improve from 0.64616\n",
      "Epoch 96/100\n",
      " - 3s - loss: 0.3723 - acc: 0.8294 - val_loss: 0.6750 - val_acc: 0.6600\n",
      "\n",
      "Epoch 00096: val_loss did not improve from 0.64616\n",
      "Epoch 97/100\n",
      " - 3s - loss: 0.3435 - acc: 0.8455 - val_loss: 0.7804 - val_acc: 0.6427\n",
      "\n",
      "Epoch 00097: val_loss did not improve from 0.64616\n",
      "Epoch 98/100\n",
      " - 3s - loss: 0.3466 - acc: 0.8441 - val_loss: 0.7484 - val_acc: 0.6691\n",
      "\n",
      "Epoch 00098: val_loss did not improve from 0.64616\n",
      "Epoch 99/100\n",
      " - 3s - loss: 0.3525 - acc: 0.8369 - val_loss: 0.7038 - val_acc: 0.6373\n",
      "\n",
      "Epoch 00099: val_loss did not improve from 0.64616\n",
      "Epoch 100/100\n",
      " - 3s - loss: 0.3248 - acc: 0.8517 - val_loss: 0.7084 - val_acc: 0.6664\n",
      "\n",
      "Epoch 00100: val_loss did not improve from 0.64616\n"
     ]
    }
   ],
   "source": [
    "from keras.callbacks import ModelCheckpoint\n",
    "\n",
    "checkpointer = ModelCheckpoint(filepath = 'LSTM.weights.best.hdf5', verbose = 1, save_best_only = True)\n",
    "hist = model3.fit(X_train, y_train, epochs = 100, batch_size=256, validation_split = 0.1, callbacks = [checkpointer], verbose = 2, shuffle = True)"
   ]
  },
  {
   "cell_type": "code",
   "execution_count": 171,
   "metadata": {
    "colab": {
     "autoexec": {
      "startup": false,
      "wait_interval": 0
     },
     "base_uri": "https://localhost:8080/",
     "height": 54
    },
    "colab_type": "code",
    "executionInfo": {
     "elapsed": 3253,
     "status": "ok",
     "timestamp": 1528838971145,
     "user": {
      "displayName": "SHUBHAM VERMA",
      "photoUrl": "https://lh3.googleusercontent.com/a/default-user=s128",
      "userId": "108363614808362191748"
     },
     "user_tz": -330
    },
    "id": "BJNcF-Jx_rGD",
    "outputId": "1e48a9ea-72d5-43c8-a843-18f2c778d431"
   },
   "outputs": [
    {
     "name": "stdout",
     "output_type": "stream",
     "text": [
      "3980/3980 [==============================] - 2s 619us/step\n",
      "Accuracy:  0.6753768843622064\n"
     ]
    }
   ],
   "source": [
    "score = model3.evaluate(X_test, y_test, verbose=1)\n",
    "print(\"Accuracy: \", score[1])"
   ]
  },
  {
   "cell_type": "code",
   "execution_count": 0,
   "metadata": {
    "colab": {
     "autoexec": {
      "startup": false,
      "wait_interval": 0
     }
    },
    "colab_type": "code",
    "id": "sUM5b7oW_qvZ"
   },
   "outputs": [],
   "source": [
    "predict4 =  [1 if a>0.5 else 0 for a in model3.predict(X_test)]"
   ]
  },
  {
   "cell_type": "markdown",
   "metadata": {
    "colab_type": "text",
    "id": "w7rvEI-nWMUY"
   },
   "source": [
    "### Performance"
   ]
  },
  {
   "cell_type": "code",
   "execution_count": 173,
   "metadata": {
    "colab": {
     "autoexec": {
      "startup": false,
      "wait_interval": 0
     },
     "base_uri": "https://localhost:8080/",
     "height": 91
    },
    "colab_type": "code",
    "executionInfo": {
     "elapsed": 984,
     "status": "ok",
     "timestamp": 1528839038465,
     "user": {
      "displayName": "SHUBHAM VERMA",
      "photoUrl": "https://lh3.googleusercontent.com/a/default-user=s128",
      "userId": "108363614808362191748"
     },
     "user_tz": -330
    },
    "id": "36JspPsyZkzb",
    "outputId": "f2d84cb6-c371-4f5a-8f16-ac0363257a8e"
   },
   "outputs": [
    {
     "name": "stdout",
     "output_type": "stream",
     "text": [
      "Accuracy = 0.6753768844221105\n",
      "Precision = 0.6686774941995359\n",
      "Recall = 0.7137196631996038\n",
      "F1 Score = 0.6904647819837088\n"
     ]
    }
   ],
   "source": [
    "print(\"Accuracy = {}\\nPrecision = {}\\nRecall = {}\\nF1 Score = {}\".format(metrics.accuracy_score(y_test, predict4), metrics.precision_score(y_test, predict4),metrics.recall_score(y_test, predict4),metrics.f1_score(y_test, predict4)))\n"
   ]
  },
  {
   "cell_type": "code",
   "execution_count": 0,
   "metadata": {
    "colab": {
     "autoexec": {
      "startup": false,
      "wait_interval": 0
     }
    },
    "colab_type": "code",
    "id": "-1A_bedbZo_G"
   },
   "outputs": [],
   "source": []
  },
  {
   "cell_type": "markdown",
   "metadata": {
    "colab_type": "text",
    "id": "UIwPKYoN5H4j"
   },
   "source": [
    "# Improved LSTM (Tuning Parameter)"
   ]
  },
  {
   "cell_type": "code",
   "execution_count": 174,
   "metadata": {
    "colab": {
     "autoexec": {
      "startup": false,
      "wait_interval": 0
     },
     "base_uri": "https://localhost:8080/",
     "height": 258
    },
    "colab_type": "code",
    "executionInfo": {
     "elapsed": 2295,
     "status": "ok",
     "timestamp": 1528839050515,
     "user": {
      "displayName": "SHUBHAM VERMA",
      "photoUrl": "https://lh3.googleusercontent.com/a/default-user=s128",
      "userId": "108363614808362191748"
     },
     "user_tz": -330
    },
    "id": "OG1XXkwD5IfU",
    "outputId": "5d447fd4-7b3d-4160-fa36-b8789e6e70ca"
   },
   "outputs": [
    {
     "name": "stdout",
     "output_type": "stream",
     "text": [
      "_________________________________________________________________\n",
      "Layer (type)                 Output Shape              Param #   \n",
      "=================================================================\n",
      "cu_dnnlstm_8 (CuDNNLSTM)     (None, 14, 512)           1054720   \n",
      "_________________________________________________________________\n",
      "cu_dnnlstm_9 (CuDNNLSTM)     (None, 512)               2101248   \n",
      "_________________________________________________________________\n",
      "dense_46 (Dense)             (None, 1)                 513       \n",
      "=================================================================\n",
      "Total params: 3,156,481\n",
      "Trainable params: 3,156,481\n",
      "Non-trainable params: 0\n",
      "_________________________________________________________________\n"
     ]
    }
   ],
   "source": [
    "model4 = Sequential()\n",
    "model4.add(CuDNNLSTM(units=512, input_shape=(14, 1), return_sequences=True))\n",
    "model4.add(CuDNNLSTM(units=512))\n",
    "model4.add(Dense(1, activation='sigmoid'))\n",
    "model4.summary()"
   ]
  },
  {
   "cell_type": "code",
   "execution_count": 175,
   "metadata": {
    "colab": {
     "autoexec": {
      "startup": false,
      "wait_interval": 0
     },
     "base_uri": "https://localhost:8080/",
     "height": 258
    },
    "colab_type": "code",
    "executionInfo": {
     "elapsed": 959,
     "status": "ok",
     "timestamp": 1528839054269,
     "user": {
      "displayName": "SHUBHAM VERMA",
      "photoUrl": "https://lh3.googleusercontent.com/a/default-user=s128",
      "userId": "108363614808362191748"
     },
     "user_tz": -330
    },
    "id": "SpKkcLWf7Gnr",
    "outputId": "fbb573ca-0fd7-4a07-ebf7-27a5e1dc9e72"
   },
   "outputs": [
    {
     "name": "stdout",
     "output_type": "stream",
     "text": [
      "_________________________________________________________________\n",
      "Layer (type)                 Output Shape              Param #   \n",
      "=================================================================\n",
      "cu_dnnlstm_8 (CuDNNLSTM)     (None, 14, 512)           1054720   \n",
      "_________________________________________________________________\n",
      "cu_dnnlstm_9 (CuDNNLSTM)     (None, 512)               2101248   \n",
      "_________________________________________________________________\n",
      "dense_46 (Dense)             (None, 1)                 513       \n",
      "=================================================================\n",
      "Total params: 3,156,481\n",
      "Trainable params: 3,156,481\n",
      "Non-trainable params: 0\n",
      "_________________________________________________________________\n"
     ]
    }
   ],
   "source": [
    "model4.compile(loss='binary_crossentropy', optimizer='adam', metrics=['accuracy'])\n",
    "model4.summary()"
   ]
  },
  {
   "cell_type": "code",
   "execution_count": 176,
   "metadata": {
    "colab": {
     "autoexec": {
      "startup": false,
      "wait_interval": 0
     },
     "base_uri": "https://localhost:8080/",
     "height": 22336
    },
    "colab_type": "code",
    "executionInfo": {
     "elapsed": 525189,
     "status": "ok",
     "timestamp": 1528839584099,
     "user": {
      "displayName": "SHUBHAM VERMA",
      "photoUrl": "https://lh3.googleusercontent.com/a/default-user=s128",
      "userId": "108363614808362191748"
     },
     "user_tz": -330
    },
    "id": "qkVbrRz-7WaH",
    "outputId": "4ec3b388-49c2-4dda-cf4c-56070ed174db"
   },
   "outputs": [
    {
     "name": "stdout",
     "output_type": "stream",
     "text": [
      "Train on 9900 samples, validate on 1100 samples\n",
      "Epoch 1/300\n",
      " - 3s - loss: 0.6922 - acc: 0.5243 - val_loss: 0.6918 - val_acc: 0.5255\n",
      "\n",
      "Epoch 00001: val_loss improved from inf to 0.69181, saving model to LSTM_new.weights.best.hdf5\n",
      "Epoch 2/300\n",
      " - 2s - loss: 0.6918 - acc: 0.5245 - val_loss: 0.6917 - val_acc: 0.5255\n",
      "\n",
      "Epoch 00002: val_loss improved from 0.69181 to 0.69171, saving model to LSTM_new.weights.best.hdf5\n",
      "Epoch 3/300\n",
      " - 2s - loss: 0.6914 - acc: 0.5209 - val_loss: 0.6906 - val_acc: 0.5255\n",
      "\n",
      "Epoch 00003: val_loss improved from 0.69171 to 0.69059, saving model to LSTM_new.weights.best.hdf5\n",
      "Epoch 4/300\n",
      " - 2s - loss: 0.6888 - acc: 0.5301 - val_loss: 0.6900 - val_acc: 0.5027\n",
      "\n",
      "Epoch 00004: val_loss improved from 0.69059 to 0.69002, saving model to LSTM_new.weights.best.hdf5\n",
      "Epoch 5/300\n",
      " - 2s - loss: 0.6882 - acc: 0.5481 - val_loss: 0.6892 - val_acc: 0.5418\n",
      "\n",
      "Epoch 00005: val_loss improved from 0.69002 to 0.68917, saving model to LSTM_new.weights.best.hdf5\n",
      "Epoch 6/300\n",
      " - 2s - loss: 0.6879 - acc: 0.5362 - val_loss: 0.6900 - val_acc: 0.5545\n",
      "\n",
      "Epoch 00006: val_loss did not improve from 0.68917\n",
      "Epoch 7/300\n",
      " - 2s - loss: 0.6822 - acc: 0.5590 - val_loss: 0.6838 - val_acc: 0.5518\n",
      "\n",
      "Epoch 00007: val_loss improved from 0.68917 to 0.68376, saving model to LSTM_new.weights.best.hdf5\n",
      "Epoch 8/300\n",
      " - 2s - loss: 0.6853 - acc: 0.5461 - val_loss: 0.6891 - val_acc: 0.5527\n",
      "\n",
      "Epoch 00008: val_loss did not improve from 0.68376\n",
      "Epoch 9/300\n",
      " - 2s - loss: 0.6824 - acc: 0.5485 - val_loss: 0.8573 - val_acc: 0.4736\n",
      "\n",
      "Epoch 00009: val_loss did not improve from 0.68376\n",
      "Epoch 10/300\n",
      " - 2s - loss: 0.6963 - acc: 0.5465 - val_loss: 0.6904 - val_acc: 0.5300\n",
      "\n",
      "Epoch 00010: val_loss did not improve from 0.68376\n",
      "Epoch 11/300\n",
      " - 2s - loss: 0.6891 - acc: 0.5301 - val_loss: 0.6901 - val_acc: 0.5345\n",
      "\n",
      "Epoch 00011: val_loss did not improve from 0.68376\n",
      "Epoch 12/300\n",
      " - 2s - loss: 0.6887 - acc: 0.5424 - val_loss: 0.6896 - val_acc: 0.5291\n",
      "\n",
      "Epoch 00012: val_loss did not improve from 0.68376\n",
      "Epoch 13/300\n",
      " - 2s - loss: 0.6861 - acc: 0.5357 - val_loss: 0.6886 - val_acc: 0.5391\n",
      "\n",
      "Epoch 00013: val_loss did not improve from 0.68376\n",
      "Epoch 14/300\n",
      " - 2s - loss: 0.6795 - acc: 0.5518 - val_loss: 0.6999 - val_acc: 0.5418\n",
      "\n",
      "Epoch 00014: val_loss did not improve from 0.68376\n",
      "Epoch 15/300\n",
      " - 2s - loss: 0.6749 - acc: 0.5538 - val_loss: 1.5506 - val_acc: 0.5255\n",
      "\n",
      "Epoch 00015: val_loss did not improve from 0.68376\n",
      "Epoch 16/300\n",
      " - 2s - loss: 0.7533 - acc: 0.5091 - val_loss: 0.6917 - val_acc: 0.5255\n",
      "\n",
      "Epoch 00016: val_loss did not improve from 0.68376\n",
      "Epoch 17/300\n",
      " - 2s - loss: 0.6915 - acc: 0.5184 - val_loss: 0.6904 - val_acc: 0.5273\n",
      "\n",
      "Epoch 00017: val_loss did not improve from 0.68376\n",
      "Epoch 18/300\n",
      " - 2s - loss: 0.6898 - acc: 0.5454 - val_loss: 0.6904 - val_acc: 0.5300\n",
      "\n",
      "Epoch 00018: val_loss did not improve from 0.68376\n",
      "Epoch 19/300\n",
      " - 2s - loss: 0.6887 - acc: 0.5434 - val_loss: 0.6907 - val_acc: 0.5391\n",
      "\n",
      "Epoch 00019: val_loss did not improve from 0.68376\n",
      "Epoch 20/300\n",
      " - 2s - loss: 0.6887 - acc: 0.5435 - val_loss: 0.6894 - val_acc: 0.5291\n",
      "\n",
      "Epoch 00020: val_loss did not improve from 0.68376\n",
      "Epoch 21/300\n",
      " - 2s - loss: 0.6867 - acc: 0.5365 - val_loss: 0.6886 - val_acc: 0.5273\n",
      "\n",
      "Epoch 00021: val_loss did not improve from 0.68376\n",
      "Epoch 22/300\n",
      " - 2s - loss: 0.6869 - acc: 0.5373 - val_loss: 0.6880 - val_acc: 0.5300\n",
      "\n",
      "Epoch 00022: val_loss did not improve from 0.68376\n",
      "Epoch 23/300\n",
      " - 2s - loss: 0.6840 - acc: 0.5508 - val_loss: 0.6915 - val_acc: 0.5091\n",
      "\n",
      "Epoch 00023: val_loss did not improve from 0.68376\n",
      "Epoch 24/300\n",
      " - 2s - loss: 0.6805 - acc: 0.5427 - val_loss: 0.6878 - val_acc: 0.5445\n",
      "\n",
      "Epoch 00024: val_loss did not improve from 0.68376\n",
      "Epoch 25/300\n",
      " - 2s - loss: 0.6839 - acc: 0.5347 - val_loss: 0.7217 - val_acc: 0.4791\n",
      "\n",
      "Epoch 00025: val_loss did not improve from 0.68376\n",
      "Epoch 26/300\n",
      " - 2s - loss: 0.6792 - acc: 0.5495 - val_loss: 0.6840 - val_acc: 0.5291\n",
      "\n",
      "Epoch 00026: val_loss did not improve from 0.68376\n",
      "Epoch 27/300\n",
      " - 2s - loss: 0.6699 - acc: 0.5778 - val_loss: 0.6805 - val_acc: 0.5364\n",
      "\n",
      "Epoch 00027: val_loss improved from 0.68376 to 0.68047, saving model to LSTM_new.weights.best.hdf5\n",
      "Epoch 28/300\n",
      " - 2s - loss: 0.6677 - acc: 0.5733 - val_loss: 0.6943 - val_acc: 0.5464\n",
      "\n",
      "Epoch 00028: val_loss did not improve from 0.68047\n",
      "Epoch 29/300\n",
      " - 2s - loss: 0.6664 - acc: 0.5776 - val_loss: 0.6778 - val_acc: 0.5664\n",
      "\n",
      "Epoch 00029: val_loss improved from 0.68047 to 0.67781, saving model to LSTM_new.weights.best.hdf5\n",
      "Epoch 30/300\n",
      " - 2s - loss: 0.6586 - acc: 0.5788 - val_loss: 0.6762 - val_acc: 0.5836\n",
      "\n",
      "Epoch 00030: val_loss improved from 0.67781 to 0.67617, saving model to LSTM_new.weights.best.hdf5\n",
      "Epoch 31/300\n",
      " - 2s - loss: 0.6837 - acc: 0.5419 - val_loss: 0.6878 - val_acc: 0.5018\n",
      "\n",
      "Epoch 00031: val_loss did not improve from 0.67617\n",
      "Epoch 32/300\n",
      " - 2s - loss: 0.6808 - acc: 0.5511 - val_loss: 0.6921 - val_acc: 0.5100\n",
      "\n",
      "Epoch 00032: val_loss did not improve from 0.67617\n",
      "Epoch 33/300\n",
      " - 2s - loss: 0.6724 - acc: 0.5664 - val_loss: 0.6811 - val_acc: 0.5564\n",
      "\n",
      "Epoch 00033: val_loss did not improve from 0.67617\n",
      "Epoch 34/300\n",
      " - 2s - loss: 0.6647 - acc: 0.5772 - val_loss: 0.6856 - val_acc: 0.5291\n",
      "\n",
      "Epoch 00034: val_loss did not improve from 0.67617\n",
      "Epoch 35/300\n",
      " - 2s - loss: 0.6671 - acc: 0.5698 - val_loss: 0.6795 - val_acc: 0.5473\n",
      "\n",
      "Epoch 00035: val_loss did not improve from 0.67617\n",
      "Epoch 36/300\n",
      " - 2s - loss: 0.6537 - acc: 0.5908 - val_loss: 0.6904 - val_acc: 0.5055\n",
      "\n",
      "Epoch 00036: val_loss did not improve from 0.67617\n",
      "Epoch 37/300\n",
      " - 2s - loss: 0.6501 - acc: 0.5951 - val_loss: 0.6854 - val_acc: 0.5100\n",
      "\n",
      "Epoch 00037: val_loss did not improve from 0.67617\n",
      "Epoch 38/300\n",
      " - 2s - loss: 0.6498 - acc: 0.5917 - val_loss: 0.7084 - val_acc: 0.4991\n",
      "\n",
      "Epoch 00038: val_loss did not improve from 0.67617\n",
      "Epoch 39/300\n",
      " - 2s - loss: 0.6603 - acc: 0.5769 - val_loss: 0.6748 - val_acc: 0.5645\n",
      "\n",
      "Epoch 00039: val_loss improved from 0.67617 to 0.67476, saving model to LSTM_new.weights.best.hdf5\n",
      "Epoch 40/300\n",
      " - 2s - loss: 0.6380 - acc: 0.6018 - val_loss: 0.6780 - val_acc: 0.5664\n",
      "\n",
      "Epoch 00040: val_loss did not improve from 0.67476\n",
      "Epoch 41/300\n",
      " - 2s - loss: 0.6364 - acc: 0.5949 - val_loss: 0.6709 - val_acc: 0.5164\n",
      "\n",
      "Epoch 00041: val_loss improved from 0.67476 to 0.67090, saving model to LSTM_new.weights.best.hdf5\n",
      "Epoch 42/300\n",
      " - 2s - loss: 0.6238 - acc: 0.6057 - val_loss: 0.6612 - val_acc: 0.5627\n",
      "\n",
      "Epoch 00042: val_loss improved from 0.67090 to 0.66119, saving model to LSTM_new.weights.best.hdf5\n",
      "Epoch 43/300\n",
      " - 2s - loss: 0.6128 - acc: 0.6104 - val_loss: 0.6688 - val_acc: 0.5345\n",
      "\n",
      "Epoch 00043: val_loss did not improve from 0.66119\n",
      "Epoch 44/300\n",
      " - 2s - loss: 0.6127 - acc: 0.6219 - val_loss: 0.6994 - val_acc: 0.5345\n",
      "\n",
      "Epoch 00044: val_loss did not improve from 0.66119\n",
      "Epoch 45/300\n",
      " - 2s - loss: 0.6506 - acc: 0.5890 - val_loss: 0.6828 - val_acc: 0.5255\n",
      "\n",
      "Epoch 00045: val_loss did not improve from 0.66119\n",
      "Epoch 46/300\n",
      " - 2s - loss: 0.6517 - acc: 0.5900 - val_loss: 0.7025 - val_acc: 0.5082\n",
      "\n",
      "Epoch 00046: val_loss did not improve from 0.66119\n",
      "Epoch 47/300\n",
      " - 2s - loss: 0.6584 - acc: 0.5899 - val_loss: 0.6869 - val_acc: 0.5491\n",
      "\n",
      "Epoch 00047: val_loss did not improve from 0.66119\n",
      "Epoch 48/300\n",
      " - 2s - loss: 0.6475 - acc: 0.6023 - val_loss: 0.6795 - val_acc: 0.5400\n",
      "\n",
      "Epoch 00048: val_loss did not improve from 0.66119\n",
      "Epoch 49/300\n",
      " - 2s - loss: 0.6361 - acc: 0.6177 - val_loss: 0.7374 - val_acc: 0.5600\n",
      "\n",
      "Epoch 00049: val_loss did not improve from 0.66119\n",
      "Epoch 50/300\n",
      " - 2s - loss: 0.6559 - acc: 0.5941 - val_loss: 0.6785 - val_acc: 0.5718\n",
      "\n",
      "Epoch 00050: val_loss did not improve from 0.66119\n",
      "Epoch 51/300\n",
      " - 2s - loss: 0.6430 - acc: 0.6069 - val_loss: 0.6921 - val_acc: 0.5636\n",
      "\n",
      "Epoch 00051: val_loss did not improve from 0.66119\n",
      "Epoch 52/300\n",
      " - 2s - loss: 0.7138 - acc: 0.5617 - val_loss: 0.6921 - val_acc: 0.5273\n",
      "\n",
      "Epoch 00052: val_loss did not improve from 0.66119\n",
      "Epoch 53/300\n",
      " - 2s - loss: 0.6920 - acc: 0.5203 - val_loss: 0.6910 - val_acc: 0.5336\n",
      "\n",
      "Epoch 00053: val_loss did not improve from 0.66119\n",
      "Epoch 54/300\n",
      " - 2s - loss: 0.6883 - acc: 0.5445 - val_loss: 0.6902 - val_acc: 0.5291\n",
      "\n",
      "Epoch 00054: val_loss did not improve from 0.66119\n",
      "Epoch 55/300\n",
      " - 2s - loss: 0.6868 - acc: 0.5482 - val_loss: 0.6887 - val_acc: 0.5291\n",
      "\n",
      "Epoch 00055: val_loss did not improve from 0.66119\n",
      "Epoch 56/300\n",
      " - 2s - loss: 0.6858 - acc: 0.5451 - val_loss: 0.6879 - val_acc: 0.5282\n",
      "\n",
      "Epoch 00056: val_loss did not improve from 0.66119\n",
      "Epoch 57/300\n",
      " - 2s - loss: 0.6849 - acc: 0.5567 - val_loss: 0.6873 - val_acc: 0.5664\n",
      "\n",
      "Epoch 00057: val_loss did not improve from 0.66119\n",
      "Epoch 58/300\n",
      " - 2s - loss: 0.6824 - acc: 0.5651 - val_loss: 0.6857 - val_acc: 0.5600\n",
      "\n",
      "Epoch 00058: val_loss did not improve from 0.66119\n",
      "Epoch 59/300\n",
      " - 2s - loss: 0.6819 - acc: 0.5526 - val_loss: 0.7150 - val_acc: 0.4736\n",
      "\n",
      "Epoch 00059: val_loss did not improve from 0.66119\n",
      "Epoch 60/300\n",
      " - 2s - loss: 0.6936 - acc: 0.5220 - val_loss: 0.6884 - val_acc: 0.5564\n",
      "\n",
      "Epoch 00060: val_loss did not improve from 0.66119\n",
      "Epoch 61/300\n",
      " - 2s - loss: 0.6853 - acc: 0.5428 - val_loss: 0.6888 - val_acc: 0.5409\n",
      "\n",
      "Epoch 00061: val_loss did not improve from 0.66119\n",
      "Epoch 62/300\n",
      " - 2s - loss: 0.6846 - acc: 0.5597 - val_loss: 0.6874 - val_acc: 0.5600\n",
      "\n",
      "Epoch 00062: val_loss did not improve from 0.66119\n",
      "Epoch 63/300\n",
      " - 2s - loss: 0.6836 - acc: 0.5569 - val_loss: 0.6890 - val_acc: 0.5309\n",
      "\n",
      "Epoch 00063: val_loss did not improve from 0.66119\n",
      "Epoch 64/300\n",
      " - 2s - loss: 0.6822 - acc: 0.5671 - val_loss: 0.6861 - val_acc: 0.5527\n",
      "\n",
      "Epoch 00064: val_loss did not improve from 0.66119\n",
      "Epoch 65/300\n",
      " - 2s - loss: 0.6815 - acc: 0.5601 - val_loss: 0.6853 - val_acc: 0.5509\n",
      "\n",
      "Epoch 00065: val_loss did not improve from 0.66119\n",
      "Epoch 66/300\n",
      " - 2s - loss: 0.6805 - acc: 0.5675 - val_loss: 0.6849 - val_acc: 0.5455\n",
      "\n",
      "Epoch 00066: val_loss did not improve from 0.66119\n",
      "Epoch 67/300\n",
      " - 2s - loss: 0.6786 - acc: 0.5657 - val_loss: 0.6865 - val_acc: 0.5318\n",
      "\n",
      "Epoch 00067: val_loss did not improve from 0.66119\n",
      "Epoch 68/300\n",
      " - 2s - loss: 0.6770 - acc: 0.5677 - val_loss: 0.6824 - val_acc: 0.5618\n",
      "\n",
      "Epoch 00068: val_loss did not improve from 0.66119\n",
      "Epoch 69/300\n",
      " - 2s - loss: 0.6725 - acc: 0.5748 - val_loss: 0.6822 - val_acc: 0.5282\n",
      "\n",
      "Epoch 00069: val_loss did not improve from 0.66119\n",
      "Epoch 70/300\n",
      " - 2s - loss: 0.6636 - acc: 0.5766 - val_loss: 0.7879 - val_acc: 0.4864\n",
      "\n",
      "Epoch 00070: val_loss did not improve from 0.66119\n",
      "Epoch 71/300\n",
      " - 2s - loss: 0.6751 - acc: 0.5687 - val_loss: 0.6779 - val_acc: 0.5627\n",
      "\n",
      "Epoch 00071: val_loss did not improve from 0.66119\n",
      "Epoch 72/300\n",
      " - 2s - loss: 0.6635 - acc: 0.5762 - val_loss: 0.6771 - val_acc: 0.5609\n",
      "\n",
      "Epoch 00072: val_loss did not improve from 0.66119\n",
      "Epoch 73/300\n",
      " - 2s - loss: 0.6689 - acc: 0.5795 - val_loss: 0.6752 - val_acc: 0.5600\n",
      "\n",
      "Epoch 00073: val_loss did not improve from 0.66119\n",
      "Epoch 74/300\n",
      " - 2s - loss: 0.6640 - acc: 0.5657 - val_loss: 0.6734 - val_acc: 0.5745\n",
      "\n",
      "Epoch 00074: val_loss did not improve from 0.66119\n",
      "Epoch 75/300\n",
      " - 2s - loss: 0.6540 - acc: 0.6036 - val_loss: 0.6795 - val_acc: 0.5209\n",
      "\n",
      "Epoch 00075: val_loss did not improve from 0.66119\n",
      "Epoch 76/300\n",
      " - 2s - loss: 0.6483 - acc: 0.5988 - val_loss: 0.6740 - val_acc: 0.5591\n",
      "\n",
      "Epoch 00076: val_loss did not improve from 0.66119\n",
      "Epoch 77/300\n",
      " - 2s - loss: 0.6494 - acc: 0.6019 - val_loss: 0.6860 - val_acc: 0.5500\n"
     ]
    },
    {
     "name": "stdout",
     "output_type": "stream",
     "text": [
      "\n",
      "Epoch 00077: val_loss did not improve from 0.66119\n",
      "Epoch 78/300\n",
      " - 2s - loss: 0.6419 - acc: 0.6049 - val_loss: 0.6731 - val_acc: 0.5691\n",
      "\n",
      "Epoch 00078: val_loss did not improve from 0.66119\n",
      "Epoch 79/300\n",
      " - 2s - loss: 0.6323 - acc: 0.6231 - val_loss: 0.7359 - val_acc: 0.5227\n",
      "\n",
      "Epoch 00079: val_loss did not improve from 0.66119\n",
      "Epoch 80/300\n",
      " - 2s - loss: 0.6425 - acc: 0.6081 - val_loss: 0.6857 - val_acc: 0.5191\n",
      "\n",
      "Epoch 00080: val_loss did not improve from 0.66119\n",
      "Epoch 81/300\n",
      " - 2s - loss: 0.6495 - acc: 0.6072 - val_loss: 0.6844 - val_acc: 0.5555\n",
      "\n",
      "Epoch 00081: val_loss did not improve from 0.66119\n",
      "Epoch 82/300\n",
      " - 2s - loss: 0.6998 - acc: 0.5766 - val_loss: 1.2323 - val_acc: 0.4745\n",
      "\n",
      "Epoch 00082: val_loss did not improve from 0.66119\n",
      "Epoch 83/300\n",
      " - 2s - loss: 0.7361 - acc: 0.5171 - val_loss: 0.6917 - val_acc: 0.5164\n",
      "\n",
      "Epoch 00083: val_loss did not improve from 0.66119\n",
      "Epoch 84/300\n",
      " - 2s - loss: 0.6880 - acc: 0.5371 - val_loss: 0.6943 - val_acc: 0.4918\n",
      "\n",
      "Epoch 00084: val_loss did not improve from 0.66119\n",
      "Epoch 85/300\n",
      " - 2s - loss: 0.6905 - acc: 0.5215 - val_loss: 0.6888 - val_acc: 0.5255\n",
      "\n",
      "Epoch 00085: val_loss did not improve from 0.66119\n",
      "Epoch 86/300\n",
      " - 2s - loss: 0.6851 - acc: 0.5478 - val_loss: 0.6881 - val_acc: 0.5455\n",
      "\n",
      "Epoch 00086: val_loss did not improve from 0.66119\n",
      "Epoch 87/300\n",
      " - 2s - loss: 0.6803 - acc: 0.5527 - val_loss: 0.6830 - val_acc: 0.5464\n",
      "\n",
      "Epoch 00087: val_loss did not improve from 0.66119\n",
      "Epoch 88/300\n",
      " - 2s - loss: 0.6960 - acc: 0.5392 - val_loss: 0.6906 - val_acc: 0.5282\n",
      "\n",
      "Epoch 00088: val_loss did not improve from 0.66119\n",
      "Epoch 89/300\n",
      " - 2s - loss: 0.6841 - acc: 0.5552 - val_loss: 0.6884 - val_acc: 0.5182\n",
      "\n",
      "Epoch 00089: val_loss did not improve from 0.66119\n",
      "Epoch 90/300\n",
      " - 2s - loss: 0.6806 - acc: 0.5629 - val_loss: 0.6846 - val_acc: 0.5318\n",
      "\n",
      "Epoch 00090: val_loss did not improve from 0.66119\n",
      "Epoch 91/300\n",
      " - 2s - loss: 0.6758 - acc: 0.5549 - val_loss: 0.6813 - val_acc: 0.5036\n",
      "\n",
      "Epoch 00091: val_loss did not improve from 0.66119\n",
      "Epoch 92/300\n",
      " - 2s - loss: 0.6761 - acc: 0.5578 - val_loss: 0.6875 - val_acc: 0.5436\n",
      "\n",
      "Epoch 00092: val_loss did not improve from 0.66119\n",
      "Epoch 93/300\n",
      " - 2s - loss: 0.6895 - acc: 0.5348 - val_loss: 0.6868 - val_acc: 0.5355\n",
      "\n",
      "Epoch 00093: val_loss did not improve from 0.66119\n",
      "Epoch 94/300\n",
      " - 2s - loss: 0.6815 - acc: 0.5437 - val_loss: 0.6831 - val_acc: 0.5264\n",
      "\n",
      "Epoch 00094: val_loss did not improve from 0.66119\n",
      "Epoch 95/300\n",
      " - 2s - loss: 0.6728 - acc: 0.5568 - val_loss: 0.6792 - val_acc: 0.5309\n",
      "\n",
      "Epoch 00095: val_loss did not improve from 0.66119\n",
      "Epoch 96/300\n",
      " - 2s - loss: 0.6672 - acc: 0.5593 - val_loss: 0.6767 - val_acc: 0.5345\n",
      "\n",
      "Epoch 00096: val_loss did not improve from 0.66119\n",
      "Epoch 97/300\n",
      " - 2s - loss: 0.6695 - acc: 0.5568 - val_loss: 0.7029 - val_acc: 0.5382\n",
      "\n",
      "Epoch 00097: val_loss did not improve from 0.66119\n",
      "Epoch 98/300\n",
      " - 2s - loss: 0.6680 - acc: 0.5690 - val_loss: 0.6975 - val_acc: 0.5027\n",
      "\n",
      "Epoch 00098: val_loss did not improve from 0.66119\n",
      "Epoch 99/300\n",
      " - 2s - loss: 0.6652 - acc: 0.5632 - val_loss: 0.6803 - val_acc: 0.5509\n",
      "\n",
      "Epoch 00099: val_loss did not improve from 0.66119\n",
      "Epoch 100/300\n",
      " - 2s - loss: 0.6610 - acc: 0.5772 - val_loss: 0.6849 - val_acc: 0.5327\n",
      "\n",
      "Epoch 00100: val_loss did not improve from 0.66119\n",
      "Epoch 101/300\n",
      " - 2s - loss: 0.6604 - acc: 0.5793 - val_loss: 0.6759 - val_acc: 0.5636\n",
      "\n",
      "Epoch 00101: val_loss did not improve from 0.66119\n",
      "Epoch 102/300\n",
      " - 2s - loss: 0.6555 - acc: 0.5917 - val_loss: 0.7241 - val_acc: 0.4791\n",
      "\n",
      "Epoch 00102: val_loss did not improve from 0.66119\n",
      "Epoch 103/300\n",
      " - 2s - loss: 0.6909 - acc: 0.5324 - val_loss: 0.6866 - val_acc: 0.5291\n",
      "\n",
      "Epoch 00103: val_loss did not improve from 0.66119\n",
      "Epoch 104/300\n",
      " - 2s - loss: 0.6651 - acc: 0.5614 - val_loss: 0.6738 - val_acc: 0.5582\n",
      "\n",
      "Epoch 00104: val_loss did not improve from 0.66119\n",
      "Epoch 105/300\n",
      " - 2s - loss: 0.6534 - acc: 0.5725 - val_loss: 0.6761 - val_acc: 0.5600\n",
      "\n",
      "Epoch 00105: val_loss did not improve from 0.66119\n",
      "Epoch 106/300\n",
      " - 2s - loss: 0.6475 - acc: 0.5848 - val_loss: 0.6880 - val_acc: 0.5418\n",
      "\n",
      "Epoch 00106: val_loss did not improve from 0.66119\n",
      "Epoch 107/300\n",
      " - 2s - loss: 0.6355 - acc: 0.5973 - val_loss: 0.6653 - val_acc: 0.5573\n",
      "\n",
      "Epoch 00107: val_loss did not improve from 0.66119\n",
      "Epoch 108/300\n",
      " - 2s - loss: 0.6184 - acc: 0.5972 - val_loss: 0.6679 - val_acc: 0.5436\n",
      "\n",
      "Epoch 00108: val_loss did not improve from 0.66119\n",
      "Epoch 109/300\n",
      " - 2s - loss: 0.6164 - acc: 0.6188 - val_loss: 0.7210 - val_acc: 0.4745\n",
      "\n",
      "Epoch 00109: val_loss did not improve from 0.66119\n",
      "Epoch 110/300\n",
      " - 2s - loss: 0.6920 - acc: 0.5454 - val_loss: 0.6931 - val_acc: 0.5373\n",
      "\n",
      "Epoch 00110: val_loss did not improve from 0.66119\n",
      "Epoch 111/300\n",
      " - 2s - loss: 0.6832 - acc: 0.5289 - val_loss: 0.6931 - val_acc: 0.5473\n",
      "\n",
      "Epoch 00111: val_loss did not improve from 0.66119\n",
      "Epoch 112/300\n",
      " - 2s - loss: 0.6683 - acc: 0.5595 - val_loss: 0.7181 - val_acc: 0.5464\n",
      "\n",
      "Epoch 00112: val_loss did not improve from 0.66119\n",
      "Epoch 113/300\n",
      " - 2s - loss: 0.6771 - acc: 0.5449 - val_loss: 0.7160 - val_acc: 0.5309\n",
      "\n",
      "Epoch 00113: val_loss did not improve from 0.66119\n",
      "Epoch 114/300\n",
      " - 2s - loss: 0.6502 - acc: 0.5800 - val_loss: 0.6918 - val_acc: 0.5136\n",
      "\n",
      "Epoch 00114: val_loss did not improve from 0.66119\n",
      "Epoch 115/300\n",
      " - 2s - loss: 0.7068 - acc: 0.5425 - val_loss: 0.7002 - val_acc: 0.5255\n",
      "\n",
      "Epoch 00115: val_loss did not improve from 0.66119\n",
      "Epoch 116/300\n",
      " - 2s - loss: 0.6905 - acc: 0.5203 - val_loss: 0.6923 - val_acc: 0.5282\n",
      "\n",
      "Epoch 00116: val_loss did not improve from 0.66119\n",
      "Epoch 117/300\n",
      " - 2s - loss: 0.6856 - acc: 0.5416 - val_loss: 0.6981 - val_acc: 0.5255\n",
      "\n",
      "Epoch 00117: val_loss did not improve from 0.66119\n",
      "Epoch 118/300\n",
      " - 2s - loss: 0.6877 - acc: 0.5430 - val_loss: 0.6889 - val_acc: 0.5345\n",
      "\n",
      "Epoch 00118: val_loss did not improve from 0.66119\n",
      "Epoch 119/300\n",
      " - 2s - loss: 0.6810 - acc: 0.5598 - val_loss: 0.6919 - val_acc: 0.5364\n",
      "\n",
      "Epoch 00119: val_loss did not improve from 0.66119\n",
      "Epoch 120/300\n",
      " - 2s - loss: 0.6799 - acc: 0.5614 - val_loss: 0.6982 - val_acc: 0.5155\n",
      "\n",
      "Epoch 00120: val_loss did not improve from 0.66119\n",
      "Epoch 121/300\n",
      " - 2s - loss: 0.6819 - acc: 0.5466 - val_loss: 0.6987 - val_acc: 0.5182\n",
      "\n",
      "Epoch 00121: val_loss did not improve from 0.66119\n",
      "Epoch 122/300\n",
      " - 2s - loss: 0.6757 - acc: 0.5647 - val_loss: 0.6872 - val_acc: 0.4609\n",
      "\n",
      "Epoch 00122: val_loss did not improve from 0.66119\n",
      "Epoch 123/300\n",
      " - 2s - loss: 0.6655 - acc: 0.5535 - val_loss: 0.7267 - val_acc: 0.5327\n",
      "\n",
      "Epoch 00123: val_loss did not improve from 0.66119\n",
      "Epoch 124/300\n",
      " - 2s - loss: 0.6733 - acc: 0.5596 - val_loss: 0.6860 - val_acc: 0.5245\n",
      "\n",
      "Epoch 00124: val_loss did not improve from 0.66119\n",
      "Epoch 125/300\n",
      " - 2s - loss: 0.6671 - acc: 0.5548 - val_loss: 0.6837 - val_acc: 0.5009\n",
      "\n",
      "Epoch 00125: val_loss did not improve from 0.66119\n",
      "Epoch 126/300\n",
      " - 2s - loss: 0.6611 - acc: 0.5804 - val_loss: 0.6936 - val_acc: 0.5109\n",
      "\n",
      "Epoch 00126: val_loss did not improve from 0.66119\n",
      "Epoch 127/300\n",
      " - 2s - loss: 0.6557 - acc: 0.5934 - val_loss: 0.6838 - val_acc: 0.4955\n",
      "\n",
      "Epoch 00127: val_loss did not improve from 0.66119\n",
      "Epoch 128/300\n",
      " - 2s - loss: 0.6570 - acc: 0.5810 - val_loss: 0.6822 - val_acc: 0.5036\n",
      "\n",
      "Epoch 00128: val_loss did not improve from 0.66119\n",
      "Epoch 129/300\n",
      " - 2s - loss: 0.6488 - acc: 0.5999 - val_loss: 0.6820 - val_acc: 0.5182\n",
      "\n",
      "Epoch 00129: val_loss did not improve from 0.66119\n",
      "Epoch 130/300\n",
      " - 2s - loss: 0.6440 - acc: 0.6028 - val_loss: 0.6804 - val_acc: 0.5291\n",
      "\n",
      "Epoch 00130: val_loss did not improve from 0.66119\n",
      "Epoch 131/300\n",
      " - 2s - loss: 0.6473 - acc: 0.6097 - val_loss: 0.7152 - val_acc: 0.5209\n",
      "\n",
      "Epoch 00131: val_loss did not improve from 0.66119\n",
      "Epoch 132/300\n",
      " - 2s - loss: 0.6514 - acc: 0.5828 - val_loss: 0.6930 - val_acc: 0.5164\n",
      "\n",
      "Epoch 00132: val_loss did not improve from 0.66119\n",
      "Epoch 133/300\n",
      " - 2s - loss: 0.6411 - acc: 0.6048 - val_loss: 0.6844 - val_acc: 0.5273\n",
      "\n",
      "Epoch 00133: val_loss did not improve from 0.66119\n",
      "Epoch 134/300\n",
      " - 2s - loss: 0.6366 - acc: 0.6177 - val_loss: 0.6924 - val_acc: 0.5509\n",
      "\n",
      "Epoch 00134: val_loss did not improve from 0.66119\n",
      "Epoch 135/300\n",
      " - 2s - loss: 0.6316 - acc: 0.6133 - val_loss: 0.7648 - val_acc: 0.5227\n",
      "\n",
      "Epoch 00135: val_loss did not improve from 0.66119\n",
      "Epoch 136/300\n",
      " - 2s - loss: 0.6370 - acc: 0.6183 - val_loss: 0.7075 - val_acc: 0.5355\n",
      "\n",
      "Epoch 00136: val_loss did not improve from 0.66119\n",
      "Epoch 137/300\n",
      " - 2s - loss: 0.6325 - acc: 0.6225 - val_loss: 0.6829 - val_acc: 0.5164\n",
      "\n",
      "Epoch 00137: val_loss did not improve from 0.66119\n",
      "Epoch 138/300\n",
      " - 2s - loss: 0.6154 - acc: 0.6481 - val_loss: 0.6895 - val_acc: 0.5355\n",
      "\n",
      "Epoch 00138: val_loss did not improve from 0.66119\n",
      "Epoch 139/300\n",
      " - 2s - loss: 0.6420 - acc: 0.6229 - val_loss: 0.6759 - val_acc: 0.5191\n",
      "\n",
      "Epoch 00139: val_loss did not improve from 0.66119\n",
      "Epoch 140/300\n",
      " - 2s - loss: 0.6431 - acc: 0.5961 - val_loss: 0.6860 - val_acc: 0.5382\n",
      "\n",
      "Epoch 00140: val_loss did not improve from 0.66119\n",
      "Epoch 141/300\n",
      " - 2s - loss: 0.6298 - acc: 0.6305 - val_loss: 0.6864 - val_acc: 0.5200\n",
      "\n",
      "Epoch 00141: val_loss did not improve from 0.66119\n",
      "Epoch 142/300\n",
      " - 2s - loss: 0.6080 - acc: 0.6523 - val_loss: 0.6912 - val_acc: 0.5573\n",
      "\n",
      "Epoch 00142: val_loss did not improve from 0.66119\n",
      "Epoch 143/300\n",
      " - 2s - loss: 0.6069 - acc: 0.6378 - val_loss: 0.7193 - val_acc: 0.5355\n",
      "\n",
      "Epoch 00143: val_loss did not improve from 0.66119\n",
      "Epoch 144/300\n",
      " - 2s - loss: 0.6026 - acc: 0.6474 - val_loss: 0.6816 - val_acc: 0.5482\n",
      "\n",
      "Epoch 00144: val_loss did not improve from 0.66119\n",
      "Epoch 145/300\n",
      " - 2s - loss: 0.5958 - acc: 0.6554 - val_loss: 0.6693 - val_acc: 0.5518\n",
      "\n",
      "Epoch 00145: val_loss did not improve from 0.66119\n",
      "Epoch 146/300\n",
      " - 2s - loss: 0.6138 - acc: 0.6380 - val_loss: 0.7301 - val_acc: 0.5327\n",
      "\n",
      "Epoch 00146: val_loss did not improve from 0.66119\n",
      "Epoch 147/300\n",
      " - 2s - loss: 0.5968 - acc: 0.6610 - val_loss: 0.7054 - val_acc: 0.5245\n",
      "\n",
      "Epoch 00147: val_loss did not improve from 0.66119\n",
      "Epoch 148/300\n",
      " - 2s - loss: 0.6006 - acc: 0.6527 - val_loss: 0.7224 - val_acc: 0.5600\n",
      "\n",
      "Epoch 00148: val_loss did not improve from 0.66119\n",
      "Epoch 149/300\n",
      " - 2s - loss: 0.6101 - acc: 0.6352 - val_loss: 0.6867 - val_acc: 0.5327\n",
      "\n",
      "Epoch 00149: val_loss did not improve from 0.66119\n",
      "Epoch 150/300\n",
      " - 2s - loss: 0.5836 - acc: 0.6807 - val_loss: 0.6768 - val_acc: 0.5509\n",
      "\n",
      "Epoch 00150: val_loss did not improve from 0.66119\n",
      "Epoch 151/300\n",
      " - 2s - loss: 0.5685 - acc: 0.6815 - val_loss: 0.6626 - val_acc: 0.5755\n",
      "\n",
      "Epoch 00151: val_loss did not improve from 0.66119\n",
      "Epoch 152/300\n",
      " - 2s - loss: 0.5794 - acc: 0.6797 - val_loss: 0.6824 - val_acc: 0.5773\n",
      "\n",
      "Epoch 00152: val_loss did not improve from 0.66119\n",
      "Epoch 153/300\n",
      " - 2s - loss: 0.5659 - acc: 0.6817 - val_loss: 0.7378 - val_acc: 0.5436\n",
      "\n",
      "Epoch 00153: val_loss did not improve from 0.66119\n",
      "Epoch 154/300\n",
      " - 2s - loss: 0.5470 - acc: 0.7036 - val_loss: 0.6866 - val_acc: 0.5709\n",
      "\n",
      "Epoch 00154: val_loss did not improve from 0.66119\n",
      "Epoch 155/300\n",
      " - 2s - loss: 0.5807 - acc: 0.6776 - val_loss: 0.6712 - val_acc: 0.5873\n",
      "\n",
      "Epoch 00155: val_loss did not improve from 0.66119\n",
      "Epoch 156/300\n",
      " - 2s - loss: 0.5397 - acc: 0.7128 - val_loss: 0.6516 - val_acc: 0.5809\n",
      "\n",
      "Epoch 00156: val_loss improved from 0.66119 to 0.65158, saving model to LSTM_new.weights.best.hdf5\n",
      "Epoch 157/300\n"
     ]
    },
    {
     "name": "stdout",
     "output_type": "stream",
     "text": [
      " - 2s - loss: 0.5458 - acc: 0.7078 - val_loss: 0.7380 - val_acc: 0.5409\n",
      "\n",
      "Epoch 00157: val_loss did not improve from 0.65158\n",
      "Epoch 158/300\n",
      " - 2s - loss: 0.6747 - acc: 0.5649 - val_loss: 0.6723 - val_acc: 0.5482\n",
      "\n",
      "Epoch 00158: val_loss did not improve from 0.65158\n",
      "Epoch 159/300\n",
      " - 2s - loss: 0.6485 - acc: 0.6194 - val_loss: 0.6882 - val_acc: 0.5336\n",
      "\n",
      "Epoch 00159: val_loss did not improve from 0.65158\n",
      "Epoch 160/300\n",
      " - 2s - loss: 0.6935 - acc: 0.5443 - val_loss: 0.6803 - val_acc: 0.5800\n",
      "\n",
      "Epoch 00160: val_loss did not improve from 0.65158\n",
      "Epoch 161/300\n",
      " - 2s - loss: 0.6690 - acc: 0.6026 - val_loss: 0.6806 - val_acc: 0.5455\n",
      "\n",
      "Epoch 00161: val_loss did not improve from 0.65158\n",
      "Epoch 162/300\n",
      " - 2s - loss: 0.6645 - acc: 0.5895 - val_loss: 0.6784 - val_acc: 0.5618\n",
      "\n",
      "Epoch 00162: val_loss did not improve from 0.65158\n",
      "Epoch 163/300\n",
      " - 2s - loss: 0.6528 - acc: 0.6062 - val_loss: 0.6656 - val_acc: 0.5800\n",
      "\n",
      "Epoch 00163: val_loss did not improve from 0.65158\n",
      "Epoch 164/300\n",
      " - 2s - loss: 0.6382 - acc: 0.6103 - val_loss: 0.6748 - val_acc: 0.5573\n",
      "\n",
      "Epoch 00164: val_loss did not improve from 0.65158\n",
      "Epoch 165/300\n",
      " - 2s - loss: 0.6217 - acc: 0.6255 - val_loss: 0.6579 - val_acc: 0.5736\n",
      "\n",
      "Epoch 00165: val_loss did not improve from 0.65158\n",
      "Epoch 166/300\n",
      " - 2s - loss: 0.6128 - acc: 0.6303 - val_loss: 0.6537 - val_acc: 0.5755\n",
      "\n",
      "Epoch 00166: val_loss did not improve from 0.65158\n",
      "Epoch 167/300\n",
      " - 2s - loss: 0.6017 - acc: 0.6532 - val_loss: 0.6697 - val_acc: 0.5573\n",
      "\n",
      "Epoch 00167: val_loss did not improve from 0.65158\n",
      "Epoch 168/300\n",
      " - 2s - loss: 0.6043 - acc: 0.6459 - val_loss: 0.6817 - val_acc: 0.5891\n",
      "\n",
      "Epoch 00168: val_loss did not improve from 0.65158\n",
      "Epoch 169/300\n",
      " - 2s - loss: 0.6195 - acc: 0.6379 - val_loss: 0.8145 - val_acc: 0.5400\n",
      "\n",
      "Epoch 00169: val_loss did not improve from 0.65158\n",
      "Epoch 170/300\n",
      " - 2s - loss: 0.6651 - acc: 0.5948 - val_loss: 0.6550 - val_acc: 0.5745\n",
      "\n",
      "Epoch 00170: val_loss did not improve from 0.65158\n",
      "Epoch 171/300\n",
      " - 2s - loss: 0.6238 - acc: 0.6217 - val_loss: 0.6685 - val_acc: 0.5609\n",
      "\n",
      "Epoch 00171: val_loss did not improve from 0.65158\n",
      "Epoch 172/300\n",
      " - 2s - loss: 0.6104 - acc: 0.6211 - val_loss: 0.6589 - val_acc: 0.5645\n",
      "\n",
      "Epoch 00172: val_loss did not improve from 0.65158\n",
      "Epoch 173/300\n",
      " - 2s - loss: 0.6029 - acc: 0.6279 - val_loss: 0.6801 - val_acc: 0.5418\n",
      "\n",
      "Epoch 00173: val_loss did not improve from 0.65158\n",
      "Epoch 174/300\n",
      " - 2s - loss: 0.6011 - acc: 0.6351 - val_loss: 0.7076 - val_acc: 0.5564\n",
      "\n",
      "Epoch 00174: val_loss did not improve from 0.65158\n",
      "Epoch 175/300\n",
      " - 2s - loss: 0.6134 - acc: 0.6318 - val_loss: 0.7029 - val_acc: 0.5555\n",
      "\n",
      "Epoch 00175: val_loss did not improve from 0.65158\n",
      "Epoch 176/300\n",
      " - 2s - loss: 0.5978 - acc: 0.6381 - val_loss: 0.6664 - val_acc: 0.5445\n",
      "\n",
      "Epoch 00176: val_loss did not improve from 0.65158\n",
      "Epoch 177/300\n",
      " - 2s - loss: 0.6045 - acc: 0.6359 - val_loss: 0.7096 - val_acc: 0.5591\n",
      "\n",
      "Epoch 00177: val_loss did not improve from 0.65158\n",
      "Epoch 178/300\n",
      " - 2s - loss: 0.5875 - acc: 0.6567 - val_loss: 0.6803 - val_acc: 0.5591\n",
      "\n",
      "Epoch 00178: val_loss did not improve from 0.65158\n",
      "Epoch 179/300\n",
      " - 2s - loss: 0.5932 - acc: 0.6531 - val_loss: 0.6742 - val_acc: 0.5355\n",
      "\n",
      "Epoch 00179: val_loss did not improve from 0.65158\n",
      "Epoch 180/300\n",
      " - 2s - loss: 0.5883 - acc: 0.6641 - val_loss: 0.6907 - val_acc: 0.5627\n",
      "\n",
      "Epoch 00180: val_loss did not improve from 0.65158\n",
      "Epoch 181/300\n",
      " - 2s - loss: 0.5813 - acc: 0.6745 - val_loss: 0.6800 - val_acc: 0.5427\n",
      "\n",
      "Epoch 00181: val_loss did not improve from 0.65158\n",
      "Epoch 182/300\n",
      " - 2s - loss: 0.5833 - acc: 0.6663 - val_loss: 0.6686 - val_acc: 0.5373\n",
      "\n",
      "Epoch 00182: val_loss did not improve from 0.65158\n",
      "Epoch 183/300\n",
      " - 2s - loss: 0.5661 - acc: 0.6909 - val_loss: 0.6767 - val_acc: 0.5636\n",
      "\n",
      "Epoch 00183: val_loss did not improve from 0.65158\n",
      "Epoch 184/300\n",
      " - 2s - loss: 0.6019 - acc: 0.6825 - val_loss: 0.6965 - val_acc: 0.5482\n",
      "\n",
      "Epoch 00184: val_loss did not improve from 0.65158\n",
      "Epoch 185/300\n",
      " - 2s - loss: 0.6358 - acc: 0.6111 - val_loss: 0.6562 - val_acc: 0.5600\n",
      "\n",
      "Epoch 00185: val_loss did not improve from 0.65158\n",
      "Epoch 186/300\n",
      " - 2s - loss: 0.6046 - acc: 0.6449 - val_loss: 0.6547 - val_acc: 0.5655\n",
      "\n",
      "Epoch 00186: val_loss did not improve from 0.65158\n",
      "Epoch 187/300\n",
      " - 2s - loss: 0.5882 - acc: 0.6692 - val_loss: 0.6733 - val_acc: 0.5755\n",
      "\n",
      "Epoch 00187: val_loss did not improve from 0.65158\n",
      "Epoch 188/300\n",
      " - 2s - loss: 0.5663 - acc: 0.7053 - val_loss: 0.6730 - val_acc: 0.5327\n",
      "\n",
      "Epoch 00188: val_loss did not improve from 0.65158\n",
      "Epoch 189/300\n",
      " - 2s - loss: 0.6210 - acc: 0.6488 - val_loss: 0.6936 - val_acc: 0.5464\n",
      "\n",
      "Epoch 00189: val_loss did not improve from 0.65158\n",
      "Epoch 190/300\n",
      " - 2s - loss: 0.5922 - acc: 0.6603 - val_loss: 0.7029 - val_acc: 0.5755\n",
      "\n",
      "Epoch 00190: val_loss did not improve from 0.65158\n",
      "Epoch 191/300\n",
      " - 2s - loss: 0.5754 - acc: 0.6782 - val_loss: 0.6981 - val_acc: 0.5827\n",
      "\n",
      "Epoch 00191: val_loss did not improve from 0.65158\n",
      "Epoch 192/300\n",
      " - 2s - loss: 0.5450 - acc: 0.7143 - val_loss: 0.9020 - val_acc: 0.5327\n",
      "\n",
      "Epoch 00192: val_loss did not improve from 0.65158\n",
      "Epoch 193/300\n",
      " - 2s - loss: 0.6650 - acc: 0.6107 - val_loss: 0.6849 - val_acc: 0.5427\n",
      "\n",
      "Epoch 00193: val_loss did not improve from 0.65158\n",
      "Epoch 194/300\n",
      " - 2s - loss: 0.6111 - acc: 0.6605 - val_loss: 0.7331 - val_acc: 0.5300\n",
      "\n",
      "Epoch 00194: val_loss did not improve from 0.65158\n",
      "Epoch 195/300\n",
      " - 2s - loss: 0.5807 - acc: 0.6716 - val_loss: 0.7410 - val_acc: 0.5600\n",
      "\n",
      "Epoch 00195: val_loss did not improve from 0.65158\n",
      "Epoch 196/300\n",
      " - 2s - loss: 0.5494 - acc: 0.7079 - val_loss: 0.7083 - val_acc: 0.5536\n",
      "\n",
      "Epoch 00196: val_loss did not improve from 0.65158\n",
      "Epoch 197/300\n",
      " - 2s - loss: 0.5379 - acc: 0.7109 - val_loss: 0.8196 - val_acc: 0.5564\n",
      "\n",
      "Epoch 00197: val_loss did not improve from 0.65158\n",
      "Epoch 198/300\n",
      " - 2s - loss: 0.5943 - acc: 0.6586 - val_loss: 0.6527 - val_acc: 0.5809\n",
      "\n",
      "Epoch 00198: val_loss did not improve from 0.65158\n",
      "Epoch 199/300\n",
      " - 2s - loss: 0.5368 - acc: 0.7074 - val_loss: 0.7091 - val_acc: 0.5818\n",
      "\n",
      "Epoch 00199: val_loss did not improve from 0.65158\n",
      "Epoch 200/300\n",
      " - 2s - loss: 0.5586 - acc: 0.6866 - val_loss: 0.6763 - val_acc: 0.5555\n",
      "\n",
      "Epoch 00200: val_loss did not improve from 0.65158\n",
      "Epoch 201/300\n",
      " - 2s - loss: 0.5441 - acc: 0.7122 - val_loss: 0.6566 - val_acc: 0.5655\n",
      "\n",
      "Epoch 00201: val_loss did not improve from 0.65158\n",
      "Epoch 202/300\n",
      " - 2s - loss: 0.5183 - acc: 0.7307 - val_loss: 0.6743 - val_acc: 0.5727\n",
      "\n",
      "Epoch 00202: val_loss did not improve from 0.65158\n",
      "Epoch 203/300\n",
      " - 2s - loss: 0.5236 - acc: 0.7236 - val_loss: 0.7226 - val_acc: 0.5800\n",
      "\n",
      "Epoch 00203: val_loss did not improve from 0.65158\n",
      "Epoch 204/300\n",
      " - 2s - loss: 0.5458 - acc: 0.7159 - val_loss: 0.6789 - val_acc: 0.5745\n",
      "\n",
      "Epoch 00204: val_loss did not improve from 0.65158\n",
      "Epoch 205/300\n",
      " - 2s - loss: 0.5188 - acc: 0.7369 - val_loss: 0.7130 - val_acc: 0.5627\n",
      "\n",
      "Epoch 00205: val_loss did not improve from 0.65158\n",
      "Epoch 206/300\n",
      " - 2s - loss: 0.4997 - acc: 0.7470 - val_loss: 0.7805 - val_acc: 0.5736\n",
      "\n",
      "Epoch 00206: val_loss did not improve from 0.65158\n",
      "Epoch 207/300\n",
      " - 2s - loss: 0.6490 - acc: 0.6364 - val_loss: 0.6924 - val_acc: 0.5173\n",
      "\n",
      "Epoch 00207: val_loss did not improve from 0.65158\n",
      "Epoch 208/300\n",
      " - 2s - loss: 0.5745 - acc: 0.6740 - val_loss: 0.7122 - val_acc: 0.5300\n",
      "\n",
      "Epoch 00208: val_loss did not improve from 0.65158\n",
      "Epoch 209/300\n",
      " - 2s - loss: 0.5654 - acc: 0.6864 - val_loss: 0.7011 - val_acc: 0.5291\n",
      "\n",
      "Epoch 00209: val_loss did not improve from 0.65158\n",
      "Epoch 210/300\n",
      " - 2s - loss: 0.5633 - acc: 0.6838 - val_loss: 0.6880 - val_acc: 0.5364\n",
      "\n",
      "Epoch 00210: val_loss did not improve from 0.65158\n",
      "Epoch 211/300\n",
      " - 2s - loss: 0.5409 - acc: 0.7002 - val_loss: 0.7035 - val_acc: 0.5500\n",
      "\n",
      "Epoch 00211: val_loss did not improve from 0.65158\n",
      "Epoch 212/300\n",
      " - 2s - loss: 0.5544 - acc: 0.6935 - val_loss: 0.7239 - val_acc: 0.5627\n",
      "\n",
      "Epoch 00212: val_loss did not improve from 0.65158\n",
      "Epoch 213/300\n",
      " - 2s - loss: 0.5475 - acc: 0.6999 - val_loss: 0.6734 - val_acc: 0.5618\n",
      "\n",
      "Epoch 00213: val_loss did not improve from 0.65158\n",
      "Epoch 214/300\n",
      " - 2s - loss: 0.5027 - acc: 0.7262 - val_loss: 0.6619 - val_acc: 0.5782\n",
      "\n",
      "Epoch 00214: val_loss did not improve from 0.65158\n",
      "Epoch 215/300\n",
      " - 2s - loss: 0.4904 - acc: 0.7320 - val_loss: 0.7206 - val_acc: 0.5609\n",
      "\n",
      "Epoch 00215: val_loss did not improve from 0.65158\n",
      "Epoch 216/300\n",
      " - 2s - loss: 0.5269 - acc: 0.7263 - val_loss: 0.6932 - val_acc: 0.5627\n",
      "\n",
      "Epoch 00216: val_loss did not improve from 0.65158\n",
      "Epoch 217/300\n",
      " - 2s - loss: 0.4849 - acc: 0.7431 - val_loss: 0.7118 - val_acc: 0.6018\n",
      "\n",
      "Epoch 00217: val_loss did not improve from 0.65158\n",
      "Epoch 218/300\n",
      " - 2s - loss: 0.4957 - acc: 0.7416 - val_loss: 0.6873 - val_acc: 0.5827\n",
      "\n",
      "Epoch 00218: val_loss did not improve from 0.65158\n",
      "Epoch 219/300\n",
      " - 2s - loss: 0.5625 - acc: 0.7042 - val_loss: 0.7589 - val_acc: 0.5291\n",
      "\n",
      "Epoch 00219: val_loss did not improve from 0.65158\n",
      "Epoch 220/300\n",
      " - 2s - loss: 0.5338 - acc: 0.7211 - val_loss: 0.6743 - val_acc: 0.6100\n",
      "\n",
      "Epoch 00220: val_loss did not improve from 0.65158\n",
      "Epoch 221/300\n",
      " - 2s - loss: 0.4800 - acc: 0.7554 - val_loss: 0.6371 - val_acc: 0.6245\n",
      "\n",
      "Epoch 00221: val_loss improved from 0.65158 to 0.63708, saving model to LSTM_new.weights.best.hdf5\n",
      "Epoch 222/300\n",
      " - 2s - loss: 0.4531 - acc: 0.7726 - val_loss: 0.6493 - val_acc: 0.5900\n",
      "\n",
      "Epoch 00222: val_loss did not improve from 0.63708\n",
      "Epoch 223/300\n",
      " - 2s - loss: 0.4417 - acc: 0.7836 - val_loss: 0.6568 - val_acc: 0.6264\n",
      "\n",
      "Epoch 00223: val_loss did not improve from 0.63708\n",
      "Epoch 224/300\n",
      " - 2s - loss: 0.4561 - acc: 0.7743 - val_loss: 0.7171 - val_acc: 0.5927\n",
      "\n",
      "Epoch 00224: val_loss did not improve from 0.63708\n",
      "Epoch 225/300\n",
      " - 2s - loss: 0.4627 - acc: 0.7705 - val_loss: 0.6407 - val_acc: 0.6345\n",
      "\n",
      "Epoch 00225: val_loss did not improve from 0.63708\n",
      "Epoch 226/300\n",
      " - 2s - loss: 0.4168 - acc: 0.7986 - val_loss: 0.7824 - val_acc: 0.5791\n",
      "\n",
      "Epoch 00226: val_loss did not improve from 0.63708\n",
      "Epoch 227/300\n",
      " - 2s - loss: 0.5746 - acc: 0.6958 - val_loss: 0.6310 - val_acc: 0.6264\n",
      "\n",
      "Epoch 00227: val_loss improved from 0.63708 to 0.63101, saving model to LSTM_new.weights.best.hdf5\n",
      "Epoch 228/300\n",
      " - 2s - loss: 0.4824 - acc: 0.7627 - val_loss: 0.6461 - val_acc: 0.6518\n",
      "\n",
      "Epoch 00228: val_loss did not improve from 0.63101\n",
      "Epoch 229/300\n",
      " - 2s - loss: 0.4686 - acc: 0.7607 - val_loss: 0.6864 - val_acc: 0.5809\n",
      "\n",
      "Epoch 00229: val_loss did not improve from 0.63101\n",
      "Epoch 230/300\n",
      " - 2s - loss: 0.4725 - acc: 0.7574 - val_loss: 0.7450 - val_acc: 0.5973\n",
      "\n",
      "Epoch 00230: val_loss did not improve from 0.63101\n",
      "Epoch 231/300\n",
      " - 2s - loss: 0.4515 - acc: 0.7826 - val_loss: 0.6105 - val_acc: 0.6673\n",
      "\n",
      "Epoch 00231: val_loss improved from 0.63101 to 0.61048, saving model to LSTM_new.weights.best.hdf5\n",
      "Epoch 232/300\n",
      " - 2s - loss: 0.4054 - acc: 0.8106 - val_loss: 0.6219 - val_acc: 0.6509\n",
      "\n",
      "Epoch 00232: val_loss did not improve from 0.61048\n",
      "Epoch 233/300\n",
      " - 2s - loss: 0.4186 - acc: 0.7965 - val_loss: 0.6749 - val_acc: 0.6191\n",
      "\n",
      "Epoch 00233: val_loss did not improve from 0.61048\n",
      "Epoch 234/300\n",
      " - 2s - loss: 0.4046 - acc: 0.8006 - val_loss: 0.6626 - val_acc: 0.6282\n",
      "\n",
      "Epoch 00234: val_loss did not improve from 0.61048\n",
      "Epoch 235/300\n",
      " - 2s - loss: 0.4297 - acc: 0.7918 - val_loss: 0.5970 - val_acc: 0.6864\n",
      "\n",
      "Epoch 00235: val_loss improved from 0.61048 to 0.59696, saving model to LSTM_new.weights.best.hdf5\n",
      "Epoch 236/300\n"
     ]
    },
    {
     "name": "stdout",
     "output_type": "stream",
     "text": [
      " - 2s - loss: 0.3976 - acc: 0.8073 - val_loss: 0.6927 - val_acc: 0.6491\n",
      "\n",
      "Epoch 00236: val_loss did not improve from 0.59696\n",
      "Epoch 237/300\n",
      " - 2s - loss: 0.4215 - acc: 0.7894 - val_loss: 0.6716 - val_acc: 0.6273\n",
      "\n",
      "Epoch 00237: val_loss did not improve from 0.59696\n",
      "Epoch 238/300\n",
      " - 2s - loss: 0.4548 - acc: 0.7727 - val_loss: 0.7001 - val_acc: 0.6327\n",
      "\n",
      "Epoch 00238: val_loss did not improve from 0.59696\n",
      "Epoch 239/300\n",
      " - 2s - loss: 0.4452 - acc: 0.7881 - val_loss: 0.6165 - val_acc: 0.6536\n",
      "\n",
      "Epoch 00239: val_loss did not improve from 0.59696\n",
      "Epoch 240/300\n",
      " - 2s - loss: 0.3833 - acc: 0.8159 - val_loss: 0.5975 - val_acc: 0.6982\n",
      "\n",
      "Epoch 00240: val_loss did not improve from 0.59696\n",
      "Epoch 241/300\n",
      " - 2s - loss: 0.3884 - acc: 0.8205 - val_loss: 0.6234 - val_acc: 0.6436\n",
      "\n",
      "Epoch 00241: val_loss did not improve from 0.59696\n",
      "Epoch 242/300\n",
      " - 2s - loss: 0.3756 - acc: 0.8222 - val_loss: 0.5671 - val_acc: 0.7209\n",
      "\n",
      "Epoch 00242: val_loss improved from 0.59696 to 0.56707, saving model to LSTM_new.weights.best.hdf5\n",
      "Epoch 243/300\n",
      " - 2s - loss: 0.3636 - acc: 0.8322 - val_loss: 0.5964 - val_acc: 0.7073\n",
      "\n",
      "Epoch 00243: val_loss did not improve from 0.56707\n",
      "Epoch 244/300\n",
      " - 2s - loss: 0.4622 - acc: 0.7681 - val_loss: 0.6710 - val_acc: 0.6227\n",
      "\n",
      "Epoch 00244: val_loss did not improve from 0.56707\n",
      "Epoch 245/300\n",
      " - 2s - loss: 0.3979 - acc: 0.8171 - val_loss: 0.6492 - val_acc: 0.6564\n",
      "\n",
      "Epoch 00245: val_loss did not improve from 0.56707\n",
      "Epoch 246/300\n",
      " - 2s - loss: 0.3683 - acc: 0.8256 - val_loss: 0.5626 - val_acc: 0.7082\n",
      "\n",
      "Epoch 00246: val_loss improved from 0.56707 to 0.56259, saving model to LSTM_new.weights.best.hdf5\n",
      "Epoch 247/300\n",
      " - 2s - loss: 0.3660 - acc: 0.8252 - val_loss: 0.7674 - val_acc: 0.6382\n",
      "\n",
      "Epoch 00247: val_loss did not improve from 0.56259\n",
      "Epoch 248/300\n",
      " - 2s - loss: 0.5018 - acc: 0.7568 - val_loss: 0.6030 - val_acc: 0.6891\n",
      "\n",
      "Epoch 00248: val_loss did not improve from 0.56259\n",
      "Epoch 249/300\n",
      " - 2s - loss: 0.4021 - acc: 0.8107 - val_loss: 0.5801 - val_acc: 0.7027\n",
      "\n",
      "Epoch 00249: val_loss did not improve from 0.56259\n",
      "Epoch 250/300\n",
      " - 2s - loss: 0.3539 - acc: 0.8363 - val_loss: 0.5753 - val_acc: 0.7118\n",
      "\n",
      "Epoch 00250: val_loss did not improve from 0.56259\n",
      "Epoch 251/300\n",
      " - 2s - loss: 0.3959 - acc: 0.8081 - val_loss: 0.6380 - val_acc: 0.6855\n",
      "\n",
      "Epoch 00251: val_loss did not improve from 0.56259\n",
      "Epoch 252/300\n",
      " - 2s - loss: 0.3659 - acc: 0.8341 - val_loss: 0.6119 - val_acc: 0.6973\n",
      "\n",
      "Epoch 00252: val_loss did not improve from 0.56259\n",
      "Epoch 253/300\n",
      " - 2s - loss: 0.3540 - acc: 0.8287 - val_loss: 0.5219 - val_acc: 0.7436\n",
      "\n",
      "Epoch 00253: val_loss improved from 0.56259 to 0.52195, saving model to LSTM_new.weights.best.hdf5\n",
      "Epoch 254/300\n",
      " - 2s - loss: 0.3125 - acc: 0.8594 - val_loss: 0.5661 - val_acc: 0.7345\n",
      "\n",
      "Epoch 00254: val_loss did not improve from 0.52195\n",
      "Epoch 255/300\n",
      " - 2s - loss: 0.3146 - acc: 0.8523 - val_loss: 0.5300 - val_acc: 0.7400\n",
      "\n",
      "Epoch 00255: val_loss did not improve from 0.52195\n",
      "Epoch 256/300\n",
      " - 2s - loss: 0.3043 - acc: 0.8591 - val_loss: 0.6901 - val_acc: 0.6836\n",
      "\n",
      "Epoch 00256: val_loss did not improve from 0.52195\n",
      "Epoch 257/300\n",
      " - 2s - loss: 0.4153 - acc: 0.8004 - val_loss: 0.6174 - val_acc: 0.6555\n",
      "\n",
      "Epoch 00257: val_loss did not improve from 0.52195\n",
      "Epoch 258/300\n",
      " - 2s - loss: 0.3628 - acc: 0.8292 - val_loss: 0.6088 - val_acc: 0.7100\n",
      "\n",
      "Epoch 00258: val_loss did not improve from 0.52195\n",
      "Epoch 259/300\n",
      " - 2s - loss: 0.3848 - acc: 0.8016 - val_loss: 0.5524 - val_acc: 0.7145\n",
      "\n",
      "Epoch 00259: val_loss did not improve from 0.52195\n",
      "Epoch 260/300\n",
      " - 2s - loss: 0.3337 - acc: 0.8454 - val_loss: 0.5601 - val_acc: 0.7355\n",
      "\n",
      "Epoch 00260: val_loss did not improve from 0.52195\n",
      "Epoch 261/300\n",
      " - 2s - loss: 0.3210 - acc: 0.8460 - val_loss: 0.5448 - val_acc: 0.7291\n",
      "\n",
      "Epoch 00261: val_loss did not improve from 0.52195\n",
      "Epoch 262/300\n",
      " - 2s - loss: 0.3083 - acc: 0.8555 - val_loss: 0.5483 - val_acc: 0.7200\n",
      "\n",
      "Epoch 00262: val_loss did not improve from 0.52195\n",
      "Epoch 263/300\n",
      " - 2s - loss: 0.3326 - acc: 0.8422 - val_loss: 0.7639 - val_acc: 0.7173\n",
      "\n",
      "Epoch 00263: val_loss did not improve from 0.52195\n",
      "Epoch 264/300\n",
      " - 2s - loss: 0.4598 - acc: 0.7770 - val_loss: 0.7526 - val_acc: 0.6245\n",
      "\n",
      "Epoch 00264: val_loss did not improve from 0.52195\n",
      "Epoch 265/300\n",
      " - 2s - loss: 0.4235 - acc: 0.7911 - val_loss: 0.5764 - val_acc: 0.6818\n",
      "\n",
      "Epoch 00265: val_loss did not improve from 0.52195\n",
      "Epoch 266/300\n",
      " - 2s - loss: 0.3543 - acc: 0.8327 - val_loss: 0.5121 - val_acc: 0.7455\n",
      "\n",
      "Epoch 00266: val_loss improved from 0.52195 to 0.51211, saving model to LSTM_new.weights.best.hdf5\n",
      "Epoch 267/300\n",
      " - 2s - loss: 0.3410 - acc: 0.8388 - val_loss: 0.5186 - val_acc: 0.7409\n",
      "\n",
      "Epoch 00267: val_loss did not improve from 0.51211\n",
      "Epoch 268/300\n",
      " - 2s - loss: 0.3161 - acc: 0.8491 - val_loss: 0.4815 - val_acc: 0.7727\n",
      "\n",
      "Epoch 00268: val_loss improved from 0.51211 to 0.48148, saving model to LSTM_new.weights.best.hdf5\n",
      "Epoch 269/300\n",
      " - 2s - loss: 0.3030 - acc: 0.8596 - val_loss: 0.5304 - val_acc: 0.7573\n",
      "\n",
      "Epoch 00269: val_loss did not improve from 0.48148\n",
      "Epoch 270/300\n",
      " - 2s - loss: 0.3005 - acc: 0.8573 - val_loss: 0.5183 - val_acc: 0.7536\n",
      "\n",
      "Epoch 00270: val_loss did not improve from 0.48148\n",
      "Epoch 271/300\n",
      " - 2s - loss: 0.3040 - acc: 0.8565 - val_loss: 0.6014 - val_acc: 0.7091\n",
      "\n",
      "Epoch 00271: val_loss did not improve from 0.48148\n",
      "Epoch 272/300\n",
      " - 2s - loss: 0.3160 - acc: 0.8536 - val_loss: 0.5288 - val_acc: 0.7491\n",
      "\n",
      "Epoch 00272: val_loss did not improve from 0.48148\n",
      "Epoch 273/300\n",
      " - 2s - loss: 0.3082 - acc: 0.8566 - val_loss: 0.6085 - val_acc: 0.7118\n",
      "\n",
      "Epoch 00273: val_loss did not improve from 0.48148\n",
      "Epoch 274/300\n",
      " - 2s - loss: 0.3176 - acc: 0.8481 - val_loss: 0.4860 - val_acc: 0.7727\n",
      "\n",
      "Epoch 00274: val_loss did not improve from 0.48148\n",
      "Epoch 275/300\n",
      " - 2s - loss: 0.2841 - acc: 0.8684 - val_loss: 0.5341 - val_acc: 0.7364\n",
      "\n",
      "Epoch 00275: val_loss did not improve from 0.48148\n",
      "Epoch 276/300\n",
      " - 2s - loss: 0.2651 - acc: 0.8783 - val_loss: 0.5998 - val_acc: 0.7345\n",
      "\n",
      "Epoch 00276: val_loss did not improve from 0.48148\n",
      "Epoch 277/300\n",
      " - 2s - loss: 0.2719 - acc: 0.8715 - val_loss: 0.5557 - val_acc: 0.7291\n",
      "\n",
      "Epoch 00277: val_loss did not improve from 0.48148\n",
      "Epoch 278/300\n",
      " - 2s - loss: 0.2847 - acc: 0.8704 - val_loss: 0.6444 - val_acc: 0.6873\n",
      "\n",
      "Epoch 00278: val_loss did not improve from 0.48148\n",
      "Epoch 279/300\n",
      " - 2s - loss: 0.2943 - acc: 0.8628 - val_loss: 0.5414 - val_acc: 0.7482\n",
      "\n",
      "Epoch 00279: val_loss did not improve from 0.48148\n",
      "Epoch 280/300\n",
      " - 2s - loss: 0.2670 - acc: 0.8798 - val_loss: 0.5177 - val_acc: 0.7709\n",
      "\n",
      "Epoch 00280: val_loss did not improve from 0.48148\n",
      "Epoch 281/300\n",
      " - 2s - loss: 0.2507 - acc: 0.8867 - val_loss: 0.5144 - val_acc: 0.7764\n",
      "\n",
      "Epoch 00281: val_loss did not improve from 0.48148\n",
      "Epoch 282/300\n",
      " - 2s - loss: 0.2428 - acc: 0.8894 - val_loss: 0.5116 - val_acc: 0.7836\n",
      "\n",
      "Epoch 00282: val_loss did not improve from 0.48148\n",
      "Epoch 283/300\n",
      " - 2s - loss: 0.2653 - acc: 0.8794 - val_loss: 0.6022 - val_acc: 0.7264\n",
      "\n",
      "Epoch 00283: val_loss did not improve from 0.48148\n",
      "Epoch 284/300\n",
      " - 2s - loss: 0.3013 - acc: 0.8637 - val_loss: 0.5600 - val_acc: 0.7145\n",
      "\n",
      "Epoch 00284: val_loss did not improve from 0.48148\n",
      "Epoch 285/300\n",
      " - 2s - loss: 0.2549 - acc: 0.8816 - val_loss: 0.5892 - val_acc: 0.7545\n",
      "\n",
      "Epoch 00285: val_loss did not improve from 0.48148\n",
      "Epoch 286/300\n",
      " - 2s - loss: 0.2664 - acc: 0.8768 - val_loss: 0.5985 - val_acc: 0.7527\n",
      "\n",
      "Epoch 00286: val_loss did not improve from 0.48148\n",
      "Epoch 287/300\n",
      " - 2s - loss: 0.2513 - acc: 0.8833 - val_loss: 0.5495 - val_acc: 0.7609\n",
      "\n",
      "Epoch 00287: val_loss did not improve from 0.48148\n",
      "Epoch 288/300\n",
      " - 2s - loss: 0.2833 - acc: 0.8677 - val_loss: 0.5301 - val_acc: 0.7618\n",
      "\n",
      "Epoch 00288: val_loss did not improve from 0.48148\n",
      "Epoch 289/300\n",
      " - 2s - loss: 0.2638 - acc: 0.8812 - val_loss: 0.6375 - val_acc: 0.7218\n",
      "\n",
      "Epoch 00289: val_loss did not improve from 0.48148\n",
      "Epoch 290/300\n",
      " - 2s - loss: 0.3416 - acc: 0.8387 - val_loss: 0.5804 - val_acc: 0.7764\n",
      "\n",
      "Epoch 00290: val_loss did not improve from 0.48148\n",
      "Epoch 291/300\n",
      " - 2s - loss: 0.2719 - acc: 0.8810 - val_loss: 0.5739 - val_acc: 0.7673\n",
      "\n",
      "Epoch 00291: val_loss did not improve from 0.48148\n",
      "Epoch 292/300\n",
      " - 2s - loss: 0.2549 - acc: 0.8868 - val_loss: 0.5742 - val_acc: 0.7591\n",
      "\n",
      "Epoch 00292: val_loss did not improve from 0.48148\n",
      "Epoch 293/300\n",
      " - 2s - loss: 0.2550 - acc: 0.8840 - val_loss: 0.5576 - val_acc: 0.7418\n",
      "\n",
      "Epoch 00293: val_loss did not improve from 0.48148\n",
      "Epoch 294/300\n",
      " - 2s - loss: 0.2533 - acc: 0.8885 - val_loss: 0.5230 - val_acc: 0.7545\n",
      "\n",
      "Epoch 00294: val_loss did not improve from 0.48148\n",
      "Epoch 295/300\n",
      " - 2s - loss: 0.2680 - acc: 0.8763 - val_loss: 0.5948 - val_acc: 0.7573\n",
      "\n",
      "Epoch 00295: val_loss did not improve from 0.48148\n",
      "Epoch 296/300\n",
      " - 2s - loss: 0.2458 - acc: 0.8905 - val_loss: 0.5301 - val_acc: 0.7691\n",
      "\n",
      "Epoch 00296: val_loss did not improve from 0.48148\n",
      "Epoch 297/300\n",
      " - 2s - loss: 0.2446 - acc: 0.8880 - val_loss: 0.6009 - val_acc: 0.7091\n",
      "\n",
      "Epoch 00297: val_loss did not improve from 0.48148\n",
      "Epoch 298/300\n",
      " - 2s - loss: 0.2528 - acc: 0.8842 - val_loss: 0.5446 - val_acc: 0.7591\n",
      "\n",
      "Epoch 00298: val_loss did not improve from 0.48148\n",
      "Epoch 299/300\n",
      " - 2s - loss: 0.2403 - acc: 0.8913 - val_loss: 0.5794 - val_acc: 0.7373\n",
      "\n",
      "Epoch 00299: val_loss did not improve from 0.48148\n",
      "Epoch 300/300\n",
      " - 2s - loss: 0.2791 - acc: 0.8714 - val_loss: 0.5226 - val_acc: 0.7709\n",
      "\n",
      "Epoch 00300: val_loss did not improve from 0.48148\n"
     ]
    }
   ],
   "source": [
    "from keras.callbacks import ModelCheckpoint\n",
    "\n",
    "checkpointer = ModelCheckpoint(filepath = 'LSTM_new.weights.best.hdf5', verbose = 1, save_best_only = True)\n",
    "hist = model4.fit(X_train, y_train, epochs = 300, batch_size= 512, validation_split = 0.1, callbacks = [checkpointer], verbose = 2, shuffle = True)"
   ]
  },
  {
   "cell_type": "code",
   "execution_count": 177,
   "metadata": {
    "colab": {
     "autoexec": {
      "startup": false,
      "wait_interval": 0
     },
     "base_uri": "https://localhost:8080/",
     "height": 54
    },
    "colab_type": "code",
    "executionInfo": {
     "elapsed": 1870,
     "status": "ok",
     "timestamp": 1528839612276,
     "user": {
      "displayName": "SHUBHAM VERMA",
      "photoUrl": "https://lh3.googleusercontent.com/a/default-user=s128",
      "userId": "108363614808362191748"
     },
     "user_tz": -330
    },
    "id": "JQugXwes_aIR",
    "outputId": "934c2289-2e6a-4b99-da80-6ddeda6e442c"
   },
   "outputs": [
    {
     "name": "stdout",
     "output_type": "stream",
     "text": [
      "3980/3980 [==============================] - 1s 256us/step\n",
      "Accuracy:  0.728140703577492\n"
     ]
    }
   ],
   "source": [
    "score = model4.evaluate(X_test, y_test, verbose=1)\n",
    "print(\"Accuracy: \", score[1])"
   ]
  },
  {
   "cell_type": "code",
   "execution_count": 0,
   "metadata": {
    "colab": {
     "autoexec": {
      "startup": false,
      "wait_interval": 0
     }
    },
    "colab_type": "code",
    "id": "UVV2ZFc-EcB-"
   },
   "outputs": [],
   "source": [
    "predict5 =  [1 if a>0.5 else 0 for a in model4.predict(X_test)]"
   ]
  },
  {
   "cell_type": "code",
   "execution_count": 184,
   "metadata": {
    "colab": {
     "autoexec": {
      "startup": false,
      "wait_interval": 0
     },
     "base_uri": "https://localhost:8080/",
     "height": 91
    },
    "colab_type": "code",
    "executionInfo": {
     "elapsed": 941,
     "status": "ok",
     "timestamp": 1528839807810,
     "user": {
      "displayName": "SHUBHAM VERMA",
      "photoUrl": "https://lh3.googleusercontent.com/a/default-user=s128",
      "userId": "108363614808362191748"
     },
     "user_tz": -330
    },
    "id": "xdUgnqHrDeog",
    "outputId": "17343632-1328-4401-ebfb-f82a7a51fbc0"
   },
   "outputs": [
    {
     "name": "stdout",
     "output_type": "stream",
     "text": [
      "Accuracy = 0.728140703517588\n",
      "Precision = 0.6999573196756296\n",
      "Recall = 0.8122833085685983\n",
      "F1 Score = 0.7519486474094451\n"
     ]
    }
   ],
   "source": [
    "print(\"Accuracy = {}\\nPrecision = {}\\nRecall = {}\\nF1 Score = {}\".format(metrics.accuracy_score(y_test, predict5), metrics.precision_score(y_test, predict5),metrics.recall_score(y_test, predict5),metrics.f1_score(y_test, predict5)))\n",
    "score_p.append([metrics.accuracy_score(y_test, predict5), metrics.precision_score(y_test, predict5),metrics.recall_score(y_test, predict5),metrics.f1_score(y_test, predict5)])"
   ]
  },
  {
   "cell_type": "code",
   "execution_count": 190,
   "metadata": {
    "colab": {
     "autoexec": {
      "startup": false,
      "wait_interval": 0
     },
     "base_uri": "https://localhost:8080/",
     "height": 433
    },
    "colab_type": "code",
    "executionInfo": {
     "elapsed": 1654,
     "status": "ok",
     "timestamp": 1528840923415,
     "user": {
      "displayName": "SHUBHAM VERMA",
      "photoUrl": "https://lh3.googleusercontent.com/a/default-user=s128",
      "userId": "108363614808362191748"
     },
     "user_tz": -330
    },
    "id": "1DdDgA0tBBaA",
    "outputId": "dc119fd8-07e2-4426-cbb7-d90d6bbe89bd"
   },
   "outputs": [
    {
     "data": {
      "image/png": "[encoded data removed]",
      "text/plain": [
       "<matplotlib.figure.Figure at 0x7f7585bca828>"
      ]
     },
     "metadata": {
      "tags": []
     },
     "output_type": "display_data"
    }
   ],
   "source": [
    "plt.plot(hist.history['loss'], label = 'train')\n",
    "plt.plot(hist.history['val_loss'], label = 'valid')\n",
    "plt.legend()\n",
    "plt.show()"
   ]
  },
  {
   "cell_type": "markdown",
   "metadata": {
    "colab_type": "text",
    "id": "abJ6a5A5WQsw"
   },
   "source": [
    "# Conclusion"
   ]
  },
  {
   "cell_type": "markdown",
   "metadata": {
    "colab_type": "text",
    "id": "_ynCq160WxHd"
   },
   "source": [
    "## Ploting the results"
   ]
  },
  {
   "cell_type": "code",
   "execution_count": 185,
   "metadata": {
    "colab": {
     "autoexec": {
      "startup": false,
      "wait_interval": 0
     },
     "base_uri": "https://localhost:8080/",
     "height": 555
    },
    "colab_type": "code",
    "executionInfo": {
     "elapsed": 1318,
     "status": "ok",
     "timestamp": 1528839815479,
     "user": {
      "displayName": "SHUBHAM VERMA",
      "photoUrl": "https://lh3.googleusercontent.com/a/default-user=s128",
      "userId": "108363614808362191748"
     },
     "user_tz": -330
    },
    "id": "fqXg8759Wy4c",
    "outputId": "77825d5f-3b6b-4d55-8bd6-cacb7325f2fe"
   },
   "outputs": [
    {
     "data": {
      "image/png": "[encoded data removed]",
      "text/plain": [
       "<matplotlib.figure.Figure at 0x7f7585d67710>"
      ]
     },
     "metadata": {
      "tags": []
     },
     "output_type": "display_data"
    }
   ],
   "source": [
    "#For plotting the results code is copied from Udacity Finding Donors for Charity ML Project\n",
    "\n",
    "\n",
    "import matplotlib.pyplot as plt; plt.rcdefaults()\n",
    "import numpy as np\n",
    "import matplotlib.pyplot as plt\n",
    "import matplotlib.patches as mpatches\n",
    "\n",
    "objects = ['Accuracy score', 'Precision score', 'Recall score', 'F1 score']\n",
    "w =  0.15\n",
    "y_pos = np.arange(len(objects))\n",
    "\n",
    "color = ['#A00000','#00A0A0','#00A000', '#FFFF00']\n",
    "s = 0\n",
    "for i in range(len(score_p)):\n",
    "    plt.bar(y_pos+s, score_p[i], color = color[i], width = w )\n",
    "    s += w\n",
    "    \n",
    "plt.xticks(y_pos + 0.22, objects)\n",
    "plt.ylabel('Scores')\n",
    "plt.title('Performance')\n",
    "plt.suptitle(\"Performance Metrics for Models\", fontsize = 16, y = 1.10)\n",
    "\n",
    "p = ['SVM',  'Logistic Regression', 'Neural Network', 'LSTM']\n",
    "\n",
    "patches = []\n",
    "\n",
    "for k in range(len(p)):\n",
    "    patches.append(mpatches.Patch(color = color[k], label = p[k]))\n",
    "\n",
    "plt.legend(handles = patches, bbox_to_anchor = (0.5, 1.19),loc = 'upper center', borderaxespad = 0., ncol = 4, fontsize = 'x-large')\n",
    "\n",
    "plt.show();"
   ]
  },
  {
   "cell_type": "code",
   "execution_count": 0,
   "metadata": {
    "colab": {
     "autoexec": {
      "startup": false,
      "wait_interval": 0
     }
    },
    "colab_type": "code",
    "id": "ZQLo40OUYRtr"
   },
   "outputs": [],
   "source": []
  }
 ],
 "metadata": {
  "accelerator": "GPU",
  "colab": {
   "collapsed_sections": [],
   "default_view": {},
   "name": "Capstone.ipynb",
   "provenance": [],
   "version": "0.3.2",
   "views": {}
  },
  "kernelspec": {
   "display_name": "Python 3",
   "language": "python",
   "name": "python3"
  },
  "language_info": {
   "codemirror_mode": {
    "name": "ipython",
    "version": 3
   },
   "file_extension": ".py",
   "mimetype": "text/x-python",
   "name": "python",
   "nbconvert_exporter": "python",
   "pygments_lexer": "ipython3",
   "version": "3.6.4"
  }
 },
 "nbformat": 4,
 "nbformat_minor": 1
}
